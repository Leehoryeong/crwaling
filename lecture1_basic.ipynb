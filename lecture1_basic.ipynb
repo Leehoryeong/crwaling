{
 "cells": [
  {
   "cell_type": "code",
   "execution_count": null,
   "metadata": {},
   "outputs": [],
   "source": [
    "# 리터럴 문자와 함께 사용하기"
   ]
  },
  {
   "cell_type": "code",
   "execution_count": 5,
   "metadata": {},
   "outputs": [
    {
     "name": "stdout",
     "output_type": "stream",
     "text": [
      "aaa\n",
      "배가 무지고파서 밥을 aaa 그릇도 먹겠네 \n"
     ]
    }
   ],
   "source": [
    "hungry = input()\n",
    "print(\"배가 무지고파서 밥을 %s 그릇도 먹겠네 \" %hungry)"
   ]
  },
  {
   "cell_type": "code",
   "execution_count": 8,
   "metadata": {},
   "outputs": [
    {
     "name": "stdout",
     "output_type": "stream",
     "text": [
      "물가가 20%까지 오른다던데\n"
     ]
    }
   ],
   "source": [
    "#특수문자와 함께 사용\n",
    "up = 20\n",
    "print(\"물가가 %s%%까지 오른다던데\" %up)\n"
   ]
  },
  {
   "cell_type": "code",
   "execution_count": 9,
   "metadata": {},
   "outputs": [
    {
     "name": "stdout",
     "output_type": "stream",
     "text": [
      "물가에서 20% 오른다던데 내월급도 10% 라도\n"
     ]
    }
   ],
   "source": [
    "# 변수가 여러개인 경우\n",
    "up = 20\n",
    "sal = 10\n",
    "print(\"물가에서 %s%% 오른다던데 내월급도 %s%% 라도\" %(up,sal))"
   ]
  },
  {
   "cell_type": "code",
   "execution_count": 17,
   "metadata": {},
   "outputs": [
    {
     "name": "stdout",
     "output_type": "stream",
     "text": [
      "20% 20%\n"
     ]
    }
   ],
   "source": [
    "print(\"%s%% %s%%\" %(up,up))"
   ]
  },
  {
   "cell_type": "code",
   "execution_count": null,
   "metadata": {},
   "outputs": [],
   "source": [
    "\n",
    "\n",
    "\"\"\"\n",
    "%d 정수(1,2,3,4 등)\n",
    "%f 실수(1.23556 등)\n",
    "%s 문자열, 숫자 포함\n",
    "%c 문자('a','b' 등 하나의 문자)\n",
    "\"\"\""
   ]
  },
  {
   "cell_type": "code",
   "execution_count": 18,
   "metadata": {},
   "outputs": [
    {
     "name": "stdout",
     "output_type": "stream",
     "text": [
      "첫번째 주문하실 음식은?짜장면\n",
      "두번째 주문하실 음식은?짬뽕\n",
      "짜장면, 짬뽕 주문완료되었습니다.\n"
     ]
    }
   ],
   "source": [
    "dish1 = input(\"첫번째 주문하실 음식은?\")\n",
    "dish2 = input(\"두번째 주문하실 음식은?\")\n",
    "print(\"%s, %s 주문완료되었습니다.\" %(dish1,dish2))"
   ]
  },
  {
   "cell_type": "code",
   "execution_count": 19,
   "metadata": {},
   "outputs": [
    {
     "name": "stdout",
     "output_type": "stream",
     "text": [
      "\n",
      "1. 짜장면 2. 짬뽕 3. 울면 4. 깐풍기 5. 깐풍새우\n",
      "\n",
      "1. 주문할 메뉴 번호는?\n",
      "3\n",
      "2. 수량은?4\n",
      "메뉴 번호3 4개 주문 완료되었습니다.\n"
     ]
    }
   ],
   "source": [
    "order = input(\"\"\"\n",
    "1. 짜장면 2. 짬뽕 3. 울면 4. 깐풍기 5. 깐풍새우\n",
    "\n",
    "1. 주문할 메뉴 번호는?\n",
    "\"\"\")\n",
    "num = input(\"2. 수량은?\")\n",
    "print(\"메뉴 번호%s %s개 주문 완료되었습니다.\" %(order,num))"
   ]
  },
  {
   "cell_type": "code",
   "execution_count": 24,
   "metadata": {},
   "outputs": [
    {
     "name": "stdout",
     "output_type": "stream",
     "text": [
      "5는 j의 값\n"
     ]
    }
   ],
   "source": [
    "j = 2\n",
    "j = j+3\n",
    "print(\"%s는 j의 값\" %j)"
   ]
  },
  {
   "cell_type": "code",
   "execution_count": 23,
   "metadata": {
    "scrolled": true
   },
   "outputs": [
    {
     "name": "stdout",
     "output_type": "stream",
     "text": [
      "3는 i의 값\n"
     ]
    }
   ],
   "source": [
    "i = 1\n",
    "i += 2\n",
    "print(\"%s는 i의 값\" %i)"
   ]
  },
  {
   "cell_type": "code",
   "execution_count": 26,
   "metadata": {},
   "outputs": [
    {
     "name": "stdout",
     "output_type": "stream",
     "text": [
      "첫 숫자 입력:2\n",
      "두번째 숫자 입력:3\n",
      "첫번째 숫자는 2 두번째 숫자는 3 합은 5\n"
     ]
    }
   ],
   "source": [
    "no1 = input(\"첫 숫자 입력:\")\n",
    "no2 = input(\"두번째 숫자 입력:\")\n",
    "no1 = int(no1)\n",
    "no2 = int(no2)\n",
    "print(\"첫번째 숫자는 %s 두번째 숫자는 %s 합은 %s\" %(no1,no2,no1+no2))\n",
    "#int, float"
   ]
  },
  {
   "cell_type": "code",
   "execution_count": 34,
   "metadata": {},
   "outputs": [
    {
     "data": {
      "text/plain": [
       "6"
      ]
     },
     "execution_count": 34,
     "metadata": {},
     "output_type": "execute_result"
    }
   ],
   "source": [
    "# 숫자 함수\n",
    "round(3.141592,3)\n",
    "\n",
    "no1= 3.156\n",
    "no2= 6.331\n",
    "import math \n",
    "#버림하기\n",
    "math.trunc(no2/no1)\n",
    "# 큰 정수 찾기\n",
    "math.ceil(no2/no1)\n",
    "# 작은 정수 찾기\n",
    "math.floor(no2)\n"
   ]
  },
  {
   "cell_type": "code",
   "execution_count": 37,
   "metadata": {},
   "outputs": [
    {
     "data": {
      "text/plain": [
       "'PYTHON'"
      ]
     },
     "execution_count": 37,
     "metadata": {},
     "output_type": "execute_result"
    }
   ],
   "source": [
    "str1 = \"PyThoN\"\n",
    "str1.lower()\n",
    "str1.upper()"
   ]
  },
  {
   "cell_type": "code",
   "execution_count": 43,
   "metadata": {},
   "outputs": [
    {
     "name": "stdout",
     "output_type": "stream",
     "text": [
      "왼쪽 공백\n",
      "오른쪽 공백\n",
      "양쪽 공백\n"
     ]
    }
   ],
   "source": [
    "str3 = \"      왼쪽 공백\"\n",
    "str4 = \"오른쪽 공백    \"\n",
    "str5 = \"   양쪽 공백   \"\n",
    "print(str3.lstrip())\n",
    "print(str4.rstrip())\n",
    "print(str5.strip())"
   ]
  },
  {
   "cell_type": "code",
   "execution_count": 45,
   "metadata": {},
   "outputs": [
    {
     "name": "stdout",
     "output_type": "stream",
     "text": [
      "발이가요 발이가\n"
     ]
    }
   ],
   "source": [
    "str6 = \"손이가요 손이가\"\n",
    "print(str6.replace(\"손\",\"발\"))"
   ]
  },
  {
   "cell_type": "code",
   "execution_count": 48,
   "metadata": {},
   "outputs": [
    {
     "name": "stdout",
     "output_type": "stream",
     "text": [
      "['010', '4886', '7416']\n",
      "['010', '4886-7416']\n",
      "13\n"
     ]
    }
   ],
   "source": [
    "tel = \"010-4886-7416\"\n",
    "print(tel.split('-'))\n",
    "print(tel.split('-',1))\n",
    "\n",
    "print(len(tel))"
   ]
  },
  {
   "cell_type": "code",
   "execution_count": 54,
   "metadata": {
    "scrolled": true
   },
   "outputs": [
    {
     "name": "stdout",
     "output_type": "stream",
     "text": [
      "삭제전 목록 ['010-4886-7416', '홍길동', 'insert 요소', 30, 'append 요소']\n",
      "del 삭제 후 ['010-4886-7416', '홍길동', 30, 'append 요소']\n",
      "remove 전 ['010-4886-7416', '홍길동', 30, 'append 요소']\n",
      "remove 후 ['010-4886-7416', '홍길동', 30]\n"
     ]
    }
   ],
   "source": [
    "list1 = ['010-4886-7416','홍길동',30]\n",
    "list1[0:3]\n",
    "list1.append(\"append 요소\") #맨뒤에 추가\n",
    "list1.insert(2,\"insert 요소\")\n",
    "list1\n",
    "print(\"삭제전 목록\",list1)\n",
    "del list1[2]\n",
    "print(\"del 삭제 후\",list1)\n",
    "\n",
    "print(\"remove 전\",list1)\n",
    "list1.remove(\"append 요소\")\n",
    "print(\"remove 후\",list1)"
   ]
  },
  {
   "cell_type": "code",
   "execution_count": 56,
   "metadata": {},
   "outputs": [
    {
     "name": "stdout",
     "output_type": "stream",
     "text": [
      "이름 입력1:류\n",
      "이름 입력2:보겸\n",
      "['홍길동', '일지매', '보겸', '류']\n"
     ]
    }
   ],
   "source": [
    "sugang = [\"홍길동\",\"일지매\"]\n",
    "new1 = input(\"이름 입력1:\")\n",
    "sugang.append(new1)\n",
    "new2 = input(\"이름 입력2:\")\n",
    "sugang.insert(2,new2)\n",
    "print(sugang)"
   ]
  },
  {
   "cell_type": "code",
   "execution_count": 61,
   "metadata": {},
   "outputs": [
    {
     "name": "stdout",
     "output_type": "stream",
     "text": [
      "이름 입력:지성인\n",
      "내 이름은 지성인\n",
      "adult.ji 구독\n"
     ]
    }
   ],
   "source": [
    "name = input(\"이름 입력:\")\n",
    "\n",
    "if name == \"홍길동\":\n",
    "    print(\"너의이름은?\")\n",
    "    print(name)\n",
    "elif name == \"지성인\":\n",
    "    print(\"내 이름은 %s\" %name)\n",
    "    print(\"adult.ji 구독\")\n",
    "else:\n",
    "    print(\"아니오\")\n",
    "    print(\"제이름은 %s 입니다.\" %name)"
   ]
  },
  {
   "cell_type": "code",
   "execution_count": 63,
   "metadata": {},
   "outputs": [
    {
     "name": "stdout",
     "output_type": "stream",
     "text": [
      "숫자 입력: 4\n",
      "0\n"
     ]
    }
   ],
   "source": [
    "no1 = input(\"숫자 입력: \")\n",
    "no1 = int(no1)\n",
    "if(no1%3 == 0):\n",
    "    print(no1**2)\n",
    "else:\n",
    "    print(0)"
   ]
  },
  {
   "cell_type": "code",
   "execution_count": 64,
   "metadata": {},
   "outputs": [
    {
     "name": "stdout",
     "output_type": "stream",
     "text": [
      "사과 감 귤 중에 제일 좋아하는 것은?귤\n",
      "ha\n"
     ]
    }
   ],
   "source": [
    "fruits = input(\"사과 감 귤 중에 제일 좋아하는 것은?\")\n",
    "if fruits ==\"사과\":\n",
    "    print(\"good\")\n",
    "elif fruits ==\" 감\":\n",
    "    print(\"very good\")\n",
    "else:\n",
    "    print(\"ha\")"
   ]
  },
  {
   "cell_type": "code",
   "execution_count": 69,
   "metadata": {},
   "outputs": [
    {
     "name": "stdout",
     "output_type": "stream",
     "text": [
      "1\n",
      "3\n",
      "5\n"
     ]
    }
   ],
   "source": [
    "for i in (1,2,3):\n",
    "    print(i)"
   ]
  },
  {
   "cell_type": "code",
   "execution_count": 73,
   "metadata": {},
   "outputs": [
    {
     "name": "stdout",
     "output_type": "stream",
     "text": [
      "1 더하기 1는 귀요미\n",
      "2 더하기 2는 귀요미\n",
      "3 더하기 3는 귀요미\n",
      "4 더하기 4는 귀요미\n",
      "5 더하기 5는 귀요미\n"
     ]
    }
   ],
   "source": [
    "for i in range(1,6): # 마지막 숫자 포함 안함\n",
    "    print(\"%s 더하기 %s는 귀요미\" %(i,i))"
   ]
  },
  {
   "cell_type": "code",
   "execution_count": 71,
   "metadata": {},
   "outputs": [
    {
     "name": "stdout",
     "output_type": "stream",
     "text": [
      "대안야 잘지내니?\n",
      "한수야 잘지내니?\n",
      "용헌야 잘지내니?\n"
     ]
    }
   ],
   "source": [
    "data = [\"대안\",\"한수\",\"용헌\"]\n",
    "for i in data:\n",
    "    print(\"%s야 잘지내니?\" %i)"
   ]
  },
  {
   "cell_type": "code",
   "execution_count": 75,
   "metadata": {},
   "outputs": [
    {
     "name": "stdout",
     "output_type": "stream",
     "text": [
      "3\n",
      "5\n",
      "7\n",
      "9\n"
     ]
    }
   ],
   "source": [
    "no1 = 1\n",
    "while no1<9:\n",
    "    no1 += 2\n",
    "    print(no1)"
   ]
  },
  {
   "cell_type": "code",
   "execution_count": 77,
   "metadata": {},
   "outputs": [
    {
     "name": "stdout",
     "output_type": "stream",
     "text": [
      "새우깡 완전 맛있어요\n",
      "고구마깡 완전 맛있어요\n"
     ]
    }
   ],
   "source": [
    "snack = [\"새우깡\",\"고구마깡\",\"감자깡\",\"맛동산\",\"짱구\"]\n",
    "for i in snack:\n",
    "    if i ==\"감자깡\":\n",
    "        break\n",
    "    print(i,\"완전 맛있어요\")\n"
   ]
  },
  {
   "cell_type": "code",
   "execution_count": 78,
   "metadata": {},
   "outputs": [
    {
     "name": "stdout",
     "output_type": "stream",
     "text": [
      "새우깡 완전 맛있어요\n",
      "고구마깡 완전 맛있어요\n",
      "맛동산 완전 맛있어요\n",
      "짱구 완전 맛있어요\n"
     ]
    }
   ],
   "source": [
    "snack = [\"새우깡\",\"고구마깡\",\"감자깡\",\"맛동산\",\"짱구\"]\n",
    "for i in snack:\n",
    "    if i ==\"감자깡\":\n",
    "        continue\n",
    "    print(i,\"완전 맛있어요\")\n"
   ]
  },
  {
   "cell_type": "code",
   "execution_count": 12,
   "metadata": {},
   "outputs": [
    {
     "name": "stdout",
     "output_type": "stream",
     "text": [
      "1. 짜장면 - 5,000원   2.짬뽕 - 6,000원\n",
      "3. 군만두 - 8,000원   4.탕수육 - 10,000\n",
      "\n",
      "1. 위 메뉴 중 주문할 메뉴의 번호를 쓰세요:2\n",
      "2. 위 메뉴 주문 수량을 쓰세요:3\n",
      "\n",
      "주문하신 메뉴는 짬뽕 이고 주문 금액은 18000원입니다.\n",
      "추가 주문 하시겠습니까? (Y/N)n\n"
     ]
    }
   ],
   "source": [
    "print(\"1. 짜장면 - 5,000원   2.짬뽕 - 6,000원\\n3. 군만두 - 8,000원   4.탕수육 - 10,000\")\n",
    "menu = input(\"\\n1. 위 메뉴 중 주문할 메뉴의 번호를 쓰세요:\")\n",
    "num = input(\"2. 위 메뉴 주문 수량을 쓰세요:\")\n",
    "dict1 = {\"1\":[\"짜장면\",5000],\"2\":[\"짬뽕\",6000],\"3\":[\"군만두\",8000],\"4\":[\"탕수육\",10000]}\n",
    "print(\"\\n주문하신 메뉴는 %s 이고 주문 금액은 %s원입니다.\" %(dict1[menu][0],dict1[menu][1]*int(num)))\n",
    "\n",
    "choice = input(\"추가 주문 하시겠습니까? (Y/N)\")\n",
    "if choice == 'y' or choice ==\"Y\":\n",
    "    print(\"1. 짜장면 - 5,000원   2.짬뽕 - 6,000원\\n3. 군만두 - 8,000원   4.탕수육 - 10,000\")\n",
    "    menu = input(\"\\n1. 위 메뉴 중 주문할 메뉴의 번호를 쓰세요:\")\n",
    "    num = input(\"2. 위 메뉴 주문 수량을 쓰세요:\")\n"
   ]
  },
  {
   "cell_type": "code",
   "execution_count": 7,
   "metadata": {},
   "outputs": [
    {
     "name": "stdout",
     "output_type": "stream",
     "text": [
      "짬뽕\n"
     ]
    }
   ],
   "source": [
    "dict1 = {\"1\":[\"짜장면\",5000],\"2\":[\"짬뽕\",6000],\"3\":[\"군만두\",8000],\"4\":[\"탕수육\",10000]}\n",
    "print(dict1[menu][0])"
   ]
  },
  {
   "cell_type": "code",
   "execution_count": null,
   "metadata": {},
   "outputs": [],
   "source": []
  },
  {
   "cell_type": "code",
   "execution_count": null,
   "metadata": {},
   "outputs": [],
   "source": [
    "\n",
    "!pip install requsets"
   ]
  },
  {
   "cell_type": "code",
   "execution_count": null,
   "metadata": {},
   "outputs": [],
   "source": [
    "!pip install beautifulsoup4"
   ]
  },
  {
   "cell_type": "code",
   "execution_count": null,
   "metadata": {},
   "outputs": [],
   "source": [
    "import requests\n",
    "from bs4 "
   ]
  },
  {
   "cell_type": "code",
   "execution_count": null,
   "metadata": {},
   "outputs": [],
   "source": []
  }
 ],
 "metadata": {
  "kernelspec": {
   "display_name": "Python 3",
   "language": "python",
   "name": "python3"
  },
  "language_info": {
   "codemirror_mode": {
    "name": "ipython",
    "version": 3
   },
   "file_extension": ".py",
   "mimetype": "text/x-python",
   "name": "python",
   "nbconvert_exporter": "python",
   "pygments_lexer": "ipython3",
   "version": "3.7.0"
  }
 },
 "nbformat": 4,
 "nbformat_minor": 2
}
