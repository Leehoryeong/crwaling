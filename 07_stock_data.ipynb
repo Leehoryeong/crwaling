{
 "cells": [
  {
   "cell_type": "code",
   "execution_count": null,
   "metadata": {},
   "outputs": [],
   "source": [
    "# 다음 증권 정보에서 -> 특정 업체의 주가를 다운로드\n",
    "# pandas를 이용해 분석\n",
    "# dead cross, golden cross를 그래프로 그려보기"
   ]
  },
  {
   "cell_type": "code",
   "execution_count": null,
   "metadata": {},
   "outputs": [],
   "source": [
    "# 검사에서 f1 클릭 후 disable javascript 선택 후 새로고침하면 크롤링 불가능한거 안나옴\n",
    "# network에서 clearance 후 작동시 나오는 데이터가 내가 원하는 것"
   ]
  },
  {
   "cell_type": "code",
   "execution_count": null,
   "metadata": {},
   "outputs": [],
   "source": [
    "# 1. 다음 증권 사이트에서 데이터 수집\n",
    "# 2. "
   ]
  },
  {
   "cell_type": "code",
   "execution_count": 57,
   "metadata": {},
   "outputs": [],
   "source": [
    "import requests\n",
    "import json\n",
    "import pandas as pd\n",
    "import time"
   ]
  },
  {
   "cell_type": "code",
   "execution_count": 10,
   "metadata": {},
   "outputs": [],
   "source": [
    "url = \"http://finance.daum.net/api/quote/A005930/days\""
   ]
  },
  {
   "cell_type": "code",
   "execution_count": 3,
   "metadata": {},
   "outputs": [],
   "source": [
    "req = requests.get(url)"
   ]
  },
  {
   "cell_type": "code",
   "execution_count": null,
   "metadata": {},
   "outputs": [],
   "source": [
    "data=get_stock_data(\"A005930\",1)\n",
    "if data:\n",
    "    json_data=json.loads(data)\n",
    "    stock_data = pd.DataFrame(json_data['data'])\n",
    "    total_Pages =  int(json_data['totalPages'])\n",
    "    for page in range(2, total_Pages+1):\n",
    "        time.sleep(1)\n",
    "        data=get_stock_data(\"A005930\",page)\n",
    "        json_data=json.loads(data)\n",
    "        stock_data = pd.concat([stock_data,pd.DataFrame(json_data['data'])])\n",
    "stock_data.head()"
   ]
  },
  {
   "cell_type": "code",
   "execution_count": 60,
   "metadata": {},
   "outputs": [
    {
     "data": {
      "text/html": [
       "<div>\n",
       "<style scoped>\n",
       "    .dataframe tbody tr th:only-of-type {\n",
       "        vertical-align: middle;\n",
       "    }\n",
       "\n",
       "    .dataframe tbody tr th {\n",
       "        vertical-align: top;\n",
       "    }\n",
       "\n",
       "    .dataframe thead th {\n",
       "        text-align: right;\n",
       "    }\n",
       "</style>\n",
       "<table border=\"1\" class=\"dataframe\">\n",
       "  <thead>\n",
       "    <tr style=\"text-align: right;\">\n",
       "      <th></th>\n",
       "      <th>symbolCode</th>\n",
       "      <th>date</th>\n",
       "      <th>tradePrice</th>\n",
       "      <th>tradeTime</th>\n",
       "      <th>change</th>\n",
       "      <th>changePrice</th>\n",
       "      <th>changeRate</th>\n",
       "      <th>prevClosingPrice</th>\n",
       "      <th>exchangeCountry</th>\n",
       "      <th>openingPrice</th>\n",
       "      <th>highPrice</th>\n",
       "      <th>lowPrice</th>\n",
       "      <th>accTradePrice</th>\n",
       "      <th>accTradeVolume</th>\n",
       "      <th>periodTradePrice</th>\n",
       "      <th>periodTradeVolume</th>\n",
       "    </tr>\n",
       "  </thead>\n",
       "  <tbody>\n",
       "    <tr>\n",
       "      <th>0</th>\n",
       "      <td>A005930</td>\n",
       "      <td>2020-01-30 15:30:23</td>\n",
       "      <td>57200.0</td>\n",
       "      <td>15:30:23</td>\n",
       "      <td>FALL</td>\n",
       "      <td>1900.0</td>\n",
       "      <td>-0.032149</td>\n",
       "      <td>59100.0</td>\n",
       "      <td>KOREA</td>\n",
       "      <td>58800.0</td>\n",
       "      <td>58800.0</td>\n",
       "      <td>56800.0</td>\n",
       "      <td>1197261686900</td>\n",
       "      <td>20723576</td>\n",
       "      <td>1197261686900</td>\n",
       "      <td>20723576</td>\n",
       "    </tr>\n",
       "    <tr>\n",
       "      <th>1</th>\n",
       "      <td>A005930</td>\n",
       "      <td>2020-01-29 15:30:24</td>\n",
       "      <td>59100.0</td>\n",
       "      <td>15:30:24</td>\n",
       "      <td>RISE</td>\n",
       "      <td>300.0</td>\n",
       "      <td>0.005102</td>\n",
       "      <td>58800.0</td>\n",
       "      <td>KOREA</td>\n",
       "      <td>59100.0</td>\n",
       "      <td>59700.0</td>\n",
       "      <td>58800.0</td>\n",
       "      <td>975344481100</td>\n",
       "      <td>16446102</td>\n",
       "      <td>975344481100</td>\n",
       "      <td>16446102</td>\n",
       "    </tr>\n",
       "    <tr>\n",
       "      <th>2</th>\n",
       "      <td>A005930</td>\n",
       "      <td>2020-01-28 15:30:29</td>\n",
       "      <td>58800.0</td>\n",
       "      <td>15:30:29</td>\n",
       "      <td>FALL</td>\n",
       "      <td>2000.0</td>\n",
       "      <td>-0.032895</td>\n",
       "      <td>60800.0</td>\n",
       "      <td>KOREA</td>\n",
       "      <td>59400.0</td>\n",
       "      <td>59400.0</td>\n",
       "      <td>58300.0</td>\n",
       "      <td>1394361672900</td>\n",
       "      <td>23664541</td>\n",
       "      <td>1394361672900</td>\n",
       "      <td>23664541</td>\n",
       "    </tr>\n",
       "    <tr>\n",
       "      <th>3</th>\n",
       "      <td>A005930</td>\n",
       "      <td>2020-01-23 15:30:12</td>\n",
       "      <td>60800.0</td>\n",
       "      <td>15:30:12</td>\n",
       "      <td>FALL</td>\n",
       "      <td>1500.0</td>\n",
       "      <td>-0.024077</td>\n",
       "      <td>62300.0</td>\n",
       "      <td>KOREA</td>\n",
       "      <td>61800.0</td>\n",
       "      <td>61800.0</td>\n",
       "      <td>60700.0</td>\n",
       "      <td>912319470070</td>\n",
       "      <td>14916555</td>\n",
       "      <td>912319470070</td>\n",
       "      <td>14916555</td>\n",
       "    </tr>\n",
       "    <tr>\n",
       "      <th>4</th>\n",
       "      <td>A005930</td>\n",
       "      <td>2020-01-22 15:30:01</td>\n",
       "      <td>62300.0</td>\n",
       "      <td>15:30:01</td>\n",
       "      <td>RISE</td>\n",
       "      <td>900.0</td>\n",
       "      <td>0.014658</td>\n",
       "      <td>61400.0</td>\n",
       "      <td>KOREA</td>\n",
       "      <td>60500.0</td>\n",
       "      <td>62600.0</td>\n",
       "      <td>60400.0</td>\n",
       "      <td>943882357729</td>\n",
       "      <td>15339565</td>\n",
       "      <td>943882357729</td>\n",
       "      <td>15339565</td>\n",
       "    </tr>\n",
       "  </tbody>\n",
       "</table>\n",
       "</div>"
      ],
      "text/plain": [
       "  symbolCode                 date  tradePrice tradeTime change  changePrice  \\\n",
       "0    A005930  2020-01-30 15:30:23     57200.0  15:30:23   FALL       1900.0   \n",
       "1    A005930  2020-01-29 15:30:24     59100.0  15:30:24   RISE        300.0   \n",
       "2    A005930  2020-01-28 15:30:29     58800.0  15:30:29   FALL       2000.0   \n",
       "3    A005930  2020-01-23 15:30:12     60800.0  15:30:12   FALL       1500.0   \n",
       "4    A005930  2020-01-22 15:30:01     62300.0  15:30:01   RISE        900.0   \n",
       "\n",
       "   changeRate  prevClosingPrice exchangeCountry  openingPrice  highPrice  \\\n",
       "0   -0.032149           59100.0           KOREA       58800.0    58800.0   \n",
       "1    0.005102           58800.0           KOREA       59100.0    59700.0   \n",
       "2   -0.032895           60800.0           KOREA       59400.0    59400.0   \n",
       "3   -0.024077           62300.0           KOREA       61800.0    61800.0   \n",
       "4    0.014658           61400.0           KOREA       60500.0    62600.0   \n",
       "\n",
       "   lowPrice  accTradePrice  accTradeVolume  periodTradePrice  \\\n",
       "0   56800.0  1197261686900        20723576     1197261686900   \n",
       "1   58800.0   975344481100        16446102      975344481100   \n",
       "2   58300.0  1394361672900        23664541     1394361672900   \n",
       "3   60700.0   912319470070        14916555      912319470070   \n",
       "4   60400.0   943882357729        15339565      943882357729   \n",
       "\n",
       "   periodTradeVolume  \n",
       "0           20723576  \n",
       "1           16446102  \n",
       "2           23664541  \n",
       "3           14916555  \n",
       "4           15339565  "
      ]
     },
     "execution_count": 60,
     "metadata": {},
     "output_type": "execute_result"
    }
   ],
   "source": [
    "stock_data.head()\n",
    "# 시고저종 - 시가, 고가, 저가, 종가"
   ]
  },
  {
   "cell_type": "code",
   "execution_count": null,
   "metadata": {},
   "outputs": [],
   "source": [
    "stock_data.info()"
   ]
  },
  {
   "cell_type": "code",
   "execution_count": 63,
   "metadata": {},
   "outputs": [],
   "source": [
    "# 1. 전처리 - 날짜 데이터가 날짜 형태가 아니라서 -> 형변환\n",
    "# 원하는 열을 형변환 한다.\n",
    "# 원하는 열을 선택해서 형변환 한다.\n",
    "stock_data[\"date\"] = pd.to_datetime(stock_data[\"date\"],\n",
    "                                    format=\"%Y-%m-%d %H:%M:%S\",\n",
    "                                    errors=\"coerce\")"
   ]
  },
  {
   "cell_type": "code",
   "execution_count": 64,
   "metadata": {},
   "outputs": [
    {
     "data": {
      "text/plain": [
       "0    2020-01-30 15:30:23\n",
       "1    2020-01-29 15:30:24\n",
       "2    2020-01-28 15:30:29\n",
       "3    2020-01-23 15:30:12\n",
       "4    2020-01-22 15:30:01\n",
       "             ...        \n",
       "87   1983-05-10 00:00:00\n",
       "88   1983-05-09 00:00:00\n",
       "89   1983-05-06 00:00:00\n",
       "90   1983-05-04 00:00:00\n",
       "91   1983-05-03 00:00:00\n",
       "Name: date, Length: 8892, dtype: datetime64[ns]"
      ]
     },
     "execution_count": 64,
     "metadata": {},
     "output_type": "execute_result"
    }
   ],
   "source": [
    "stock_data[\"date\"]"
   ]
  },
  {
   "cell_type": "code",
   "execution_count": 69,
   "metadata": {},
   "outputs": [],
   "source": [
    "#2. 인덱스 설정\n",
    "# * 판다스의 메서드들은 대부분 원본은 그대로 두고, 복사본을 준다. \n",
    "# stock_data = stock_data.set_index('date') 아래와 같은 방법(데이터 원본을 수정)\n",
    "# stock_data.set_index('date',inplace=True)\n",
    "# stock_data.index \\ stock_data['index']"
   ]
  },
  {
   "cell_type": "code",
   "execution_count": 73,
   "metadata": {},
   "outputs": [],
   "source": [
    "# 3. 정렬하기\n",
    "stock_data = stock_data.sort_index()"
   ]
  },
  {
   "cell_type": "code",
   "execution_count": 76,
   "metadata": {},
   "outputs": [
    {
     "data": {
      "text/plain": [
       "date\n",
       "1983-05-03 00:00:00        NaN\n",
       "1983-05-04 00:00:00        NaN\n",
       "1983-05-06 00:00:00        NaN\n",
       "1983-05-09 00:00:00        NaN\n",
       "1983-05-10 00:00:00     4670.4\n",
       "                        ...   \n",
       "2020-01-22 15:30:01    61620.0\n",
       "2020-01-23 15:30:12    61640.0\n",
       "2020-01-28 15:30:29    61140.0\n",
       "2020-01-29 15:30:24    60480.0\n",
       "2020-01-30 15:30:23    59640.0\n",
       "Name: tradePrice, Length: 8892, dtype: float64"
      ]
     },
     "execution_count": 76,
     "metadata": {},
     "output_type": "execute_result"
    }
   ],
   "source": [
    "# 4. 이동평균 데이터 구하기\n",
    "stock_data['tradePrice'].rolling(window=5).mean()"
   ]
  },
  {
   "cell_type": "code",
   "execution_count": 77,
   "metadata": {},
   "outputs": [],
   "source": [
    "# 5. 새로운 열을 만들어서 데이터 저장하기\n",
    "stock_data['5일이평'] = stock_data['tradePrice'].rolling(window=5).mean()"
   ]
  },
  {
   "cell_type": "code",
   "execution_count": 81,
   "metadata": {},
   "outputs": [],
   "source": [
    "# 30일이평, 60일이평 계산해서 저장하기\n",
    "stock_data['30일이평'] = stock_data['tradePrice'].rolling(window=30).mean()\n",
    "stock_data['60일이평'] = stock_data['tradePrice'].rolling(window=60).mean()"
   ]
  },
  {
   "cell_type": "code",
   "execution_count": null,
   "metadata": {},
   "outputs": [],
   "source": [
    "np.nan #Not a Number -> 결측치\n",
    "# 전처리 -> 결측치 처리\n",
    "# 1. 결측치가 있는 데이터(열,행) 지운다.\n",
    "# 2. 특정 값으로 채운다.\n",
    "# 2-1. 대표값으로 채운다 - 전체 데이터의 평균\n",
    "# 2-2. 끌어다 채우기 -> 앞, 전 열(행)의 값을 끌어다 채우기\n",
    "# 2-3. 유추값으로 채우기\n",
    "np.inf #infinite"
   ]
  },
  {
   "cell_type": "code",
   "execution_count": null,
   "metadata": {},
   "outputs": [],
   "source": [
    "# 6. 단>장 - 단<장\n",
    "# 6. 단<장 - 단>장"
   ]
  },
  {
   "cell_type": "code",
   "execution_count": 87,
   "metadata": {},
   "outputs": [],
   "source": [
    "stock_data['5일이평_prev']=stock_data['5일이평'].shift(1)"
   ]
  },
  {
   "cell_type": "code",
   "execution_count": 90,
   "metadata": {},
   "outputs": [],
   "source": [
    "stock_data['30일이평_prev']=stock_data['30일이평'].shift(1)"
   ]
  },
  {
   "cell_type": "code",
   "execution_count": 91,
   "metadata": {},
   "outputs": [],
   "source": [
    "stock_data['60일이평_prev']=stock_data['60일이평'].shift(1)"
   ]
  },
  {
   "cell_type": "code",
   "execution_count": 94,
   "metadata": {},
   "outputs": [],
   "source": [
    "# 열 데이터 비교하기\n",
    "# 어제는 단기이평이 장기 이평보다 낮고, 오늘은 단기이평이 장기 이평보다 높다.\n",
    "golden = (stock_data['5일이평_prev'] < stock_data['30일이평_prev']) & (stock_data['5일이평'] > stock_data['30일이평'])"
   ]
  },
  {
   "cell_type": "code",
   "execution_count": null,
   "metadata": {},
   "outputs": [],
   "source": [
    "# 7. 원하는 조건에 맞는 열만 찾아보기\n",
    "stock_data[golden == True]"
   ]
  },
  {
   "cell_type": "code",
   "execution_count": 99,
   "metadata": {},
   "outputs": [],
   "source": [
    "# 어제는 단기이평이 장기 이평보다 높고, 오늘은 단기이평이 장기 이평보다 낮다.\n",
    "dead = (stock_data['5일이평_prev'] > stock_data['30일이평_prev']) & (stock_data['5일이평'] < stock_data['30일이평'])"
   ]
  },
  {
   "cell_type": "code",
   "execution_count": null,
   "metadata": {},
   "outputs": [],
   "source": [
    "stock_data[dead == True]"
   ]
  },
  {
   "cell_type": "code",
   "execution_count": 101,
   "metadata": {},
   "outputs": [],
   "source": [
    "stock_data['golden'] = golden\n",
    "stock_data['dead'] = dead"
   ]
  },
  {
   "cell_type": "code",
   "execution_count": null,
   "metadata": {},
   "outputs": [],
   "source": []
  },
  {
   "cell_type": "code",
   "execution_count": null,
   "metadata": {},
   "outputs": [],
   "source": [
    "# 8. 처음으로 주가가 만원이 넘은날 찾기\n",
    "stock_data[stock_data['tradePrice']>10000]"
   ]
  },
  {
   "cell_type": "code",
   "execution_count": 103,
   "metadata": {},
   "outputs": [],
   "source": [
    "import matplotlib\n",
    "import matplotlib.pyplot as plt"
   ]
  },
  {
   "cell_type": "code",
   "execution_count": 104,
   "metadata": {},
   "outputs": [],
   "source": [
    "# 폰트 변경\n",
    "plt.rc('font',family = 'Gulim')"
   ]
  },
  {
   "cell_type": "code",
   "execution_count": 119,
   "metadata": {},
   "outputs": [
    {
     "data": {
      "image/png": "[encoded data removed]",
      "text/plain": [
       "<Figure size 720x480 with 1 Axes>"
      ]
     },
     "metadata": {
      "needs_background": "light"
     },
     "output_type": "display_data"
    }
   ],
   "source": [
    "# 해상도\n",
    "plt.figure(dpi=120)\n",
    "# 선그래프\n",
    "plt.plot(stock_data.index,stock_data['5일이평'], 'g',label=\"5일 이평\")\n",
    "plt.plot(stock_data.index,stock_data['30일이평'], 'r', label=\"30일 이평\")\n",
    "plt.plot(stock_data.index,stock_data['60일이평'], 'b', label=\"60일 이평\")\n",
    "# cross발생 지점 표시하기\n",
    "plt.plot(stock_data.loc[stock_data.golden==True].index,\n",
    "         stock_data['5일이평'][stock_data.golden==True], \n",
    "         '^',c='gold')\n",
    "plt.plot(stock_data.loc[stock_data.dead==True].index,\n",
    "         stock_data['5일이평'][stock_data.dead==True], \n",
    "         'v',c='k')\n",
    "# 데이터 범위\n",
    "plt.xlim([\"2013-01-01\",\"2019-01-01\"])\n",
    "# 범례 표시\n",
    "plt.legend(loc='best')\n",
    "plt.xlabel(\"거래일\")\n",
    "plt.ylabel(\"종가\")\n",
    "plt.title(\"삼성전자 주가 그래프\")\n",
    "plt.savefig(\"samsung.png\")"
   ]
  },
  {
   "cell_type": "code",
   "execution_count": 89,
   "metadata": {},
   "outputs": [
    {
     "data": {
      "text/html": [
       "<div>\n",
       "<style scoped>\n",
       "    .dataframe tbody tr th:only-of-type {\n",
       "        vertical-align: middle;\n",
       "    }\n",
       "\n",
       "    .dataframe tbody tr th {\n",
       "        vertical-align: top;\n",
       "    }\n",
       "\n",
       "    .dataframe thead th {\n",
       "        text-align: right;\n",
       "    }\n",
       "</style>\n",
       "<table border=\"1\" class=\"dataframe\">\n",
       "  <thead>\n",
       "    <tr style=\"text-align: right;\">\n",
       "      <th></th>\n",
       "      <th>symbolCode</th>\n",
       "      <th>tradePrice</th>\n",
       "      <th>tradeTime</th>\n",
       "      <th>change</th>\n",
       "      <th>changePrice</th>\n",
       "      <th>changeRate</th>\n",
       "      <th>prevClosingPrice</th>\n",
       "      <th>exchangeCountry</th>\n",
       "      <th>openingPrice</th>\n",
       "      <th>highPrice</th>\n",
       "      <th>lowPrice</th>\n",
       "      <th>accTradePrice</th>\n",
       "      <th>accTradeVolume</th>\n",
       "      <th>periodTradePrice</th>\n",
       "      <th>periodTradeVolume</th>\n",
       "      <th>5일이평</th>\n",
       "      <th>30일이평</th>\n",
       "      <th>60일이평</th>\n",
       "      <th>5일이평_prev</th>\n",
       "    </tr>\n",
       "    <tr>\n",
       "      <th>date</th>\n",
       "      <th></th>\n",
       "      <th></th>\n",
       "      <th></th>\n",
       "      <th></th>\n",
       "      <th></th>\n",
       "      <th></th>\n",
       "      <th></th>\n",
       "      <th></th>\n",
       "      <th></th>\n",
       "      <th></th>\n",
       "      <th></th>\n",
       "      <th></th>\n",
       "      <th></th>\n",
       "      <th></th>\n",
       "      <th></th>\n",
       "      <th></th>\n",
       "      <th></th>\n",
       "      <th></th>\n",
       "      <th></th>\n",
       "    </tr>\n",
       "  </thead>\n",
       "  <tbody>\n",
       "    <tr>\n",
       "      <th>1983-05-03</th>\n",
       "      <td>A005930</td>\n",
       "      <td>4509.0</td>\n",
       "      <td>00:00:00</td>\n",
       "      <td>EVEN</td>\n",
       "      <td>0.0</td>\n",
       "      <td>0.0</td>\n",
       "      <td>4509.0</td>\n",
       "      <td>KOREA</td>\n",
       "      <td>4553.0</td>\n",
       "      <td>4575.0</td>\n",
       "      <td>4486.0</td>\n",
       "      <td>0</td>\n",
       "      <td>115399</td>\n",
       "      <td>0</td>\n",
       "      <td>115399</td>\n",
       "      <td>NaN</td>\n",
       "      <td>NaN</td>\n",
       "      <td>NaN</td>\n",
       "      <td>NaN</td>\n",
       "    </tr>\n",
       "    <tr>\n",
       "      <th>1983-05-04</th>\n",
       "      <td>A005930</td>\n",
       "      <td>4717.0</td>\n",
       "      <td>00:00:00</td>\n",
       "      <td>EVEN</td>\n",
       "      <td>0.0</td>\n",
       "      <td>0.0</td>\n",
       "      <td>4717.0</td>\n",
       "      <td>KOREA</td>\n",
       "      <td>4509.0</td>\n",
       "      <td>4753.0</td>\n",
       "      <td>4469.0</td>\n",
       "      <td>0</td>\n",
       "      <td>90275</td>\n",
       "      <td>0</td>\n",
       "      <td>90275</td>\n",
       "      <td>NaN</td>\n",
       "      <td>NaN</td>\n",
       "      <td>NaN</td>\n",
       "      <td>NaN</td>\n",
       "    </tr>\n",
       "    <tr>\n",
       "      <th>1983-05-06</th>\n",
       "      <td>A005930</td>\n",
       "      <td>4731.0</td>\n",
       "      <td>00:00:00</td>\n",
       "      <td>EVEN</td>\n",
       "      <td>0.0</td>\n",
       "      <td>0.0</td>\n",
       "      <td>4731.0</td>\n",
       "      <td>KOREA</td>\n",
       "      <td>4708.0</td>\n",
       "      <td>4820.0</td>\n",
       "      <td>4668.0</td>\n",
       "      <td>0</td>\n",
       "      <td>153850</td>\n",
       "      <td>0</td>\n",
       "      <td>153850</td>\n",
       "      <td>NaN</td>\n",
       "      <td>NaN</td>\n",
       "      <td>NaN</td>\n",
       "      <td>NaN</td>\n",
       "    </tr>\n",
       "    <tr>\n",
       "      <th>1983-05-09</th>\n",
       "      <td>A005930</td>\n",
       "      <td>4820.0</td>\n",
       "      <td>00:00:00</td>\n",
       "      <td>EVEN</td>\n",
       "      <td>0.0</td>\n",
       "      <td>0.0</td>\n",
       "      <td>4820.0</td>\n",
       "      <td>KOREA</td>\n",
       "      <td>4775.0</td>\n",
       "      <td>4851.0</td>\n",
       "      <td>4775.0</td>\n",
       "      <td>0</td>\n",
       "      <td>150338</td>\n",
       "      <td>0</td>\n",
       "      <td>150338</td>\n",
       "      <td>NaN</td>\n",
       "      <td>NaN</td>\n",
       "      <td>NaN</td>\n",
       "      <td>NaN</td>\n",
       "    </tr>\n",
       "    <tr>\n",
       "      <th>1983-05-10</th>\n",
       "      <td>A005930</td>\n",
       "      <td>4575.0</td>\n",
       "      <td>00:00:00</td>\n",
       "      <td>EVEN</td>\n",
       "      <td>0.0</td>\n",
       "      <td>0.0</td>\n",
       "      <td>4575.0</td>\n",
       "      <td>KOREA</td>\n",
       "      <td>4780.0</td>\n",
       "      <td>4797.0</td>\n",
       "      <td>4535.0</td>\n",
       "      <td>0</td>\n",
       "      <td>64025</td>\n",
       "      <td>0</td>\n",
       "      <td>64025</td>\n",
       "      <td>4670.4</td>\n",
       "      <td>NaN</td>\n",
       "      <td>NaN</td>\n",
       "      <td>NaN</td>\n",
       "    </tr>\n",
       "    <tr>\n",
       "      <th>1983-05-11</th>\n",
       "      <td>A005930</td>\n",
       "      <td>4478.0</td>\n",
       "      <td>00:00:00</td>\n",
       "      <td>EVEN</td>\n",
       "      <td>0.0</td>\n",
       "      <td>0.0</td>\n",
       "      <td>4478.0</td>\n",
       "      <td>KOREA</td>\n",
       "      <td>4531.0</td>\n",
       "      <td>4531.0</td>\n",
       "      <td>4442.0</td>\n",
       "      <td>0</td>\n",
       "      <td>55358</td>\n",
       "      <td>0</td>\n",
       "      <td>55358</td>\n",
       "      <td>4664.2</td>\n",
       "      <td>NaN</td>\n",
       "      <td>NaN</td>\n",
       "      <td>4670.4</td>\n",
       "    </tr>\n",
       "    <tr>\n",
       "      <th>1983-05-12</th>\n",
       "      <td>A005930</td>\n",
       "      <td>4349.0</td>\n",
       "      <td>00:00:00</td>\n",
       "      <td>EVEN</td>\n",
       "      <td>0.0</td>\n",
       "      <td>0.0</td>\n",
       "      <td>4349.0</td>\n",
       "      <td>KOREA</td>\n",
       "      <td>4442.0</td>\n",
       "      <td>4442.0</td>\n",
       "      <td>4313.0</td>\n",
       "      <td>0</td>\n",
       "      <td>66749</td>\n",
       "      <td>0</td>\n",
       "      <td>66749</td>\n",
       "      <td>4590.6</td>\n",
       "      <td>NaN</td>\n",
       "      <td>NaN</td>\n",
       "      <td>4664.2</td>\n",
       "    </tr>\n",
       "    <tr>\n",
       "      <th>1983-05-13</th>\n",
       "      <td>A005930</td>\n",
       "      <td>4353.0</td>\n",
       "      <td>00:00:00</td>\n",
       "      <td>EVEN</td>\n",
       "      <td>0.0</td>\n",
       "      <td>0.0</td>\n",
       "      <td>4353.0</td>\n",
       "      <td>KOREA</td>\n",
       "      <td>4375.0</td>\n",
       "      <td>4486.0</td>\n",
       "      <td>4349.0</td>\n",
       "      <td>0</td>\n",
       "      <td>122806</td>\n",
       "      <td>0</td>\n",
       "      <td>122806</td>\n",
       "      <td>4515.0</td>\n",
       "      <td>NaN</td>\n",
       "      <td>NaN</td>\n",
       "      <td>4590.6</td>\n",
       "    </tr>\n",
       "    <tr>\n",
       "      <th>1983-05-16</th>\n",
       "      <td>A005930</td>\n",
       "      <td>4171.0</td>\n",
       "      <td>00:00:00</td>\n",
       "      <td>EVEN</td>\n",
       "      <td>0.0</td>\n",
       "      <td>0.0</td>\n",
       "      <td>4171.0</td>\n",
       "      <td>KOREA</td>\n",
       "      <td>4286.0</td>\n",
       "      <td>4286.0</td>\n",
       "      <td>4131.0</td>\n",
       "      <td>0</td>\n",
       "      <td>49482</td>\n",
       "      <td>0</td>\n",
       "      <td>49482</td>\n",
       "      <td>4385.2</td>\n",
       "      <td>NaN</td>\n",
       "      <td>NaN</td>\n",
       "      <td>4515.0</td>\n",
       "    </tr>\n",
       "    <tr>\n",
       "      <th>1983-05-17</th>\n",
       "      <td>A005930</td>\n",
       "      <td>4158.0</td>\n",
       "      <td>00:00:00</td>\n",
       "      <td>EVEN</td>\n",
       "      <td>0.0</td>\n",
       "      <td>0.0</td>\n",
       "      <td>4158.0</td>\n",
       "      <td>KOREA</td>\n",
       "      <td>4198.0</td>\n",
       "      <td>4242.0</td>\n",
       "      <td>4131.0</td>\n",
       "      <td>0</td>\n",
       "      <td>36920</td>\n",
       "      <td>0</td>\n",
       "      <td>36920</td>\n",
       "      <td>4301.8</td>\n",
       "      <td>NaN</td>\n",
       "      <td>NaN</td>\n",
       "      <td>4385.2</td>\n",
       "    </tr>\n",
       "  </tbody>\n",
       "</table>\n",
       "</div>"
      ],
      "text/plain": [
       "           symbolCode  tradePrice tradeTime change  changePrice  changeRate  \\\n",
       "date                                                                          \n",
       "1983-05-03    A005930      4509.0  00:00:00   EVEN          0.0         0.0   \n",
       "1983-05-04    A005930      4717.0  00:00:00   EVEN          0.0         0.0   \n",
       "1983-05-06    A005930      4731.0  00:00:00   EVEN          0.0         0.0   \n",
       "1983-05-09    A005930      4820.0  00:00:00   EVEN          0.0         0.0   \n",
       "1983-05-10    A005930      4575.0  00:00:00   EVEN          0.0         0.0   \n",
       "1983-05-11    A005930      4478.0  00:00:00   EVEN          0.0         0.0   \n",
       "1983-05-12    A005930      4349.0  00:00:00   EVEN          0.0         0.0   \n",
       "1983-05-13    A005930      4353.0  00:00:00   EVEN          0.0         0.0   \n",
       "1983-05-16    A005930      4171.0  00:00:00   EVEN          0.0         0.0   \n",
       "1983-05-17    A005930      4158.0  00:00:00   EVEN          0.0         0.0   \n",
       "\n",
       "            prevClosingPrice exchangeCountry  openingPrice  highPrice  \\\n",
       "date                                                                    \n",
       "1983-05-03            4509.0           KOREA        4553.0     4575.0   \n",
       "1983-05-04            4717.0           KOREA        4509.0     4753.0   \n",
       "1983-05-06            4731.0           KOREA        4708.0     4820.0   \n",
       "1983-05-09            4820.0           KOREA        4775.0     4851.0   \n",
       "1983-05-10            4575.0           KOREA        4780.0     4797.0   \n",
       "1983-05-11            4478.0           KOREA        4531.0     4531.0   \n",
       "1983-05-12            4349.0           KOREA        4442.0     4442.0   \n",
       "1983-05-13            4353.0           KOREA        4375.0     4486.0   \n",
       "1983-05-16            4171.0           KOREA        4286.0     4286.0   \n",
       "1983-05-17            4158.0           KOREA        4198.0     4242.0   \n",
       "\n",
       "            lowPrice  accTradePrice  accTradeVolume  periodTradePrice  \\\n",
       "date                                                                    \n",
       "1983-05-03    4486.0              0          115399                 0   \n",
       "1983-05-04    4469.0              0           90275                 0   \n",
       "1983-05-06    4668.0              0          153850                 0   \n",
       "1983-05-09    4775.0              0          150338                 0   \n",
       "1983-05-10    4535.0              0           64025                 0   \n",
       "1983-05-11    4442.0              0           55358                 0   \n",
       "1983-05-12    4313.0              0           66749                 0   \n",
       "1983-05-13    4349.0              0          122806                 0   \n",
       "1983-05-16    4131.0              0           49482                 0   \n",
       "1983-05-17    4131.0              0           36920                 0   \n",
       "\n",
       "            periodTradeVolume    5일이평  30일이평  60일이평  5일이평_prev  \n",
       "date                                                            \n",
       "1983-05-03             115399     NaN    NaN    NaN        NaN  \n",
       "1983-05-04              90275     NaN    NaN    NaN        NaN  \n",
       "1983-05-06             153850     NaN    NaN    NaN        NaN  \n",
       "1983-05-09             150338     NaN    NaN    NaN        NaN  \n",
       "1983-05-10              64025  4670.4    NaN    NaN        NaN  \n",
       "1983-05-11              55358  4664.2    NaN    NaN     4670.4  \n",
       "1983-05-12              66749  4590.6    NaN    NaN     4664.2  \n",
       "1983-05-13             122806  4515.0    NaN    NaN     4590.6  \n",
       "1983-05-16              49482  4385.2    NaN    NaN     4515.0  \n",
       "1983-05-17              36920  4301.8    NaN    NaN     4385.2  "
      ]
     },
     "execution_count": 89,
     "metadata": {},
     "output_type": "execute_result"
    }
   ],
   "source": [
    "stock_data.head(10)"
   ]
  },
  {
   "cell_type": "code",
   "execution_count": 102,
   "metadata": {},
   "outputs": [],
   "source": [
    "stock_data.to_excel(\"A005930.xlsx\")"
   ]
  },
  {
   "cell_type": "code",
   "execution_count": 53,
   "metadata": {},
   "outputs": [],
   "source": [
    "def get_stock_data(code,page=1):\n",
    "    options = {\n",
    "        \"symbolCode\": code, #주가코드\n",
    "        \"page\":page, #페이지\n",
    "        \"perPage\":\"100\", #한페이지에 몇개 불러올건가\n",
    "        \"pagination\":\"true\" # 몇페이지까지 있는지, 몇개 있는지 확인 가능\n",
    "\n",
    "    }\n",
    "    custom_headers = {\n",
    "        \"referer\":\"http://finance.daum.net/quotes/\",\n",
    "        \"user-agent\":\"Mozilla/5.0 (Windows NT 6.1) AppleWebKit/537.36 (KHTML, like Gecko) Chrome/79.0.3945.130 Safari/537.36\"\n",
    "    }\n",
    "    req = requests.get(url,headers=custom_headers, params=options)\n",
    "    if req.status_code == requests.codes.ok:\n",
    "        return req.text\n",
    "    else:\n",
    "        return False\n"
   ]
  },
  {
   "cell_type": "code",
   "execution_count": 42,
   "metadata": {},
   "outputs": [
    {
     "data": {
      "text/plain": [
       "89"
      ]
     },
     "execution_count": 42,
     "metadata": {},
     "output_type": "execute_result"
    }
   ],
   "source": [
    "json_data['totalPages']"
   ]
  },
  {
   "cell_type": "code",
   "execution_count": 43,
   "metadata": {},
   "outputs": [
    {
     "data": {
      "text/plain": [
       "1"
      ]
     },
     "execution_count": 43,
     "metadata": {},
     "output_type": "execute_result"
    }
   ],
   "source": [
    "json_data['currentPage']"
   ]
  },
  {
   "cell_type": "code",
   "execution_count": 44,
   "metadata": {},
   "outputs": [],
   "source": []
  },
  {
   "cell_type": "code",
   "execution_count": 46,
   "metadata": {
    "scrolled": true
   },
   "outputs": [],
   "source": [
    "stock_data = pd.DataFrame(json_data['data'])"
   ]
  },
  {
   "cell_type": "code",
   "execution_count": 48,
   "metadata": {},
   "outputs": [
    {
     "data": {
      "text/html": [
       "<div>\n",
       "<style scoped>\n",
       "    .dataframe tbody tr th:only-of-type {\n",
       "        vertical-align: middle;\n",
       "    }\n",
       "\n",
       "    .dataframe tbody tr th {\n",
       "        vertical-align: top;\n",
       "    }\n",
       "\n",
       "    .dataframe thead th {\n",
       "        text-align: right;\n",
       "    }\n",
       "</style>\n",
       "<table border=\"1\" class=\"dataframe\">\n",
       "  <thead>\n",
       "    <tr style=\"text-align: right;\">\n",
       "      <th></th>\n",
       "      <th>symbolCode</th>\n",
       "      <th>date</th>\n",
       "      <th>tradePrice</th>\n",
       "      <th>tradeTime</th>\n",
       "      <th>change</th>\n",
       "      <th>changePrice</th>\n",
       "      <th>changeRate</th>\n",
       "      <th>prevClosingPrice</th>\n",
       "      <th>exchangeCountry</th>\n",
       "      <th>openingPrice</th>\n",
       "      <th>highPrice</th>\n",
       "      <th>lowPrice</th>\n",
       "      <th>accTradePrice</th>\n",
       "      <th>accTradeVolume</th>\n",
       "      <th>periodTradePrice</th>\n",
       "      <th>periodTradeVolume</th>\n",
       "    </tr>\n",
       "  </thead>\n",
       "  <tbody>\n",
       "    <tr>\n",
       "      <th>0</th>\n",
       "      <td>A005930</td>\n",
       "      <td>2020-01-30 15:30:23</td>\n",
       "      <td>57200.0</td>\n",
       "      <td>15:30:23</td>\n",
       "      <td>FALL</td>\n",
       "      <td>1900.0</td>\n",
       "      <td>-0.032149</td>\n",
       "      <td>59100.0</td>\n",
       "      <td>KOREA</td>\n",
       "      <td>58800.0</td>\n",
       "      <td>58800.0</td>\n",
       "      <td>56800.0</td>\n",
       "      <td>1195873843300</td>\n",
       "      <td>20699313</td>\n",
       "      <td>1195873843300</td>\n",
       "      <td>20699313</td>\n",
       "    </tr>\n",
       "    <tr>\n",
       "      <th>1</th>\n",
       "      <td>A005930</td>\n",
       "      <td>2020-01-29 15:30:24</td>\n",
       "      <td>59100.0</td>\n",
       "      <td>15:30:24</td>\n",
       "      <td>RISE</td>\n",
       "      <td>300.0</td>\n",
       "      <td>0.005102</td>\n",
       "      <td>58800.0</td>\n",
       "      <td>KOREA</td>\n",
       "      <td>59100.0</td>\n",
       "      <td>59700.0</td>\n",
       "      <td>58800.0</td>\n",
       "      <td>975344481100</td>\n",
       "      <td>16446102</td>\n",
       "      <td>975344481100</td>\n",
       "      <td>16446102</td>\n",
       "    </tr>\n",
       "    <tr>\n",
       "      <th>2</th>\n",
       "      <td>A005930</td>\n",
       "      <td>2020-01-28 15:30:29</td>\n",
       "      <td>58800.0</td>\n",
       "      <td>15:30:29</td>\n",
       "      <td>FALL</td>\n",
       "      <td>2000.0</td>\n",
       "      <td>-0.032895</td>\n",
       "      <td>60800.0</td>\n",
       "      <td>KOREA</td>\n",
       "      <td>59400.0</td>\n",
       "      <td>59400.0</td>\n",
       "      <td>58300.0</td>\n",
       "      <td>1394361672900</td>\n",
       "      <td>23664541</td>\n",
       "      <td>1394361672900</td>\n",
       "      <td>23664541</td>\n",
       "    </tr>\n",
       "    <tr>\n",
       "      <th>3</th>\n",
       "      <td>A005930</td>\n",
       "      <td>2020-01-23 15:30:12</td>\n",
       "      <td>60800.0</td>\n",
       "      <td>15:30:12</td>\n",
       "      <td>FALL</td>\n",
       "      <td>1500.0</td>\n",
       "      <td>-0.024077</td>\n",
       "      <td>62300.0</td>\n",
       "      <td>KOREA</td>\n",
       "      <td>61800.0</td>\n",
       "      <td>61800.0</td>\n",
       "      <td>60700.0</td>\n",
       "      <td>912319470070</td>\n",
       "      <td>14916555</td>\n",
       "      <td>912319470070</td>\n",
       "      <td>14916555</td>\n",
       "    </tr>\n",
       "    <tr>\n",
       "      <th>4</th>\n",
       "      <td>A005930</td>\n",
       "      <td>2020-01-22 15:30:01</td>\n",
       "      <td>62300.0</td>\n",
       "      <td>15:30:01</td>\n",
       "      <td>RISE</td>\n",
       "      <td>900.0</td>\n",
       "      <td>0.014658</td>\n",
       "      <td>61400.0</td>\n",
       "      <td>KOREA</td>\n",
       "      <td>60500.0</td>\n",
       "      <td>62600.0</td>\n",
       "      <td>60400.0</td>\n",
       "      <td>943882357729</td>\n",
       "      <td>15339565</td>\n",
       "      <td>943882357729</td>\n",
       "      <td>15339565</td>\n",
       "    </tr>\n",
       "  </tbody>\n",
       "</table>\n",
       "</div>"
      ],
      "text/plain": [
       "  symbolCode                 date  tradePrice tradeTime change  changePrice  \\\n",
       "0    A005930  2020-01-30 15:30:23     57200.0  15:30:23   FALL       1900.0   \n",
       "1    A005930  2020-01-29 15:30:24     59100.0  15:30:24   RISE        300.0   \n",
       "2    A005930  2020-01-28 15:30:29     58800.0  15:30:29   FALL       2000.0   \n",
       "3    A005930  2020-01-23 15:30:12     60800.0  15:30:12   FALL       1500.0   \n",
       "4    A005930  2020-01-22 15:30:01     62300.0  15:30:01   RISE        900.0   \n",
       "\n",
       "   changeRate  prevClosingPrice exchangeCountry  openingPrice  highPrice  \\\n",
       "0   -0.032149           59100.0           KOREA       58800.0    58800.0   \n",
       "1    0.005102           58800.0           KOREA       59100.0    59700.0   \n",
       "2   -0.032895           60800.0           KOREA       59400.0    59400.0   \n",
       "3   -0.024077           62300.0           KOREA       61800.0    61800.0   \n",
       "4    0.014658           61400.0           KOREA       60500.0    62600.0   \n",
       "\n",
       "   lowPrice  accTradePrice  accTradeVolume  periodTradePrice  \\\n",
       "0   56800.0  1195873843300        20699313     1195873843300   \n",
       "1   58800.0   975344481100        16446102      975344481100   \n",
       "2   58300.0  1394361672900        23664541     1394361672900   \n",
       "3   60700.0   912319470070        14916555      912319470070   \n",
       "4   60400.0   943882357729        15339565      943882357729   \n",
       "\n",
       "   periodTradeVolume  \n",
       "0           20699313  \n",
       "1           16446102  \n",
       "2           23664541  \n",
       "3           14916555  \n",
       "4           15339565  "
      ]
     },
     "execution_count": 48,
     "metadata": {},
     "output_type": "execute_result"
    }
   ],
   "source": [
    "stock_data.head()"
   ]
  },
  {
   "cell_type": "code",
   "execution_count": 49,
   "metadata": {},
   "outputs": [
    {
     "name": "stdout",
     "output_type": "stream",
     "text": [
      "<class 'pandas.core.frame.DataFrame'>\n",
      "RangeIndex: 100 entries, 0 to 99\n",
      "Data columns (total 16 columns):\n",
      "symbolCode           100 non-null object\n",
      "date                 100 non-null object\n",
      "tradePrice           100 non-null float64\n",
      "tradeTime            100 non-null object\n",
      "change               100 non-null object\n",
      "changePrice          100 non-null float64\n",
      "changeRate           100 non-null float64\n",
      "prevClosingPrice     100 non-null float64\n",
      "exchangeCountry      100 non-null object\n",
      "openingPrice         100 non-null float64\n",
      "highPrice            100 non-null float64\n",
      "lowPrice             100 non-null float64\n",
      "accTradePrice        100 non-null int64\n",
      "accTradeVolume       100 non-null int64\n",
      "periodTradePrice     100 non-null int64\n",
      "periodTradeVolume    100 non-null int64\n",
      "dtypes: float64(7), int64(4), object(5)\n",
      "memory usage: 10.6+ KB\n"
     ]
    }
   ],
   "source": [
    "stock_data.info()"
   ]
  },
  {
   "cell_type": "code",
   "execution_count": 21,
   "metadata": {},
   "outputs": [],
   "source": [
    "# 바구니 객체 - 딕셔너리\n",
    "# 사전형 객체 - 사전, \n",
    "# 키:값 - key:value\n",
    "test_dict = {}\n",
    "test_dict = dict()\n",
    "test_dict = {\n",
    "    \"a\":\"apple\",\n",
    "    \"b\":\"banana\",\n",
    "    \"o\":\"orange\",\n",
    "    99:\"hi\",\n",
    "    \"hello\":\"greeting\"\n",
    "}"
   ]
  },
  {
   "cell_type": "code",
   "execution_count": 23,
   "metadata": {},
   "outputs": [],
   "source": [
    "test_dict[\"b\"] = \"test\""
   ]
  },
  {
   "cell_type": "code",
   "execution_count": 24,
   "metadata": {},
   "outputs": [
    {
     "data": {
      "text/plain": [
       "{'a': 'apple', 'b': 'test', 'o': 'orange', 99: 'hi', 'hello': 'greeting'}"
      ]
     },
     "execution_count": 24,
     "metadata": {},
     "output_type": "execute_result"
    }
   ],
   "source": [
    "test_dict #dict는 순서가 없다."
   ]
  },
  {
   "cell_type": "code",
   "execution_count": 25,
   "metadata": {},
   "outputs": [],
   "source": [
    "test_dict.update({\"c\":\"carvena\"})"
   ]
  },
  {
   "cell_type": "code",
   "execution_count": 27,
   "metadata": {},
   "outputs": [],
   "source": [
    "test_dict[\"new\"] = \"new value\""
   ]
  },
  {
   "cell_type": "code",
   "execution_count": 29,
   "metadata": {},
   "outputs": [],
   "source": [
    "# del - 메모리 해제\n",
    "del(test_dict[\"c\"])"
   ]
  },
  {
   "cell_type": "code",
   "execution_count": 33,
   "metadata": {},
   "outputs": [
    {
     "data": {
      "text/plain": [
       "False"
      ]
     },
     "execution_count": 33,
     "metadata": {},
     "output_type": "execute_result"
    }
   ],
   "source": [
    "\"new value\" in test_dict"
   ]
  },
  {
   "cell_type": "code",
   "execution_count": 41,
   "metadata": {},
   "outputs": [
    {
     "name": "stdout",
     "output_type": "stream",
     "text": [
      "apple\n",
      "test\n",
      "orange\n",
      "hi\n",
      "greeting\n",
      "new value\n"
     ]
    }
   ],
   "source": [
    "for key in test_dict:\n",
    "    print(test_dict[key])"
   ]
  },
  {
   "cell_type": "code",
   "execution_count": 36,
   "metadata": {},
   "outputs": [
    {
     "data": {
      "text/plain": [
       "dict_keys(['a', 'b', 'o', 99, 'hello', 'new'])"
      ]
     },
     "execution_count": 36,
     "metadata": {},
     "output_type": "execute_result"
    }
   ],
   "source": [
    "test_dict.keys()"
   ]
  },
  {
   "cell_type": "code",
   "execution_count": 38,
   "metadata": {},
   "outputs": [
    {
     "data": {
      "text/plain": [
       "dict_values(['apple', 'test', 'orange', 'hi', 'greeting', 'new value'])"
      ]
     },
     "execution_count": 38,
     "metadata": {},
     "output_type": "execute_result"
    }
   ],
   "source": [
    "test_dict.values()"
   ]
  },
  {
   "cell_type": "code",
   "execution_count": 39,
   "metadata": {},
   "outputs": [
    {
     "data": {
      "text/plain": [
       "dict_items([('a', 'apple'), ('b', 'test'), ('o', 'orange'), (99, 'hi'), ('hello', 'greeting'), ('new', 'new value')])"
      ]
     },
     "execution_count": 39,
     "metadata": {},
     "output_type": "execute_result"
    }
   ],
   "source": [
    "test_dict.items()"
   ]
  },
  {
   "cell_type": "code",
   "execution_count": 40,
   "metadata": {},
   "outputs": [
    {
     "name": "stdout",
     "output_type": "stream",
     "text": [
      "a apple\n",
      "b test\n",
      "o orange\n",
      "99 hi\n",
      "hello greeting\n",
      "new new value\n"
     ]
    }
   ],
   "source": [
    "for key,value in test_dict.items():\n",
    "    print(key,value)"
   ]
  },
  {
   "cell_type": "code",
   "execution_count": null,
   "metadata": {},
   "outputs": [],
   "source": []
  },
  {
   "cell_type": "code",
   "execution_count": null,
   "metadata": {},
   "outputs": [],
   "source": [
    "# response : 사이트에서 주는 정보\n",
    "# request  : 내가 주는 정보\n",
    "# Reffer : 정보를 요청한 사이트\n",
    "# User - Agent : 나의 OS, 브라우저 정보\n",
    "# => Reffer, User-Agent 정보를 보내줘야함"
   ]
  },
  {
   "cell_type": "code",
   "execution_count": null,
   "metadata": {},
   "outputs": [],
   "source": []
  }
 ],
 "metadata": {
  "kernelspec": {
   "display_name": "Python 3",
   "language": "python",
   "name": "python3"
  },
  "language_info": {
   "codemirror_mode": {
    "name": "ipython",
    "version": 3
   },
   "file_extension": ".py",
   "mimetype": "text/x-python",
   "name": "python",
   "nbconvert_exporter": "python",
   "pygments_lexer": "ipython3",
   "version": "3.7.6"
  }
 },
 "nbformat": 4,
 "nbformat_minor": 4
}
