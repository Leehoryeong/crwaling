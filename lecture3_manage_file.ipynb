{
 "cells": [
  {
   "cell_type": "code",
   "execution_count": 5,
   "metadata": {},
   "outputs": [
    {
     "name": "stdout",
     "output_type": "stream",
     "text": [
      "현재 디렉토리 c:\\python3.7\n",
      "이동 후 디렉토리 c:\\python3.7\\my_module\n"
     ]
    }
   ],
   "source": [
    "#getcwd()와 chdir() 함수\n",
    "print(\"현재 디렉토리\",os.getcwd())\n",
    "os.chdir(\"c:\\\\python3.7\\my_module\")\n",
    "print(\"이동 후 디렉토리\",os.getcwd())"
   ]
  },
  {
   "cell_type": "code",
   "execution_count": 1,
   "metadata": {},
   "outputs": [],
   "source": [
    "import numpy as np\n",
    "import pandas as pd"
   ]
  },
  {
   "cell_type": "code",
   "execution_count": 2,
   "metadata": {},
   "outputs": [
    {
     "name": "stdout",
     "output_type": "stream",
     "text": [
      "현재 디렉토리 C:\\Users\\01048\\Desktop\\crawling\n"
     ]
    }
   ],
   "source": [
    "import os\n",
    "\n",
    "print(\"현재 디렉토리\",os.getcwd())"
   ]
  },
  {
   "cell_type": "code",
   "execution_count": 6,
   "metadata": {},
   "outputs": [
    {
     "data": {
      "text/plain": [
       "['ex_mo.py', 'ex_module.py', 'ex_module2.py', '__pycache__']"
      ]
     },
     "execution_count": 6,
     "metadata": {},
     "output_type": "execute_result"
    }
   ],
   "source": [
    "#listdir() 함수 - 지정된 폴더내의 파일과 폴더 목록 출력\n",
    "os.listdir(\"c:\\\\python3.7\\my_module\")"
   ]
  },
  {
   "cell_type": "code",
   "execution_count": 7,
   "metadata": {},
   "outputs": [
    {
     "name": "stdout",
     "output_type": "stream",
     "text": [
      "ex_mo.py\n",
      "ex_module.py\n",
      "ex_module2.py\n",
      "__pycache__\n"
     ]
    }
   ],
   "source": [
    "for i in os.listdir(\"c:\\\\python3.7\\my_module\"):\n",
    "    print(i)"
   ]
  },
  {
   "cell_type": "code",
   "execution_count": 9,
   "metadata": {},
   "outputs": [
    {
     "name": "stdout",
     "output_type": "stream",
     "text": [
      "True\n",
      "False\n"
     ]
    }
   ],
   "source": [
    "# os.path.exists()함수 - 특정 폴더가 있는지 확인하는 함수\n",
    "print(os.path.exists(\"c:\\\\python3.7\\my_module\"))\n",
    "print(os.path.exists(\"c:\\\\python3.7\\your_module\"))"
   ]
  },
  {
   "cell_type": "code",
   "execution_count": 13,
   "metadata": {},
   "outputs": [],
   "source": [
    "#mkdir함수와 makedirs()함수\n",
    "os.mkdir(\"c:\\\\python3.7\\your_module\") #한번에 하나의 폴더만 가능\n",
    "# os.makedirs(\"c:\\\\python3.7\\your_module\\\\your_din\") #한번에 모든 폴더 만들어줌\n",
    "# makedirs도 이미 존재하는 폴더의 경우 오류 발생"
   ]
  },
  {
   "cell_type": "code",
   "execution_count": 14,
   "metadata": {},
   "outputs": [],
   "source": [
    "# rmdir()와 removedirs()함수\n",
    "os.rmdir(\"c:\\\\python3.7\\your_module\")\n",
    "os.removedirs(\"c:\\\\python3.7\\your_module\\\\your_din\")"
   ]
  },
  {
   "cell_type": "code",
   "execution_count": 22,
   "metadata": {},
   "outputs": [
    {
     "name": "stdout",
     "output_type": "stream",
     "text": [
      "c:\\python3.7\\your_module\n"
     ]
    }
   ],
   "source": [
    "# 텍스트 형식(txt) 파일 관리하기\n",
    "\"\"\"\n",
    "t - 텍스트\n",
    "b - 바이너리\n",
    "r - 읽기기본\n",
    "w - 쓰기\n",
    "a - 이어쓰기\n",
    "+ - 읽기,쓰기\n",
    "\"\"\"\n",
    "# w모드와a모드 차이 존재\n",
    "#os.makedirs(\"c:\\\\python3.7\\your_module\")\n",
    "os.chdir(\"c:\\\\python3.7\\your_module\")\n",
    "print(os.getcwd())\n",
    "\n",
    "file = open(\"test1.txt\",\"w\")\n",
    "file.write(\"텍스트 파일에 처음 쓴 글입니다.\")\n",
    "file.close()"
   ]
  },
  {
   "cell_type": "code",
   "execution_count": 23,
   "metadata": {},
   "outputs": [],
   "source": [
    "file2 = open(\"test1.txt\",\"w\")\n",
    "file2.write(\"텍스트파일에 두번째 쓴글입니다.\")\n",
    "file2.close()\n",
    "# 텍스트를 덮어쓰게됨 추천 X"
   ]
  },
  {
   "cell_type": "code",
   "execution_count": 26,
   "metadata": {},
   "outputs": [],
   "source": [
    "file3 = open(\"test1.txt\",\"a\")\n",
    "file3.write(\"\\n\"+\"텍스트파일에 세번째 쓴글입니다.\")\n",
    "file3.close()\n",
    "# 기존글에 추가 됨 (줄변경은 지원X)"
   ]
  },
  {
   "cell_type": "code",
   "execution_count": 36,
   "metadata": {},
   "outputs": [
    {
     "name": "stdout",
     "output_type": "stream",
     "text": [
      "['텍스트파일에 두번째 쓴글입니다.텍스트파일에 세번째 쓴글입니다.텍스트파일에 세번째 쓴글입니다.\\n', '텍스트파일에 세번째 쓴글입니다.']\n",
      "텍스트파일에 두번째 쓴글입니다.텍스트파일에 세번째 쓴글입니다.텍스트파일에 세번째 쓴글입니다.\n",
      "\n",
      "텍스트파일에 세번째 쓴글입니다.\n",
      "텍스트파일에 두번째 쓴글입니다.텍스트파일에 세번째 쓴글입니다.텍스트파일에 세번째 쓴글입니다.\n",
      "\n",
      "텍스트파일에 세번째 쓴글입니다.\n"
     ]
    }
   ],
   "source": [
    "f = open(\"c:\\\\python3.7\\your_module\\\\test1.txt\",\"r\")\n",
    "snack = f.readlines()\n",
    "print(snack)\n",
    "print(snack[0])\n",
    "print(snack[1])\n",
    "for i in snack:\n",
    "    print(i)"
   ]
  },
  {
   "cell_type": "code",
   "execution_count": 2,
   "metadata": {},
   "outputs": [
    {
     "name": "stdout",
     "output_type": "stream",
     "text": [
      "   과목번호   과목명\n",
      "0     1    수학\n",
      "1     2    과학\n",
      "2     3  빅데이터\n"
     ]
    }
   ],
   "source": [
    "# 엑셀형식으로 저장하기\n",
    "# 1. 표형태로 생성부터\n",
    "\n",
    "no = []\n",
    "subject_name = []\n",
    "no.append(1)\n",
    "no.append(2)\n",
    "no.append(3)\n",
    "\n",
    "subject_name.append(\"수학\")\n",
    "subject_name.append(\"과학\")\n",
    "subject_name.append(\"빅데이터\")\n",
    "\n",
    "subject = pd.DataFrame()\n",
    "subject['과목번호'] = no\n",
    "subject['과목명'] = subject_name\n",
    "print(subject)"
   ]
  },
  {
   "cell_type": "code",
   "execution_count": 4,
   "metadata": {},
   "outputs": [],
   "source": [
    "subject.to_csv(\"c:\\\\python3.7\\your_module\\\\subject.csv\",encoding=\"utf-8-sig\",index=False)"
   ]
  },
  {
   "cell_type": "code",
   "execution_count": 5,
   "metadata": {},
   "outputs": [],
   "source": [
    "import openpyxl"
   ]
  },
  {
   "cell_type": "code",
   "execution_count": null,
   "metadata": {},
   "outputs": [],
   "source": [
    "wb = openpyxl.load_workbook(\"c:\\\\python3.7\\your_module\\\\subject.xlsx\")\n",
    "sheet = wb['Sheet1']\n",
    "\n",
    "contents = {}\n",
    "for i in range(2,sheet.max_row+1):\n",
    "    name = sheet.cell(row=i, column=1).value\n",
    "    email = sheet.cell(row=i, column=2).value\n",
    "    contents[name]=email\n",
    "print(contents)"
   ]
  },
  {
   "cell_type": "code",
   "execution_count": 2,
   "metadata": {},
   "outputs": [
    {
     "name": "stdout",
     "output_type": "stream",
     "text": [
      "['과목번호', '과목명']\n",
      "['1', '수학']\n",
      "['2', '과학']\n",
      "['3', '빅데이터']\n"
     ]
    }
   ],
   "source": [
    "import csv\n",
    "f = open(\"c:\\\\python3.7\\your_module\\\\subject.csv\",encoding=\"utf-8-sig\")\n",
    "f_csv = csv.reader(f)\n",
    "for i in f_csv:\n",
    "    print(i)"
   ]
  }
 ],
 "metadata": {
  "kernelspec": {
   "display_name": "Python 3",
   "language": "python",
   "name": "python3"
  },
  "language_info": {
   "codemirror_mode": {
    "name": "ipython",
    "version": 3
   },
   "file_extension": ".py",
   "mimetype": "text/x-python",
   "name": "python",
   "nbconvert_exporter": "python",
   "pygments_lexer": "ipython3",
   "version": "3.7.0"
  }
 },
 "nbformat": 4,
 "nbformat_minor": 2
}
