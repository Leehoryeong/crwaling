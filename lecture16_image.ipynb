{
 "cells": [
  {
   "cell_type": "code",
   "execution_count": 2,
   "metadata": {},
   "outputs": [],
   "source": [
    "# step1 필요한 모듈 import\n",
    "from bs4 import BeautifulSoup\n",
    "from selenium import webdriver\n",
    "import time\n",
    "import sys\n",
    "import math\n",
    "import numpy\n",
    "import numpy as np\n",
    "import pandas as pd\n",
    "import xlwt"
   ]
  },
  {
   "cell_type": "code",
   "execution_count": 3,
   "metadata": {},
   "outputs": [
    {
     "name": "stdout",
     "output_type": "stream",
     "text": [
      "크룰링할 키워드: 거제 여행\n"
     ]
    }
   ],
   "source": [
    "# 크롬드라이버 실행\n",
    "path = \"chromedriver_240.exe\"\n",
    "driver = webdriver.Chrome(path)\n",
    "\n",
    "driver.get('https://korean.visitkorea.or.kr/main/main.html')\n",
    "time.sleep(2)\n",
    "\n",
    "query_txt = input(\"크룰링할 키워드: \")\n",
    "driver.find_element_by_id('btnSearch').click()\n",
    "element = driver.find_element_by_id('inp_search')\n",
    "element.send_keys(query_txt)\n",
    "\n",
    "driver.find_element_by_xpath('//*[@id=\"gnbMain\"]/div/div/div[1]/div[1]/a').click()"
   ]
  },
  {
   "cell_type": "code",
   "execution_count": 6,
   "metadata": {},
   "outputs": [],
   "source": [
    "file_no = 0\n",
    "count = 1\n",
    "img_src2 = []\n",
    "\n",
    "html = driver.page_source\n",
    "soup = BeautifulSoup(html,'html.parser')\n",
    "img_src = soup.find('div','img_typeBox typeFix clfix').find_all('img')\n",
    "\n",
    "for i in img_src:\n",
    "    img_src1 = i['src']\n",
    "    img_src2.append(img_src1)\n",
    "    count += 1\n",
    "    \n",
    "for i in range(0,len(img_src2)):\n",
    "    try: \n",
    "        urlib.request.urlretrieve(img_src[i],str(file_no)+'.jpg') #urlretrieve 함수: 그 url 주소로 가서 이미지를 다운 받는 함수\n",
    "    except:\n",
    "        continue # 이미지를 찾으러 갖는데 이미지가 없는 경우 넘어가라 \n",
    "    file_no += 1\n",
    "    time.sleep(0.5)\n",
    "    print(\"%s 번째 이미지 저장중입니다 ==========\"%file_no)"
   ]
  },
  {
   "cell_type": "code",
   "execution_count": 4,
   "metadata": {},
   "outputs": [],
   "source": [
    "\n",
    "# 자동 화면 스크롤 다운 함수 만들기\n",
    "\n",
    "def scroll_down(driver):\n",
    "    driver.execute_script(\"window.scrollTo(0,document.body.scrollHeight);\")\n",
    "    time.sleep(1)\n",
    "    \n",
    "scroll_down(driver)\n",
    "\n",
    "# scrollTo(x좌표, y좌표) - 기준값 절대 좌표\n",
    "# scrollBy(x좌표, y좌표) - 기준값 상대 좌표\n",
    "# 화면 끝까지 가고 싶을 때 document.body.scrollHeight 사용"
   ]
  },
  {
   "cell_type": "markdown",
   "metadata": {},
   "source": [
    "# 파일 저장 경로 설정"
   ]
  },
  {
   "cell_type": "code",
   "execution_count": null,
   "metadata": {},
   "outputs": [],
   "source": [
    "url_adder = input('1. 파일을 다운로드 할 웹페이지 주소를 입력하세요: ')\n",
    "\n",
    "f_dir = input('2. 파일이 저장될 경로만 입력하세요:')\n",
    "\n",
    "if os.path.isdir(f_dir):\n",
    "    print('입력하신 경로가 존재하여 %s폴더에 저장하겠습니다.' %f_dir)\n",
    "else: \n",
    "    os.makedirs(f_dir)\n",
    "    print('입력하신 경로가 존재하지 않아 %s폴더를 생성하였습니다.' %f_dir)\n",
    "    \n",
    "choice = input('''1. 전체 2.KOSPI 3. KOSDAQ\n",
    "3. 위 번호 중 조회할 시장 번호를 선택하세요 ''')\n",
    "\n",
    "f_choice = input('''1.xls형식으로 저장하기 2. csv형식으로 저장하기\n",
    "4. 위 번호 중 저장할 파일 형식의 번호를 선택하세요''')\n",
    "\n",
    "print('\\n')\n",
    "print('요청하신 데이터를 수집 중이니 잠시만 기다려 주세요')"
   ]
  },
  {
   "cell_type": "code",
   "execution_count": null,
   "metadata": {},
   "outputs": [],
   "source": [
    "s_time = time.time()\n",
    "\n",
    "options = webdriver.ChromeOptions()\n",
    "\n",
    "path = 'chromedriver_240.exe'\n",
    "driver = webdriver.Chrome(path.options=options)\n",
    "\n",
    "options.add_experimental_option('prefs',{\n",
    "    \"download.default_directory\":f_dir,\n",
    "    \"download.prompt_for_download\":False,\n",
    "    \"plugins.always_open_pdf_externally\":True\n",
    "})\n",
    "\n",
    "driver.command_executor._command['send_command'] = (\"POST\",'/session/$sessionld/chromium/send_command')\n",
    "params = {'cmd':'Page.setDownloadBehavior','params':{'behavior':'allow','downloadPath':f_dir}}\n",
    "command_result = driver.execute('send_command',params)\n",
    "\n",
    "driver.get(url_adder)\n",
    "time.sleep(10)"
   ]
  }
 ],
 "metadata": {
  "kernelspec": {
   "display_name": "Python 3",
   "language": "python",
   "name": "python3"
  },
  "language_info": {
   "codemirror_mode": {
    "name": "ipython",
    "version": 3
   },
   "file_extension": ".py",
   "mimetype": "text/x-python",
   "name": "python",
   "nbconvert_exporter": "python",
   "pygments_lexer": "ipython3",
   "version": "3.7.6"
  }
 },
 "nbformat": 4,
 "nbformat_minor": 4
}
