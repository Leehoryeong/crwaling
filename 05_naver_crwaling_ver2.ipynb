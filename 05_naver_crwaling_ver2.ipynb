{
 "cells": [
  {
   "cell_type": "code",
   "execution_count": 1,
   "metadata": {},
   "outputs": [],
   "source": [
    "\n",
    "import requests\n",
    "from bs4 import BeautifulSoup"
   ]
  },
  {
   "cell_type": "code",
   "execution_count": 24,
   "metadata": {},
   "outputs": [
    {
     "name": "stdout",
     "output_type": "stream",
     "text": [
      "아스날\n"
     ]
    }
   ],
   "source": [
    "from openpyxl import Workbook\n",
    "wb = Workbook()\n",
    "ws = wb.active\n",
    "ws.append([\"번호\",\"제목\",\"링크\",\"요약\",\"언론사\"])\n",
    "\n",
    "keyword = input()\n",
    "url = \"https://search.naver.com/search.naver?\"\n",
    "option = f\"where=news&sm=tab_jum&query={keyword}\"\n",
    "#첫번째 페이지 크롤링\n",
    "html = save_news(url+option,ws)\n",
    "#두번째 페이지가 있나 확인\n",
    "btn_next = html.select_one(\".paging .next\") \n",
    "while btn_next:\n",
    "    next_option = btn_next.attrs['href']\n",
    "    # 세번째, 네번째 - 다음 페이지가 또 있는지 확인\n",
    "    html = save_news(url+next_option,ws)\n",
    "    btn_next = html.select_one(\".paging .next\") \n",
    "    break\n",
    "    \n",
    "wb.save(f\"{keyword}naver_news.xlsx\")"
   ]
  },
  {
   "cell_type": "code",
   "execution_count": 22,
   "metadata": {},
   "outputs": [],
   "source": [
    "# 특정 url에 접속해서\n",
    "# 기사들을 찾아서\n",
    "# 엑셀 파일에 저장한다.\n",
    "def save_news(url,ws):\n",
    "    req = requests.get(url) \n",
    "    if req.status_code != requests.codes.ok:\n",
    "        print(\"접속실패\")\n",
    "        exit()\n",
    "    html = BeautifulSoup(req.text,\"html.parser\")\n",
    "    news_items2 = html.select(\"ul.type01 > li\")\n",
    "    for row_num,item in enumerate(news_items2,start=1):\n",
    "        title = item.select_one('a._sp_each_title')\n",
    "        link = title.attrs['href']\n",
    "        description = item.select('dd')[1]\n",
    "        journal = item.select_one('._sp_each_source')\n",
    "        if journal.select_one('i'):\n",
    "            journal.select_one('i').decompose()\n",
    "        #print(title.text,link,description.text,journal.text)\n",
    "        ws.append([ws._current_row,\n",
    "                   title.text,\n",
    "                   link,\n",
    "                   description.text,\n",
    "                   journal.text])\n",
    "    return html\n",
    "    # 특정 url에 접속\n",
    "    # 거기서 뉴스 찾아서\n",
    "    # 엑셀에 저장"
   ]
  },
  {
   "cell_type": "code",
   "execution_count": null,
   "metadata": {},
   "outputs": [],
   "source": []
  },
  {
   "cell_type": "code",
   "execution_count": null,
   "metadata": {},
   "outputs": [],
   "source": [
    "# 함수만들기\n",
    "# 함수는 사용자 정의 명령\n",
    "# 함수 -> y = f(x)\n",
    "# 입력 -> 처리 -> 출력이 있는 블랙박스\n",
    "\"\"\"\n",
    "처리\n",
    "입력 - 처리\n",
    "처리 - 출력\n",
    "입력 - 처리 - 출력\n",
    "함수에서 입력 : 매개변수 - 옵션\n",
    "함수에서 출력 : 반환값 - 처리한 결과\n",
    "\"\"\""
   ]
  },
  {
   "cell_type": "code",
   "execution_count": 4,
   "metadata": {},
   "outputs": [],
   "source": [
    "# test라는 함수는 입력과 출력이 없고, 처리만 있는함수\n",
    "def test():\n",
    "    print(\"hi\")\n",
    "    print(\"hello\")\n",
    "    print(\"welcome\")"
   ]
  },
  {
   "cell_type": "code",
   "execution_count": 3,
   "metadata": {},
   "outputs": [
    {
     "name": "stdout",
     "output_type": "stream",
     "text": [
      "hi\n",
      "hello\n",
      "welcome\n"
     ]
    }
   ],
   "source": [
    "test()"
   ]
  },
  {
   "cell_type": "code",
   "execution_count": 5,
   "metadata": {},
   "outputs": [],
   "source": [
    "# 가변 매개변수 : 매개변수의 갯수가 유동적이다.\n",
    "# 매개변수의 초기값 : 중간에 하나라도 지정했으면 그 뒤는 전부 필요\n",
    "def test(count,name=\"philip\",age=33):\n",
    "    print(count, name, age*3)\n",
    "    return 33"
   ]
  },
  {
   "cell_type": "code",
   "execution_count": 10,
   "metadata": {},
   "outputs": [],
   "source": [
    "def add(num1,num2):\n",
    "    total = num1+num2\n",
    "    return total"
   ]
  },
  {
   "cell_type": "code",
   "execution_count": 11,
   "metadata": {},
   "outputs": [],
   "source": [
    "result = add(13,7)"
   ]
  },
  {
   "cell_type": "code",
   "execution_count": 12,
   "metadata": {},
   "outputs": [
    {
     "data": {
      "text/plain": [
       "20"
      ]
     },
     "execution_count": 12,
     "metadata": {},
     "output_type": "execute_result"
    }
   ],
   "source": [
    "result"
   ]
  }
 ],
 "metadata": {
  "kernelspec": {
   "display_name": "Python 3",
   "language": "python",
   "name": "python3"
  },
  "language_info": {
   "codemirror_mode": {
    "name": "ipython",
    "version": 3
   },
   "file_extension": ".py",
   "mimetype": "text/x-python",
   "name": "python",
   "nbconvert_exporter": "python",
   "pygments_lexer": "ipython3",
   "version": "3.7.6"
  }
 },
 "nbformat": 4,
 "nbformat_minor": 4
}
