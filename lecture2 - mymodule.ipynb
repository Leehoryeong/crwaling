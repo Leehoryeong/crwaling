{
 "cells": [
  {
   "cell_type": "code",
   "execution_count": 1,
   "metadata": {},
   "outputs": [
    {
     "name": "stdout",
     "output_type": "stream",
     "text": [
      "3와 6의 더한 값은 9입니다.\n"
     ]
    }
   ],
   "source": [
    "def p(x,y):\n",
    "    rst = print(\"%s와 %s의 더한 값은 %s입니다.\" %(x,y,x+y))\n",
    "    return rst\n",
    "\n",
    "p(3,6)"
   ]
  },
  {
   "cell_type": "code",
   "execution_count": 5,
   "metadata": {},
   "outputs": [
    {
     "name": "stdout",
     "output_type": "stream",
     "text": [
      "입력하신 숫자의 합은 15입니다.\n"
     ]
    }
   ],
   "source": [
    "def p(*x): # *을 통해서 여러개의 변수 입력\n",
    "    hap = 0\n",
    "    for i in x:\n",
    "        hap += i\n",
    "    return (\"입력하신 숫자의 합은 %s입니다.\" %hap)\n",
    "p(1,2,3)\n",
    "print(p(1,2,3,4,5))"
   ]
  },
  {
   "cell_type": "code",
   "execution_count": 11,
   "metadata": {},
   "outputs": [
    {
     "data": {
      "text/plain": [
       "4"
      ]
     },
     "execution_count": 11,
     "metadata": {},
     "output_type": "execute_result"
    }
   ],
   "source": [
    "def p(x,y):\n",
    "    rst = max(x,y) - min(x,y)\n",
    "    return rst\n",
    "p(3,5)\n",
    "\n",
    "def p(*x):\n",
    "    rst = max(x)\n",
    "    return rst\n",
    "p(1,2,3,4,5)\n",
    "\n",
    "def p(*x):\n",
    "    hap = 0\n",
    "    for i in x:\n",
    "        hap += i\n",
    "    return hap\n",
    "p(2,4,6,8)\n",
    "\n",
    "def p(*x):\n",
    "    rst = max(x)-min(x)\n",
    "    return rst\n",
    "p(1,2,3,4,5)"
   ]
  },
  {
   "cell_type": "code",
   "execution_count": null,
   "metadata": {},
   "outputs": [],
   "source": [
    "# 모듈은 확장자가 .py 여야 한다."
   ]
  },
  {
   "cell_type": "code",
   "execution_count": 12,
   "metadata": {},
   "outputs": [
    {
     "data": {
      "text/plain": [
       "'첫번째 모듈입니다.'"
      ]
     },
     "execution_count": 12,
     "metadata": {},
     "output_type": "execute_result"
    }
   ],
   "source": [
    "import ex_module \n",
    "ex_module.m1() #모듈이름.함수이름 (같은 폴더에 있는 경우)"
   ]
  },
  {
   "cell_type": "code",
   "execution_count": 13,
   "metadata": {},
   "outputs": [
    {
     "name": "stdout",
     "output_type": "stream",
     "text": [
      "['', 'C:\\\\Users\\\\01048\\\\Desktop\\\\crawling', 'c:\\\\users\\\\01048\\\\appdata\\\\local\\\\programs\\\\python\\\\python37-32\\\\python37.zip', 'c:\\\\users\\\\01048\\\\appdata\\\\local\\\\programs\\\\python\\\\python37-32\\\\DLLs', 'c:\\\\users\\\\01048\\\\appdata\\\\local\\\\programs\\\\python\\\\python37-32\\\\lib', 'c:\\\\users\\\\01048\\\\appdata\\\\local\\\\programs\\\\python\\\\python37-32', 'C:\\\\Users\\\\01048\\\\AppData\\\\Roaming\\\\Python\\\\Python37\\\\site-packages', 'c:\\\\users\\\\01048\\\\appdata\\\\local\\\\programs\\\\python\\\\python37-32\\\\lib\\\\site-packages', 'c:\\\\users\\\\01048\\\\appdata\\\\local\\\\programs\\\\python\\\\python37-32\\\\lib\\\\site-packages\\\\win32', 'c:\\\\users\\\\01048\\\\appdata\\\\local\\\\programs\\\\python\\\\python37-32\\\\lib\\\\site-packages\\\\win32\\\\lib', 'c:\\\\users\\\\01048\\\\appdata\\\\local\\\\programs\\\\python\\\\python37-32\\\\lib\\\\site-packages\\\\Pythonwin', 'c:\\\\users\\\\01048\\\\appdata\\\\local\\\\programs\\\\python\\\\python37-32\\\\lib\\\\site-packages\\\\IPython\\\\extensions', 'C:\\\\Users\\\\01048\\\\.ipython']\n"
     ]
    }
   ],
   "source": [
    "import sys\n",
    "print(sys.path)"
   ]
  },
  {
   "cell_type": "code",
   "execution_count": 20,
   "metadata": {},
   "outputs": [
    {
     "name": "stdout",
     "output_type": "stream",
     "text": [
      "두번째 모듈입니다.\n"
     ]
    }
   ],
   "source": [
    "sys.path.append(\"c:\\python3.7\\my_module\") #새로운 경로 추가 \n",
    "import ex_module2\n",
    "print(ex_module2.m2())"
   ]
  },
  {
   "cell_type": "code",
   "execution_count": 23,
   "metadata": {},
   "outputs": [
    {
     "data": {
      "text/plain": [
       "'세번째 모듈입니다.'"
      ]
     },
     "execution_count": 23,
     "metadata": {},
     "output_type": "execute_result"
    }
   ],
   "source": [
    "from ex_module2 import m1,m2\n",
    "ex_module2.m1()\n",
    "ex_module2.m3()"
   ]
  },
  {
   "cell_type": "code",
   "execution_count": null,
   "metadata": {},
   "outputs": [],
   "source": [
    "pip install numpy #모듈 설치\n",
    "pip uninstall numpy #모듈 삭제\n",
    "pip install numpy == 1.15.1 #모듈 업데이트"
   ]
  },
  {
   "cell_type": "code",
   "execution_count": 27,
   "metadata": {},
   "outputs": [],
   "source": [
    "import ex_mo"
   ]
  },
  {
   "cell_type": "code",
   "execution_count": null,
   "metadata": {},
   "outputs": [],
   "source": []
  }
 ],
 "metadata": {
  "kernelspec": {
   "display_name": "Python 3",
   "language": "python",
   "name": "python3"
  },
  "language_info": {
   "codemirror_mode": {
    "name": "ipython",
    "version": 3
   },
   "file_extension": ".py",
   "mimetype": "text/x-python",
   "name": "python",
   "nbconvert_exporter": "python",
   "pygments_lexer": "ipython3",
   "version": "3.7.0"
  }
 },
 "nbformat": 4,
 "nbformat_minor": 2
}
