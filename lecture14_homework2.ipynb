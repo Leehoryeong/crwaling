{
 "cells": [
  {
   "cell_type": "code",
   "execution_count": 32,
   "metadata": {},
   "outputs": [],
   "source": [
    "from bs4 import BeautifulSoup\n",
    "from selenium import webdriver\n",
    "from selenium.webdriver.support.ui import Select\n",
    "import time\n",
    "import math\n",
    "import pandas as pd\n",
    "import numpy as np\n",
    "from selenium.webdriver.common.keys import Keys"
   ]
  },
  {
   "cell_type": "code",
   "execution_count": 125,
   "metadata": {},
   "outputs": [],
   "source": [
    "path = \"chromedriver_240.exe\"\n",
    "driver = webdriver.Chrome(path)\n",
    "\n",
    "driver.get('http://www.president.go.kr/')\n",
    "time.sleep(2)\n",
    "driver.find_element_by_xpath('//*[@id=\"webNavi\"]/li[4]/a').click()"
   ]
  },
  {
   "cell_type": "code",
   "execution_count": 126,
   "metadata": {},
   "outputs": [
    {
     "name": "stdout",
     "output_type": "stream",
     "text": [
      "크롤링 할건수는?34\n"
     ]
    }
   ],
   "source": [
    "cnt = int(input(\"크롤링 할건수는?\"))\n",
    "page_num = math.ceil(cnt/7)"
   ]
  },
  {
   "cell_type": "code",
   "execution_count": 144,
   "metadata": {},
   "outputs": [
    {
     "name": "stdout",
     "output_type": "stream",
     "text": [
      "번호 1565\n",
      "번호 1564\n",
      "번호 1563\n",
      "번호 1562\n",
      "번호 1561\n",
      "번호 1560\n",
      "번호 1559\n",
      "2\n",
      "번호 1558\n",
      "번호 1557\n",
      "번호 1556\n",
      "번호 1555\n",
      "번호 1554\n",
      "번호 1553\n",
      "번호 1552\n",
      "3\n",
      "번호 1551\n",
      "번호 1550\n",
      "번호 1549\n",
      "번호 1548\n",
      "번호 1547\n",
      "번호 1546\n",
      "번호 1545\n",
      "4\n",
      "번호 1544\n",
      "번호 1543\n",
      "번호 1542\n",
      "번호 1541\n",
      "번호 1540\n",
      "번호 1539\n",
      "번호 1538\n",
      "5\n",
      "번호 1537\n",
      "번호 1536\n",
      "번호 1535\n",
      "번호 1534\n",
      "번호 1533\n",
      "번호 1532\n",
      "번호 1531\n",
      "6\n"
     ]
    }
   ],
   "source": [
    "no_list = []\n",
    "num_list = []\n",
    "titles = []\n",
    "cnt_list = []\n",
    "categorys = []\n",
    "start_date = []\n",
    "end_date = []\n",
    "contents = []\n",
    "page = 1\n",
    "num = 1\n",
    "for j in range(1,page_num+1):\n",
    "    html = driver.page_source\n",
    "    soup = BeautifulSoup(html,'html.parser')\n",
    "    posts = soup.find('div','ct_list1').find('ul',)\n",
    "    for i in posts:\n",
    "        link = i.find('a').attrs['href']\n",
    "        no = i.find('div','bl_no').get_text()\n",
    "        no_list.append(no)\n",
    "        print(no)\n",
    "        driver.get('https://www1.president.go.kr/%s'%link)\n",
    "        time.sleep(1)\n",
    "        html1 = driver.page_source\n",
    "        soup1 = BeautifulSoup(html1,'html.parser')\n",
    "        title = soup1.find('h3','petitionsView_title').get_text()\n",
    "        titles.append(title)\n",
    "        content = soup1.find('div','View_write').get_text().replace('\\t','')\n",
    "        contents.append(content)\n",
    "        cnt = soup1.find('h2','petitionsView_count').find('span','counter').get_text()\n",
    "        cnt_list.append(cnt)\n",
    "        box = soup1.find('ul','petitionsView_info_list').select('li')\n",
    "        category = box[0].get_text()\n",
    "        category = category[4:len(category)]\n",
    "        categorys.append(category)\n",
    "        start = box[1].get_text()\n",
    "        start = start[4:len(start)]\n",
    "        start_date.append(start)\n",
    "        end = box[2].get_text()\n",
    "        end = end[4:len(end)]\n",
    "        end_date.append(end)\n",
    "        driver.back()\n",
    "        time.sleep(2)\n",
    "        num += 1\n",
    "        if cnt == num:\n",
    "            break\n",
    "        num_list.append(num)\n",
    "    page += 1\n",
    "    print(page)\n",
    "    driver.find_element_by_link_text(str(page)).click()\n",
    "    time.sleep(2)"
   ]
  },
  {
   "cell_type": "code",
   "execution_count": 143,
   "metadata": {},
   "outputs": [],
   "source": [
    "driver.find_element_by_link_text(str(page)).click()"
   ]
  },
  {
   "cell_type": "code",
   "execution_count": 147,
   "metadata": {},
   "outputs": [
    {
     "data": {
      "text/plain": [
       "1"
      ]
     },
     "execution_count": 147,
     "metadata": {},
     "output_type": "execute_result"
    }
   ],
   "source": [
    "num"
   ]
  },
  {
   "cell_type": "code",
   "execution_count": 145,
   "metadata": {},
   "outputs": [],
   "source": [
    "data = pd.DataFrame({'청원번호':no_list,'청원제목':titles,'청원내용':contents,'참여인원':cnt_list,'카테고리':categorys,'청원시작일':start_date,'청원종료일':end_date})"
   ]
  },
  {
   "cell_type": "code",
   "execution_count": 151,
   "metadata": {},
   "outputs": [],
   "source": [
    "data.to_csv('C:\\\\Users\\\\01048\\\\Desktop\\\\crawling\\\\result\\\\청와대.csv',encoding='utf-8-sig')\n",
    "import xlwt\n",
    "data.to_excel('C:\\\\Users\\\\01048\\\\Desktop\\\\crawling\\\\result\\청와대.xlsx')"
   ]
  }
 ],
 "metadata": {
  "kernelspec": {
   "display_name": "Python 3",
   "language": "python",
   "name": "python3"
  },
  "language_info": {
   "codemirror_mode": {
    "name": "ipython",
    "version": 3
   },
   "file_extension": ".py",
   "mimetype": "text/x-python",
   "name": "python",
   "nbconvert_exporter": "python",
   "pygments_lexer": "ipython3",
   "version": "3.7.6"
  }
 },
 "nbformat": 4,
 "nbformat_minor": 4
}
