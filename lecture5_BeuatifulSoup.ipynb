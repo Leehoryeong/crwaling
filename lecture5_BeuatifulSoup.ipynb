{
 "cells": [
  {
   "cell_type": "code",
   "execution_count": 3,
   "metadata": {},
   "outputs": [
    {
     "name": "stdout",
     "output_type": "stream",
     "text": [
      "Collecting beautifulsoup4\n",
      "  Using cached https://files.pythonhosted.org/packages/cb/a1/c698cf319e9cfed6b17376281bd0efc6bfc8465698f54170ef60a485ab5d/beautifulsoup4-4.8.2-py3-none-any.whl\n",
      "Collecting soupsieve>=1.2 (from beautifulsoup4)\n",
      "  Using cached https://files.pythonhosted.org/packages/81/94/03c0f04471fc245d08d0a99f7946ac228ca98da4fa75796c507f61e688c2/soupsieve-1.9.5-py2.py3-none-any.whl\n",
      "Installing collected packages: soupsieve, beautifulsoup4\n",
      "Successfully installed beautifulsoup4-4.8.2 soupsieve-1.9.5\n"
     ]
    },
    {
     "name": "stderr",
     "output_type": "stream",
     "text": [
      "WARNING: You are using pip version 19.2.3, however version 20.0.2 is available.\n",
      "You should consider upgrading via the 'python -m pip install --upgrade pip' command.\n"
     ]
    }
   ],
   "source": [
    "!pip install beautifulsoup4"
   ]
  },
  {
   "cell_type": "code",
   "execution_count": 6,
   "metadata": {},
   "outputs": [],
   "source": [
    "from bs4 import BeautifulSoup"
   ]
  },
  {
   "cell_type": "code",
   "execution_count": 8,
   "metadata": {},
   "outputs": [
    {
     "data": {
      "text/plain": [
       "<head>\n",
       "<title>HTML 연습</title>\n",
       "</head>"
      ]
     },
     "execution_count": 8,
     "metadata": {},
     "output_type": "execute_result"
    }
   ],
   "source": [
    "ex1 = \"\"\"\n",
    "<html>\n",
    "    <head>\n",
    "        <title>HTML 연습</title>\n",
    "    </head>\n",
    "    <body>\n",
    "        <p align=\"center\">text1</p>\n",
    "        <img src=\"ZIDANE.gif\">\n",
    "    </body>\n",
    "</html>\n",
    "\"\"\"\n",
    "soup = BeautifulSoup(ex1,\"html.parser\") #html 단위별로 분해 후 soup에 저장\n",
    "soup.find('head')"
   ]
  },
  {
   "cell_type": "code",
   "execution_count": 9,
   "metadata": {},
   "outputs": [
    {
     "data": {
      "text/plain": [
       "<p align=\"center\">text1</p>"
      ]
     },
     "execution_count": 9,
     "metadata": {},
     "output_type": "execute_result"
    }
   ],
   "source": [
    "soup.find('p') #find 함수는 한건만 추출"
   ]
  },
  {
   "cell_type": "code",
   "execution_count": 10,
   "metadata": {},
   "outputs": [
    {
     "data": {
      "text/plain": [
       "<p align=\"center\">text1</p>"
      ]
     },
     "execution_count": 10,
     "metadata": {},
     "output_type": "execute_result"
    }
   ],
   "source": [
    "ex1 = \"\"\"\n",
    "<html>\n",
    "    <head>\n",
    "        <title>HTML 연습</title>\n",
    "    </head>\n",
    "    <body>\n",
    "        <p align=\"center\">text1</p>\n",
    "        <p align=\"right\">text2</p>\n",
    "        <p align=\"left\">text3</p>\n",
    "        <img src=\"ZIDANE.gif\">\n",
    "    </body>\n",
    "</html>\n",
    "\"\"\"\n",
    "soup = BeautifulSoup(ex1,\"html.parser\") #html 단위별로 분해 후 soup에 저장\n",
    "soup.find('p')"
   ]
  },
  {
   "cell_type": "code",
   "execution_count": 12,
   "metadata": {},
   "outputs": [
    {
     "data": {
      "text/plain": [
       "<p align=\"center\">text1</p>"
      ]
     },
     "execution_count": 12,
     "metadata": {},
     "output_type": "execute_result"
    }
   ],
   "source": [
    "soup.find('p',align=\"center\")"
   ]
  },
  {
   "cell_type": "code",
   "execution_count": 13,
   "metadata": {},
   "outputs": [
    {
     "data": {
      "text/plain": [
       "<p align=\"right\">text2</p>"
      ]
     },
     "execution_count": 13,
     "metadata": {},
     "output_type": "execute_result"
    }
   ],
   "source": [
    "soup.find('p',align=\"right\")"
   ]
  },
  {
   "cell_type": "code",
   "execution_count": 11,
   "metadata": {},
   "outputs": [
    {
     "data": {
      "text/plain": [
       "<p align=\"left\">text3</p>"
      ]
     },
     "execution_count": 11,
     "metadata": {},
     "output_type": "execute_result"
    }
   ],
   "source": [
    "soup.find('p',align = \"left\")"
   ]
  },
  {
   "cell_type": "code",
   "execution_count": 14,
   "metadata": {},
   "outputs": [
    {
     "data": {
      "text/plain": [
       "[<p align=\"center\">text1</p>,\n",
       " <p align=\"right\">text2</p>,\n",
       " <p align=\"left\">text3</p>]"
      ]
     },
     "execution_count": 14,
     "metadata": {},
     "output_type": "execute_result"
    }
   ],
   "source": [
    "soup.find_all('p') # 한번에 찾아오기"
   ]
  },
  {
   "cell_type": "code",
   "execution_count": 15,
   "metadata": {},
   "outputs": [
    {
     "data": {
      "text/plain": [
       "[<p align=\"center\">text1</p>,\n",
       " <p align=\"right\">text2</p>,\n",
       " <p align=\"left\">text3</p>,\n",
       " <img src=\"ZIDANE.gif\"/>]"
      ]
     },
     "execution_count": 15,
     "metadata": {},
     "output_type": "execute_result"
    }
   ],
   "source": [
    "soup.find_all(['p','img'])"
   ]
  },
  {
   "cell_type": "markdown",
   "metadata": {},
   "source": [
    "# 문장가져오기"
   ]
  },
  {
   "cell_type": "code",
   "execution_count": 16,
   "metadata": {},
   "outputs": [
    {
     "data": {
      "text/plain": [
       "'text1'"
      ]
     },
     "execution_count": 16,
     "metadata": {},
     "output_type": "execute_result"
    }
   ],
   "source": [
    "txt = soup.find('p')\n",
    "txt.string # 태그안의 내용 가져오기"
   ]
  },
  {
   "cell_type": "code",
   "execution_count": 17,
   "metadata": {},
   "outputs": [
    {
     "name": "stdout",
     "output_type": "stream",
     "text": [
      "text1\n",
      "text2\n",
      "text3\n"
     ]
    }
   ],
   "source": [
    "txt2 = soup.find_all('p')\n",
    "for i in txt2:\n",
    "    print(i.string)"
   ]
  },
  {
   "cell_type": "code",
   "execution_count": 18,
   "metadata": {},
   "outputs": [
    {
     "name": "stdout",
     "output_type": "stream",
     "text": [
      "text1\n",
      "text2\n",
      "text3\n"
     ]
    }
   ],
   "source": [
    "txt3 = soup.find_all('p')\n",
    "for i in txt3:\n",
    "    print(i.get_text()) #태그안의 내용 가져오기2"
   ]
  },
  {
   "cell_type": "markdown",
   "metadata": {},
   "source": [
    "# select() 함수를 사용하여 원하는 데이터 추출하기"
   ]
  },
  {
   "cell_type": "code",
   "execution_count": 19,
   "metadata": {},
   "outputs": [],
   "source": [
    "ex2 = \"\"\"\n",
    "<html>\n",
    "    <head>\n",
    "        <h1>사야할 과일</h1>\n",
    "    </head>\n",
    "    <body>\n",
    "        <h1>시장가서 사야할 과일 목록</h1>\n",
    "            <div><p id = 'fruits1' class = 'name1' title = '바나나'>바나나\n",
    "                <span class = 'price'>3000원</span>\n",
    "                <span class = 'count'>10개</span>\n",
    "                <span class = 'store'>바나나가게</span>\n",
    "                <a href = 'www.blog.naver/holavla'>banana.com</a>\n",
    "                </p>\n",
    "            </div>\n",
    "            <div><p id = 'fruits2' class = 'name2' title = '체리'>체리\n",
    "                <span class = 'price'>100원</span>\n",
    "                <span class = 'count'>50개</span>\n",
    "                <span class = 'store'>체리가게</span>\n",
    "                <a href = 'www.blog.naver/holavla'>cherry.com</a>\n",
    "                </p>\n",
    "            </div>\n",
    "            <div><p id = 'fruits3' class = 'name3' title = '오렌지'>오렌지\n",
    "                <span class = 'price'>500원</span>\n",
    "                <span class = 'count'>20개</span>\n",
    "                <span class = 'store'>오렌지가게</span>\n",
    "                <a href = 'www.blog.naver/holavla'>orange.com</a>\n",
    "                </p>\n",
    "            </div>\n",
    "    </body>\n",
    "</html>\n",
    "\"\"\"\n",
    "\n",
    "soup2 = BeautifulSoup(ex2,\"html.parser\")"
   ]
  },
  {
   "cell_type": "code",
   "execution_count": 20,
   "metadata": {},
   "outputs": [
    {
     "data": {
      "text/plain": [
       "[<p class=\"name1\" id=\"fruits1\" title=\"바나나\">바나나\n",
       "                 <span class=\"price\">3000원</span>\n",
       " <span class=\"count\">10개</span>\n",
       " <span class=\"store\">바나나가게</span>\n",
       " <a href=\"www.blog.naver/holavla\">banana.com</a>\n",
       " </p>,\n",
       " <p class=\"name2\" id=\"fruits2\" title=\"체리\">체리\n",
       "                 <span class=\"price\">100원</span>\n",
       " <span class=\"count\">50개</span>\n",
       " <span class=\"store\">체리가게</span>\n",
       " <a href=\"www.blog.naver/holavla\">cherry.com</a>\n",
       " </p>,\n",
       " <p class=\"name3\" id=\"fruits3\" title=\"오렌지\">오렌지\n",
       "                 <span class=\"price\">500원</span>\n",
       " <span class=\"count\">20개</span>\n",
       " <span class=\"store\">오렌지가게</span>\n",
       " <a href=\"www.blog.naver/holavla\">orange.com</a>\n",
       " </p>]"
      ]
     },
     "execution_count": 20,
     "metadata": {},
     "output_type": "execute_result"
    }
   ],
   "source": [
    "# select 태그명\n",
    "soup2.select('p')"
   ]
  },
  {
   "cell_type": "code",
   "execution_count": 21,
   "metadata": {},
   "outputs": [
    {
     "data": {
      "text/plain": [
       "[<p class=\"name1\" id=\"fruits1\" title=\"바나나\">바나나\n",
       "                 <span class=\"price\">3000원</span>\n",
       " <span class=\"count\">10개</span>\n",
       " <span class=\"store\">바나나가게</span>\n",
       " <a href=\"www.blog.naver/holavla\">banana.com</a>\n",
       " </p>]"
      ]
     },
     "execution_count": 21,
     "metadata": {},
     "output_type": "execute_result"
    }
   ],
   "source": [
    "# select('.클래스명')\n",
    "soup2.select('.name1')"
   ]
  },
  {
   "cell_type": "code",
   "execution_count": 22,
   "metadata": {},
   "outputs": [
    {
     "data": {
      "text/plain": [
       "[<span class=\"price\">3000원</span>,\n",
       " <span class=\"count\">10개</span>,\n",
       " <span class=\"store\">바나나가게</span>,\n",
       " <span class=\"price\">100원</span>,\n",
       " <span class=\"count\">50개</span>,\n",
       " <span class=\"store\">체리가게</span>,\n",
       " <span class=\"price\">500원</span>,\n",
       " <span class=\"count\">20개</span>,\n",
       " <span class=\"store\">오렌지가게</span>]"
      ]
     },
     "execution_count": 22,
     "metadata": {},
     "output_type": "execute_result"
    }
   ],
   "source": [
    "# select('상위태그 > 하위태그 > 하위태그')\n",
    "soup2.select('div > p > span')"
   ]
  },
  {
   "cell_type": "code",
   "execution_count": 23,
   "metadata": {},
   "outputs": [
    {
     "data": {
      "text/plain": [
       "[<span class=\"store\">바나나가게</span>]"
      ]
     },
     "execution_count": 23,
     "metadata": {},
     "output_type": "execute_result"
    }
   ],
   "source": [
    "# select('상위태그.클래스이름 >  하위태그.클래스이름')\n",
    "soup2.select('p.name1 > span.store')"
   ]
  },
  {
   "cell_type": "code",
   "execution_count": 24,
   "metadata": {},
   "outputs": [
    {
     "data": {
      "text/plain": [
       "[<p class=\"name1\" id=\"fruits1\" title=\"바나나\">바나나\n",
       "                 <span class=\"price\">3000원</span>\n",
       " <span class=\"count\">10개</span>\n",
       " <span class=\"store\">바나나가게</span>\n",
       " <a href=\"www.blog.naver/holavla\">banana.com</a>\n",
       " </p>]"
      ]
     },
     "execution_count": 24,
     "metadata": {},
     "output_type": "execute_result"
    }
   ],
   "source": [
    "# select('#아이디명')\n",
    "soup2.select('#fruits1')"
   ]
  },
  {
   "cell_type": "code",
   "execution_count": 26,
   "metadata": {},
   "outputs": [
    {
     "data": {
      "text/plain": [
       "[<span class=\"store\">바나나가게</span>]"
      ]
     },
     "execution_count": 26,
     "metadata": {},
     "output_type": "execute_result"
    }
   ],
   "source": [
    "# select('#아이디명 > 태그명.클래스명')\n",
    "soup2.select('#fruits1 > span.store')"
   ]
  },
  {
   "cell_type": "code",
   "execution_count": 27,
   "metadata": {},
   "outputs": [
    {
     "data": {
      "text/plain": [
       "[<a href=\"www.blog.naver/holavla\">banana.com</a>,\n",
       " <a href=\"www.blog.naver/holavla\">cherry.com</a>,\n",
       " <a href=\"www.blog.naver/holavla\">orange.com</a>]"
      ]
     },
     "execution_count": 27,
     "metadata": {},
     "output_type": "execute_result"
    }
   ],
   "source": [
    "# select('태그명[속성1 = 값1]')\n",
    "soup2.select('a[href]')"
   ]
  }
 ],
 "metadata": {
  "kernelspec": {
   "display_name": "Python 3",
   "language": "python",
   "name": "python3"
  },
  "language_info": {
   "codemirror_mode": {
    "name": "ipython",
    "version": 3
   },
   "file_extension": ".py",
   "mimetype": "text/x-python",
   "name": "python",
   "nbconvert_exporter": "python",
   "pygments_lexer": "ipython3",
   "version": "3.7.6"
  }
 },
 "nbformat": 4,
 "nbformat_minor": 2
}
