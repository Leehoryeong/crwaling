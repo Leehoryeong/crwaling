{
 "cells": [
  {
   "cell_type": "code",
   "execution_count": null,
   "metadata": {},
   "outputs": [],
   "source": [
    "# 아래로 스크롤 \n",
    "from selenium.webdriver.common.keys import Keys\n",
    "body = driver.find_element_by_tag_name('body')\n",
    "for i in range(1,20): #한번 스크롤은 약한 편\n",
    "    body.send_keys(Keys.PAGE_DOWN)\n",
    "    time.sleep(0.5)\n",
    "    \n",
    "# 딕셔너리식 원소 찾기\n",
    "comment_box = soup1.find('div',{'id':'contents','class':'style-scope ytd-item-section-renderer'}) #id, class 동시에 입력가능\n",
    "\n",
    "\n",
    "# 새로운 폴더 생성\n",
    "dir_path = 'C:\\\\Users\\\\01048\\\\Desktop\\\\crawling\\\\result\\\\'\n",
    "dir_name = jemok\n",
    "os.makedirs(dir_path + '/' + dir_name + '/')\n",
    "\n",
    "#사진저장\n",
    "import urllib.request\n",
    "outfolder = dir_path + '/' + dir_name + '/' #폴더 지정\n",
    "outfile = jemok + content[0:3] + '%s'%cut +'.jpg' #파일 이름 지정\n",
    "try:\n",
    "    urllib.request.urlretrieve(img_src[i],outfolder + outfile) #urlretrieve 함수: 그 url 주소로 가서 이미지를 다운 받는 함수\n",
    "except:\n",
    "    continue # 이미지를 찾으러 갖는데 이미지가 없는 경우 넘어가라 \n",
    "\n",
    "#네이버 헤더 설정(forbidden 에러)\n",
    "opener=urllib.request.build_opener()\n",
    "opener.addheaders=[('User-Agent','Mozilla/5.0 (Windows NT 6.1; WOW64) AppleWebKit/537.36 (KHTML, like Gecko) Chrome/36.0.1941.0 Safari/537.36')]\n",
    "urllib.request.install_opener(opener)\n",
    "\n",
    "#요일 찾기\n",
    "now = time.localtime()\n",
    "week = ( '월요', '화요', '수요', '목요', '금요', '토요', '일요' );\n",
    "yoil = week[now.tm_wday]\n",
    "\n",
    "#iframe 크롤링 해결방법\n",
    "driver.switch_to.frame('pointAfterListIframe') \n",
    "\n",
    "# a태그의 링크 가져오기\n",
    "link = i.find('a').attrs['href']\n",
    "\n",
    "# 폴더 생성시 경로에 같은 이름이 존재하는지 확인하는 코드\n",
    "try:\n",
    "    if not os.path.exists('C:\\\\Users\\\\01048\\\\Desktop\\\\crawling\\\\result\\\\다음랭킹뉴스 2019년 0%s월'%month):\n",
    "        os.makedirs('C:\\\\Users\\\\01048\\\\Desktop\\\\crawling\\\\result\\\\다음랭킹뉴스 2019년 0%s월'%month)\n",
    "except OSError:\n",
    "    print('존재')\n",
    "    \n",
    "#그래프 폰트 적용\n",
    "plt.rc('font',family ='NEXON Football Gothic')"
   ]
  },
  {
   "cell_type": "markdown",
   "metadata": {},
   "source": [
    "# 달력만들기"
   ]
  },
  {
   "cell_type": "code",
   "execution_count": null,
   "metadata": {},
   "outputs": [],
   "source": [
    "year = '2019'\n",
    "mon = ['01','02','03','04','05','06','07','08','09','10','11','12']\n",
    "\n",
    "start_date2 = []\n",
    "end_date2 = []\n",
    "\n",
    "for i in range(0,len(mon)):\n",
    "    if mon[i] == '02':\n",
    "        sdate = year + mon[i] + '01'\n",
    "        start_date2.append(sdate)\n",
    "        \n",
    "        edate = year + mon[i] + '28'\n",
    "        end_date2.append(edate)\n",
    "    elif mon[i]=='04' or mon[i]=='06' or mon[i]=='09' or mon[i]=='11':\n",
    "        sdate = year + mon[i] + '01'\n",
    "        start_date2.append(sdate)\n",
    "        \n",
    "        edate = year + mon[i] + '30'\n",
    "        end_date2.append(edate)\n",
    "    else:\n",
    "        sdate = year + mon[i] + '01'\n",
    "        start_date2.append(sdate)\n",
    "        \n",
    "        edate = year + mon[i] + '31'\n",
    "        end_date2.append(edate)\n",
    "\n",
    "# 달력 돌리기\n",
    "for x in range(0,len(end_date2)):\n",
    "    start_num = int(start_date2[x])\n",
    "    end_num = int(end_date2[x])\n",
    "    for i in range(start_num,end_num):"
   ]
  }
 ],
 "metadata": {
  "kernelspec": {
   "display_name": "Python 3",
   "language": "python",
   "name": "python3"
  },
  "language_info": {
   "codemirror_mode": {
    "name": "ipython",
    "version": 3
   },
   "file_extension": ".py",
   "mimetype": "text/x-python",
   "name": "python",
   "nbconvert_exporter": "python",
   "pygments_lexer": "ipython3",
   "version": "3.7.6"
  }
 },
 "nbformat": 4,
 "nbformat_minor": 4
}
