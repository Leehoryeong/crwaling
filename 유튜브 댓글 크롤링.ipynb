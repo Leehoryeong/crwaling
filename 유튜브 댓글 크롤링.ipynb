{
 "cells": [
  {
   "cell_type": "code",
   "execution_count": 96,
   "metadata": {},
   "outputs": [],
   "source": [
    "# step1 필요한 모듈 import\n",
    "from bs4 import BeautifulSoup\n",
    "from selenium import webdriver\n",
    "from selenium.webdriver.common.keys import Keys\n",
    "import time\n",
    "import sys\n",
    "import math\n",
    "import numpy as np\n",
    "import pandas as pd\n",
    "import xlwt\n",
    "import urllib.request\n",
    "import os"
   ]
  },
  {
   "cell_type": "code",
   "execution_count": 2,
   "metadata": {},
   "outputs": [],
   "source": [
    "path = 'C:\\\\Users\\\\01048\\\\Desktop\\\\crawling\\\\chromedriver_240.exe'\n",
    "driver = webdriver.Chrome(path)\n",
    "url = 'https://www.youtube.com/'\n",
    "driver.get(url)"
   ]
  },
  {
   "cell_type": "code",
   "execution_count": 124,
   "metadata": {},
   "outputs": [
    {
     "name": "stdout",
     "output_type": "stream",
     "text": [
      "유튜브 검색 키워드: 한화생명\n",
      "검색건수: 5\n",
      "댓글 몇개씩?: 10\n",
      "저장 경로: C:\\\\Users\\\\01048\\\\Desktop\\\\crawling\\\\result\\\\\n"
     ]
    }
   ],
   "source": [
    "query_txt = input('유튜브 검색 키워드: ')\n",
    "video_num = int(input('검색건수: '))\n",
    "cnt = int(input('댓글 몇개씩?: '))\n",
    "road = input('저장 경로: ')\n",
    "#C:\\\\Users\\\\01048\\\\Desktop\\\\crawling\\\\result\\\\"
   ]
  },
  {
   "cell_type": "code",
   "execution_count": 4,
   "metadata": {},
   "outputs": [],
   "source": [
    "element = driver.find_element_by_id('search')\n",
    "element.send_keys(query_txt)\n",
    "driver.find_element_by_xpath('//*[@id=\"search-icon-legacy\"]/yt-icon').click()"
   ]
  },
  {
   "cell_type": "code",
   "execution_count": 183,
   "metadata": {
    "scrolled": true
   },
   "outputs": [
    {
     "name": "stdout",
     "output_type": "stream",
     "text": [
      "한화생명 위기설..위기의 보험업계..일본처럼 보험사 50% 파산 하는가?\n",
      "1\n",
      "한화생명(088350), 인구 구조의 문제_191209\n",
      "2\n",
      "[저평가 우량주 추천] 한화생명 자산 100조원 생명보험사 배당주 19/12/18\n",
      "3\n",
      "[생명보험]삼성생명,한화생명,동양생명등 생명보험사들이 공동재보험 도입으로 자본확충부담을 덜게 되었습니다.\n",
      "4\n",
      "주가 반토막 한화생명 내년 호재 쏟아진다\n",
      "크롤링 종료\n"
     ]
    }
   ],
   "source": [
    "num = 1\n",
    "html = driver.page_source\n",
    "soup = BeautifulSoup(html,'html.parser')\n",
    "body = driver.find_element_by_tag_name('body')\n",
    "box = soup.find('div',{'id':'contents','class':'style-scope ytd-section-list-renderer'})\n",
    "videos = box.find_all('a',{'id':'video-title','class':'yt-simple-endpoint style-scope ytd-video-renderer'})\n",
    "titles = []\n",
    "total_comments = []\n",
    "for video in videos:\n",
    "    link = video.get_text().replace('\\n','')\n",
    "    driver.find_element_by_link_text(link).click()\n",
    "    time.sleep(2)\n",
    "    titles.append(link)\n",
    "    print(link)\n",
    "    for i in range(1,20):\n",
    "        body.send_keys(Keys.PAGE_DOWN)\n",
    "        time.sleep(0.5)\n",
    "    html1 = driver.page_source\n",
    "    soup1 = BeautifulSoup(html1,'html.parser')\n",
    "    comment_num = soup1.find('yt-formatted-string','count-text style-scope ytd-comments-header-renderer').get_text()\n",
    "    comment_box = soup1.find('div',{'id':'contents','class':'style-scope ytd-item-section-renderer'})\n",
    "    total_comments.append(comment_num)\n",
    "    \n",
    "    ids =[]\n",
    "    comment_contents = []\n",
    "    likes = []\n",
    "    for comment in comment_box:\n",
    "        user_id = comment.find('a',{'id':'author-text','class':'yt-simple-endpoint style-scope ytd-comment-renderer'}).get_text().replace('\\n','').replace(' ','')\n",
    "        ids.append(user_id)\n",
    "        comment_content = comment.find('div',{'id':'content','class':'style-scope ytd-expander'}).get_text().replace('\\n','')\n",
    "        comment_contents.append(comment_content)\n",
    "        like = comment.find('span',{'id':'vote-count-middle','class':'style-scope ytd-comment-action-buttons-renderer'}).get_text().replace('\\n','').replace(' ','')\n",
    "        likes.append(like)\n",
    "    my_dict = {'제목':link,'총 댓글수':comment_num,'유저':ids,'댓글내용':comment_contents,'좋아요 수':likes}\n",
    "    data = pd.Series(my_dict)\n",
    "    data.to_excel(road+'%s'%num+'번째영상.xlsx')\n",
    "    if num == video_num:\n",
    "        print('크롤링 종료')\n",
    "        break\n",
    "    print(num)\n",
    "    num += 1\n",
    "    driver.back()\n",
    "    time.sleep(2)\n",
    "\n"
   ]
  }
 ],
 "metadata": {
  "kernelspec": {
   "display_name": "Python 3",
   "language": "python",
   "name": "python3"
  },
  "language_info": {
   "codemirror_mode": {
    "name": "ipython",
    "version": 3
   },
   "file_extension": ".py",
   "mimetype": "text/x-python",
   "name": "python",
   "nbconvert_exporter": "python",
   "pygments_lexer": "ipython3",
   "version": "3.7.6"
  }
 },
 "nbformat": 4,
 "nbformat_minor": 4
}
