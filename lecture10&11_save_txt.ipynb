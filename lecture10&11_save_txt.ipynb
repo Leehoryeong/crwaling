{
 "cells": [
  {
   "cell_type": "code",
   "execution_count": 2,
   "metadata": {},
   "outputs": [],
   "source": [
    "from bs4 import BeautifulSoup\n",
    "from selenium import webdriver\n",
    "import time\n",
    "import sys\n"
   ]
  },
  {
   "cell_type": "code",
   "execution_count": null,
   "metadata": {},
   "outputs": [],
   "source": [
    "query_txt = input(\"크룰링할 키워드: \")\n",
    "f_name = input(\"검색 결과로 저장할 파일경로와 이름 지정: \") #어디에 저장할까요?\n",
    "#  C:\\Users\\01048\\Desktop\\crawling\\result\\test1.txt"
   ]
  },
  {
   "cell_type": "code",
   "execution_count": 3,
   "metadata": {},
   "outputs": [
    {
     "name": "stdout",
     "output_type": "stream",
     "text": [
      "크롤링할 키워드는?봄여행\n"
     ]
    }
   ],
   "source": [
    "query_txt = input(\"크롤링할 키워드는?\")\n",
    "\n",
    "# step1 크롬 웹드라이버로 웹 브라우저 실행\n",
    "path = 'chromedriver_240.exe'\n",
    "driver = webdriver.Chrome(path)\n",
    "\n",
    "driver.get('https://korean.visitkorea.or.kr/main/main.html') #홈페이지 열어\n",
    "time.sleep(2) # 위 페이지가 모두 열릴 때까지 2초 대기\n",
    "\n",
    "# step2 검색창을 찾아서 검색어 입력\n",
    "driver.find_element_by_id('btnSearch').click()\n",
    "element = driver.find_element_by_id('inp_search')\n",
    "element.send_keys(query_txt)\n",
    "\n",
    "# step3 검색 버튼 실행\n",
    "driver.find_element_by_link_text('검색').click()"
   ]
  },
  {
   "cell_type": "code",
   "execution_count": 6,
   "metadata": {},
   "outputs": [
    {
     "name": "stdout",
     "output_type": "stream",
     "text": [
      "세계자연유산(UNESCO)의 봄을 느끼며, 제주도 동부 여행  제주도  #장애인추천코스#제주가볼만한곳#제주당일코스#제주민속촌#제주올레길#제주해녀박물관#김녕어울림센터#월정리해변#제주돌문화공원#절물자연휴양림#메이즈랜드#두맹이골목#제주1박2일코스#제주2박3일코스#무장애여행지#장애인추천여행지#풍경여행#성산포JC공원#유채꽃#오디오가이드#청굴물#제주돌박물관#삼울길#제주맛집#봄!_가족과_함께#인증샷투어#공공누리 더보기  즐겨찾기 공유하기\n",
      "\n",
      "\n",
      "봄의 유혹, 유채와 튤립을 가슴에 담다 '경남 남해 봄꽃 여행'  경상남도 남해군 #봄꽃여행#봄꽃열전#봄꽃축제 더보기  즐겨찾기 공유하기\n",
      "\n",
      "\n",
      "한국관광공사 추천 5월 걷기여행길, 싱그러운 봄 날씨와 어울리는 길  경기도  #대부해솔길#안산가볼만한곳#트레킹코스#선비순례길#선성현길#안동가볼만한곳#힐링#휴양여행#힐링여행#걷기여행#팔공산올레길#부인사도보길#대구가볼만한곳#진안고원길#감동벼룻길#진안가볼만한곳#버그내순례길#당진가볼만한곳#오리숲길#세조길#보은가볼만한곳#가야산소리길#해인사소리길#합천가볼만한곳#한국관광7선#싱그러운봄#가정의달#봄여행#걷기여행길 더보기  즐겨찾기 공유하기\n",
      "\n",
      "\n",
      "마음을 나누는 엄마 딸 여행, 서울 남산 주변과 한강 물길 봄나들이  서울  #서울가볼만한곳#아이와함께#친구와함께#연인과함께#봄에가볼만한곳#충무로역#오재미동#영상예술#예술통#거리미술관#필동#남산골한옥마을#전통가옥#국악당#체험학습#전통문화체험#서울천년타임캡슐광장#남산케이블카#N서울타워#남산#한양도성성곽길#안중근의사기념관#남산도서관#서울여행코스#양화한강공원#한강#피크닉#나들이#봄나들이#선유도공원#카페나루#서울맛집#달강#서래섬#세빛섬#튜브스터#밤도깨비야시장#낭만달빛마켓#반포한강공원야시장#반포한강공원#서울밤도깨비야시장#스트리트뮤지엄#힐링#한강자전거 더보기  즐겨찾기 공유하기\n",
      "\n",
      "\n",
      "[강원] 강원도 '다시 봄!' - 봄 여행에 어울리는 강원도 숙소 모음  강원도  #한국관광품질인증#여행기사#추천숙박#파로호한옥펜션#강릉오죽한옥마을#호텔탑스빌#MGM호텔#피카소호텔#화천#강릉#동해#바다#강원숙소#인증숙소#우수숙소#봄!_가족과_함께#강원도여행 더보기  즐겨찾기 공유하기\n",
      "\n",
      "\n",
      "[KTX매거진] 남도 풍류길 따라 봄을 노래하다, 남도바닷길 여행  전라남도 #대한민국 테마여행10선#남도바닷길#여수#여수향일암#순천#순천만정원#광양#광양매화마을#보성#보성녹차밭#KTX매거진#봄!_가족과_함께 더보기  즐겨찾기 공유하기\n",
      "\n",
      "\n",
      "봄바람 따라 살랑살랑 통영 1박2일 여행코스  경상남도 통영시 #통영#통영1박2일코스#통영가볼만한곳#장사도해상공원#박경리기념관#미래사#서피랑#봄여행#봄여행지#봄여행지추천#취향따라_떠나는_특별한_보통날#봄여행주간 더보기  즐겨찾기 공유하기\n",
      "\n",
      "\n",
      "걷고, 먹고, 즐기고··· 포항으로 떠나는 봄 별미 여행  경상북도 포항시 #트레킹#내연산계곡#보경사#경상북도수목원#연산폭포#관음폭포#기청산식물원#사방기념공원#죽도시장#맛집#물회#포항운하#영일대해수욕장#구룡포#근대문화역사거리#추천가볼만한곳#포항가볼만한곳#포항당일코스#포항1박2일코스#포항맛집#미식여행#모리국수#2015년5월추천가볼만한곳#5월추천가볼만한곳#봄_제철음식 더보기  즐겨찾기 공유하기\n",
      "\n",
      "\n",
      "거제&통영 여행 꿀팁. 깨알 팁 다수 포함! 봄 산책하기 좋은 1박2일 거제&통영 여행 코스  경상남도 거제시 #거제맛집#거제여행#거제가볼만한곳#통영여행#통영가볼만한곳#통영맛집#통영루지#봄산책#봄여행#걷기좋은길 더보기  즐겨찾기 공유하기\n",
      "\n",
      "\n",
      "한국관광공사 추천 4월 걷기여행길, 따스한 봄 날씨와 어울리는 길  강원도  #걷기여행길#4월가볼만한곳 더보기  즐겨찾기 공유하기\n",
      "\n",
      "\n"
     ]
    }
   ],
   "source": [
    "# step4 현재 페이지에 있는 내용을 화면에 출력하기\n",
    "time.sleep(1)\n",
    "\n",
    "full_html = driver.page_source #page_source : 현재 웹페이지의 전체 소스코드 다 가져와\n",
    "soup = BeautifulSoup(full_html, 'html.parser')\n",
    "\n",
    "content_list = soup.find('ul', class_='list_thumType flnon')\n",
    "\n",
    "for i in content_list:\n",
    "    print(i.text.strip())\n",
    "    print(\"\\n\")"
   ]
  },
  {
   "cell_type": "markdown",
   "metadata": {},
   "source": [
    "# 파일 형식 별로 저장하기"
   ]
  },
  {
   "cell_type": "code",
   "execution_count": null,
   "metadata": {},
   "outputs": [],
   "source": [
    "# step5 현재 페이지에 있는 내용을 txt 형식으로 파일에 저장하기\n",
    "orig_stdout = sys.stdout\n",
    "f = open(f_name,'a',encoding='UTF-8') # 표준 출력이 모니터에서 파일로 변경\n",
    "sys.stdout = f\n",
    "time.sleep(1)\n",
    "\n",
    "html = driver.page_source\n",
    "soup = BeautifulSoup(html, 'html.parser')\n",
    "\n",
    "content_list = soup.find('ul', class_='list_thumType flnon')\n",
    "\n",
    "for i in content_list:\n",
    "    print(i.text.strip())\n",
    "    print(\"\\n\")\n",
    "\n",
    "sys.stdout = orig_stdout    \n",
    "f.close()\n",
    "\n",
    "print(\"수행 완료\")"
   ]
  }
 ],
 "metadata": {
  "kernelspec": {
   "display_name": "Python 3",
   "language": "python",
   "name": "python3"
  },
  "language_info": {
   "codemirror_mode": {
    "name": "ipython",
    "version": 3
   },
   "file_extension": ".py",
   "mimetype": "text/x-python",
   "name": "python",
   "nbconvert_exporter": "python",
   "pygments_lexer": "ipython3",
   "version": "3.7.6"
  }
 },
 "nbformat": 4,
 "nbformat_minor": 4
}
