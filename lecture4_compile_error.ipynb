{
 "cells": [
  {
   "cell_type": "code",
   "execution_count": 1,
   "metadata": {},
   "outputs": [
    {
     "data": {
      "text/plain": [
       "'\\ntry:\\n    예외가 발생할 문장\\nexcept 예외 종류:\\n    예외가 발생하면 실행할 문장\\nelse:\\n    예외가 발생하지 않을 때 실행할 문장\\n'"
      ]
     },
     "execution_count": 1,
     "metadata": {},
     "output_type": "execute_result"
    }
   ],
   "source": [
    "\"\"\"\n",
    "try:\n",
    "    예외가 발생할 문장\n",
    "except 예외 종류:\n",
    "    예외가 발생하면 실행할 문장\n",
    "else:\n",
    "    예외가 발생하지 않을 때 실행할 문장\n",
    "\"\"\""
   ]
  },
  {
   "cell_type": "markdown",
   "metadata": {},
   "source": [
    "웹크롤러의 경우 수 많은 데이터를 긁어오다가 에러가 생겨 전체가 날라가는 경우가 존재하므로\n",
    "예외처리가 중요하다!!"
   ]
  },
  {
   "cell_type": "code",
   "execution_count": 4,
   "metadata": {},
   "outputs": [
    {
     "name": "stdout",
     "output_type": "stream",
     "text": [
      "정상적인 경우\n",
      "숫자 1개 입력10\n",
      "10\n",
      "\n",
      "\n",
      "예외가 발생하는 경우\n",
      "숫자 1개 입력ㅁ\n"
     ]
    },
    {
     "ename": "ValueError",
     "evalue": "invalid literal for int() with base 10: 'ㅁ'",
     "output_type": "error",
     "traceback": [
      "\u001b[1;31m---------------------------------------------------------------------------\u001b[0m",
      "\u001b[1;31mValueError\u001b[0m                                Traceback (most recent call last)",
      "\u001b[1;32m<ipython-input-4-c24cf8278ae8>\u001b[0m in \u001b[0;36m<module>\u001b[1;34m()\u001b[0m\n\u001b[0;32m      9\u001b[0m \u001b[1;31m#예외가 발생하는 경우\u001b[0m\u001b[1;33m\u001b[0m\u001b[1;33m\u001b[0m\u001b[0m\n\u001b[0;32m     10\u001b[0m \u001b[0mprint\u001b[0m\u001b[1;33m(\u001b[0m\u001b[1;34m'예외가 발생하는 경우'\u001b[0m\u001b[1;33m)\u001b[0m\u001b[1;33m\u001b[0m\u001b[0m\n\u001b[1;32m---> 11\u001b[1;33m \u001b[0mno2\u001b[0m \u001b[1;33m=\u001b[0m \u001b[0mint\u001b[0m\u001b[1;33m(\u001b[0m\u001b[0minput\u001b[0m\u001b[1;33m(\u001b[0m\u001b[1;34m'숫자 1개 입력'\u001b[0m\u001b[1;33m)\u001b[0m\u001b[1;33m)\u001b[0m\u001b[1;33m\u001b[0m\u001b[0m\n\u001b[0m",
      "\u001b[1;31mValueError\u001b[0m: invalid literal for int() with base 10: 'ㅁ'"
     ]
    }
   ],
   "source": [
    "# 예외처리 예제1\n",
    "\n",
    "# 정상적인 경우\n",
    "print(\"정상적인 경우\")\n",
    "no1 = int(input('숫자 1개 입력'))\n",
    "print(no1)\n",
    "\n",
    "print('\\n')\n",
    "#예외가 발생하는 경우\n",
    "print('예외가 발생하는 경우')\n",
    "no2 = int(input('숫자 1개 입력'))"
   ]
  },
  {
   "cell_type": "code",
   "execution_count": 9,
   "metadata": {},
   "outputs": [
    {
     "name": "stdout",
     "output_type": "stream",
     "text": [
      "예외가 발생하는 경우\n",
      "숫자 1개 입력A\n",
      "숫자를 입력하세요\n"
     ]
    }
   ],
   "source": [
    "# 예외처리 예제2\n",
    "# 예외처리를 적용한 경우\n",
    "print('예외가 발생하는 경우')\n",
    "try:\n",
    "    no2 = int(input('숫자 1개 입력'))\n",
    "except ValueError: #ValueError를 제외하자\n",
    "    print('숫자를 입력하세요')"
   ]
  },
  {
   "cell_type": "code",
   "execution_count": 10,
   "metadata": {},
   "outputs": [
    {
     "ename": "ZeroDivisionError",
     "evalue": "division by zero",
     "output_type": "error",
     "traceback": [
      "\u001b[1;31m---------------------------------------------------------------------------\u001b[0m",
      "\u001b[1;31mZeroDivisionError\u001b[0m                         Traceback (most recent call last)",
      "\u001b[1;32m<ipython-input-10-7b289c24346a>\u001b[0m in \u001b[0;36m<module>\u001b[1;34m()\u001b[0m\n\u001b[0;32m      2\u001b[0m \u001b[0mno1\u001b[0m \u001b[1;33m=\u001b[0m \u001b[1;36m10\u001b[0m\u001b[1;33m\u001b[0m\u001b[0m\n\u001b[0;32m      3\u001b[0m \u001b[0mno2\u001b[0m \u001b[1;33m=\u001b[0m \u001b[1;36m0\u001b[0m\u001b[1;33m\u001b[0m\u001b[0m\n\u001b[1;32m----> 4\u001b[1;33m \u001b[0mprint\u001b[0m\u001b[1;33m(\u001b[0m\u001b[0mno1\u001b[0m\u001b[1;33m/\u001b[0m\u001b[0mno2\u001b[0m\u001b[1;33m)\u001b[0m\u001b[1;33m\u001b[0m\u001b[0m\n\u001b[0m",
      "\u001b[1;31mZeroDivisionError\u001b[0m: division by zero"
     ]
    }
   ],
   "source": [
    "# 예외처리 예제 3\n",
    "no1 = 10\n",
    "no2 = 0\n",
    "print(no1/no2)"
   ]
  },
  {
   "cell_type": "code",
   "execution_count": 11,
   "metadata": {},
   "outputs": [
    {
     "name": "stdout",
     "output_type": "stream",
     "text": [
      "0으로 나눌수 없어요\n"
     ]
    }
   ],
   "source": [
    "try:\n",
    "    print(no1/no2)\n",
    "except ZeroDivisionError:\n",
    "    print('0으로 나눌수 없어요')"
   ]
  },
  {
   "cell_type": "code",
   "execution_count": 12,
   "metadata": {},
   "outputs": [
    {
     "name": "stdout",
     "output_type": "stream",
     "text": [
      "예외 상황 발생\n"
     ]
    }
   ],
   "source": [
    "# 예외처리 예제4\n",
    "try:\n",
    "    print(no1/no2)\n",
    "except (ValueError,ZeroDivisionError):\n",
    "    print(\"예외 상황 발생\")"
   ]
  },
  {
   "cell_type": "code",
   "execution_count": 13,
   "metadata": {},
   "outputs": [
    {
     "name": "stdout",
     "output_type": "stream",
     "text": [
      "0으로 나눌수 없습니다.\n"
     ]
    }
   ],
   "source": [
    "# 예외처리 예제5\n",
    "no1 =10\n",
    "no2 =0\n",
    "\n",
    "try:\n",
    "    print(no1/no2)\n",
    "except ZeroDivisionError:\n",
    "    print(\"0으로 나눌수 없습니다.\")\n",
    "except ValueError:\n",
    "    print('잘못된 값입니다.')"
   ]
  },
  {
   "cell_type": "code",
   "execution_count": 14,
   "metadata": {},
   "outputs": [
    {
     "name": "stdout",
     "output_type": "stream",
     "text": [
      "예외 발생\n"
     ]
    }
   ],
   "source": [
    "# 예외처리 예제6\n",
    "\n",
    "try:\n",
    "    print(no1/no2)\n",
    "except : #모든예외를 제외\n",
    "    print('예외 발생')"
   ]
  },
  {
   "cell_type": "code",
   "execution_count": 16,
   "metadata": {},
   "outputs": [
    {
     "name": "stdout",
     "output_type": "stream",
     "text": [
      "숫자만 입력하세요:A\n",
      "꼭 숫자만 입력하세요\n"
     ]
    }
   ],
   "source": [
    "# 예외처리 예제7\n",
    "try:\n",
    "    no = int(input(\"숫자만 입력하세요:\"))\n",
    "except :\n",
    "    print(\"꼭 숫자만 입력하세요\")\n",
    "else:\n",
    "    print(\"입력하신 숫자는 %s입니다.\" %no)"
   ]
  },
  {
   "cell_type": "code",
   "execution_count": 25,
   "metadata": {},
   "outputs": [
    {
     "data": {
      "text/plain": [
       "5"
      ]
     },
     "execution_count": 25,
     "metadata": {},
     "output_type": "execute_result"
    }
   ],
   "source": [
    "f = open(\"C:\\\\Users\\\\01048\\\\Desktop\\\\crawling\\\\예외처리연습.txt\",\"r\",encoding=\"utf-8-sig\")\n",
    "weins = f.readlines()\n"
   ]
  },
  {
   "cell_type": "code",
   "execution_count": 34,
   "metadata": {},
   "outputs": [
    {
     "name": "stdout",
     "output_type": "stream",
     "text": [
      "몇건을 출력할까요?:5\n",
      "홍길동\n",
      "\n",
      "일지매\n",
      "\n",
      "전우치\n",
      "\n",
      "강감찬\n",
      "\n",
      "신사임당\n",
      "\n",
      "모든 행의 출력이 완료되었습니다.\n"
     ]
    }
   ],
   "source": [
    "i = int(input('몇건을 출력할까요?:'))\n",
    "for i in range(0,i+1):\n",
    "    try:\n",
    "        print(weins[i])\n",
    "    except IndexError:\n",
    "        print(\"\\n모든 행의 출력이 완료되었습니다.\")\n",
    "        break"
   ]
  }
 ],
 "metadata": {
  "kernelspec": {
   "display_name": "Python 3",
   "language": "python",
   "name": "python3"
  },
  "language_info": {
   "codemirror_mode": {
    "name": "ipython",
    "version": 3
   },
   "file_extension": ".py",
   "mimetype": "text/x-python",
   "name": "python",
   "nbconvert_exporter": "python",
   "pygments_lexer": "ipython3",
   "version": "3.7.0"
  }
 },
 "nbformat": 4,
 "nbformat_minor": 2
}
