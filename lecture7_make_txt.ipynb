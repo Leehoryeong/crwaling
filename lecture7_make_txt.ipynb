{
 "cells": [
  {
   "cell_type": "code",
   "execution_count": 3,
   "metadata": {},
   "outputs": [],
   "source": [
    "from bs4 import BeautifulSoup\n",
    "from selenium import webdriver\n",
    "import time\n",
    "import sys\n"
   ]
  },
  {
   "cell_type": "code",
   "execution_count": 38,
   "metadata": {},
   "outputs": [
    {
     "name": "stdout",
     "output_type": "stream",
     "text": [
      "Collecting pandas\n",
      "  Downloading https://files.pythonhosted.org/packages/4b/45/b0507495da43373f366195421b383f7c7ba86a00e36def6ef6de438bc7d7/pandas-1.0.0-cp37-cp37m-win_amd64.whl (9.0MB)\n",
      "Collecting numpy>=1.13.3 (from pandas)\n",
      "  Downloading https://files.pythonhosted.org/packages/a9/38/f6d6d8635d496d6b4ed5d8ca4b9f193d0edc59999c3a63779cbc38aa650f/numpy-1.18.1-cp37-cp37m-win_amd64.whl (12.8MB)\n",
      "Collecting pytz>=2017.2 (from pandas)\n",
      "  Downloading https://files.pythonhosted.org/packages/e7/f9/f0b53f88060247251bf481fa6ea62cd0d25bf1b11a87888e53ce5b7c8ad2/pytz-2019.3-py2.py3-none-any.whl (509kB)\n",
      "Requirement already satisfied: python-dateutil>=2.6.1 in c:\\users\\01048\\appdata\\local\\programs\\python\\python37\\lib\\site-packages (from pandas) (2.8.1)\n",
      "Requirement already satisfied: six>=1.5 in c:\\users\\01048\\appdata\\local\\programs\\python\\python37\\lib\\site-packages (from python-dateutil>=2.6.1->pandas) (1.14.0)\n",
      "Installing collected packages: numpy, pytz, pandas\n",
      "Successfully installed numpy-1.18.1 pandas-1.0.0 pytz-2019.3\n"
     ]
    },
    {
     "name": "stderr",
     "output_type": "stream",
     "text": [
      "WARNING: You are using pip version 19.2.3, however version 20.0.2 is available.\n",
      "You should consider upgrading via the 'python -m pip install --upgrade pip' command.\n"
     ]
    },
    {
     "name": "stdout",
     "output_type": "stream",
     "text": [
      "Requirement already satisfied: numpy in c:\\users\\01048\\appdata\\local\\programs\\python\\python37\\lib\\site-packages (1.18.1)\n"
     ]
    },
    {
     "name": "stderr",
     "output_type": "stream",
     "text": [
      "WARNING: You are using pip version 19.2.3, however version 20.0.2 is available.\n",
      "You should consider upgrading via the 'python -m pip install --upgrade pip' command.\n"
     ]
    }
   ],
   "source": [
    "!pip install pandas\n",
    "!pip install numpy"
   ]
  },
  {
   "cell_type": "code",
   "execution_count": 39,
   "metadata": {},
   "outputs": [],
   "source": [
    "import numpy as np\n",
    "import pandas as pd"
   ]
  },
  {
   "cell_type": "code",
   "execution_count": 36,
   "metadata": {
    "scrolled": true
   },
   "outputs": [
    {
     "ename": "ModuleNotFoundError",
     "evalue": "No module named 'pandas'",
     "output_type": "error",
     "traceback": [
      "\u001b[1;31m---------------------------------------------------------------------------\u001b[0m",
      "\u001b[1;31mModuleNotFoundError\u001b[0m                       Traceback (most recent call last)",
      "\u001b[1;32m<ipython-input-36-7dd3504c366f>\u001b[0m in \u001b[0;36m<module>\u001b[1;34m\u001b[0m\n\u001b[1;32m----> 1\u001b[1;33m \u001b[1;32mimport\u001b[0m \u001b[0mpandas\u001b[0m \u001b[1;32mas\u001b[0m \u001b[0mpd\u001b[0m\u001b[1;33m\u001b[0m\u001b[1;33m\u001b[0m\u001b[0m\n\u001b[0m",
      "\u001b[1;31mModuleNotFoundError\u001b[0m: No module named 'pandas'"
     ]
    }
   ],
   "source": []
  },
  {
   "cell_type": "code",
   "execution_count": 17,
   "metadata": {},
   "outputs": [
    {
     "name": "stdout",
     "output_type": "stream",
     "text": [
      "크룰링할 키워드: seoul\n",
      "검색 결과로 저장할 파일경로와 이름 지정: C:\\Users\\01048\\Desktop\\crawling\\result\\test1.txt\n"
     ]
    }
   ],
   "source": [
    "query_txt = input(\"크룰링할 키워드: \")\n",
    "f_name = input(\"검색 결과로 저장할 파일경로와 이름 지정: \")\n",
    "#  C:\\Users\\01048\\Desktop\\crawling\\result\\test1.txt"
   ]
  },
  {
   "cell_type": "code",
   "execution_count": 9,
   "metadata": {},
   "outputs": [],
   "source": [
    "# step1 크롬 웹드라이버로 웹 브라우저 실행\n",
    "path = 'chromedriver_240.exe'\n",
    "driver = webdriver.Chrome(path)\n",
    "driver.get('https://korean.visitkorea.or.kr/main/main.html') #홈페이지 열어\n",
    "time.sleep(2) # 위 페이지가 모두 열릴 때까지 2초 대기 (안열려서 오류 나는 경우가 많음)\n",
    "\n",
    "# step2 검색창을 찾아서 검색어 입력\n",
    "driver.find_element_by_id('btnSearch').click()\n",
    "element = driver.find_element_by_id('inp_search')\n",
    "element.send_keys(query_txt)\n",
    "\n",
    "# step3 검색 버튼 실행\n",
    "driver.find_element_by_xpath('//*[@id=\"gnbMain\"]/div/div/div[1]/div[1]/a').click()"
   ]
  },
  {
   "cell_type": "code",
   "execution_count": null,
   "metadata": {},
   "outputs": [],
   "source": [
    "# step4 현재 페이지에 있는 내용을 화면에 출력하기\n",
    "time.sleep(1)\n",
    "\n",
    "full_html = driver.page_source #page_source : 현재 웹페이지의 전체 소스코드 다 가져와\n",
    "soup = BeautifulSoup(full_html, 'html.parser')\n",
    "\n",
    "content_list = soup.find('ul', class_='list_thumType flnon')\n",
    "\n",
    "for i in content_list:\n",
    "    print(i.text.strip())\n",
    "    print(\"\\n\")"
   ]
  },
  {
   "cell_type": "code",
   "execution_count": 19,
   "metadata": {},
   "outputs": [],
   "source": [
    "# step5 현재 페이지에 있는 내용을 txt 형식으로 파일에 저장하기\n",
    "orig_stdout = sys.stdout\n",
    "f = open(f_name,'a',encoding='UTF-8') # 표준 출력이 모니터에서 파일로 변경\n",
    "sys.stdout = f\n",
    "time.sleep(1)\n",
    "\n",
    "html = driver.page_source\n",
    "soup = BeautifulSoup(html, 'html.parser')\n",
    "\n",
    "content_list = soup.find('ul', class_='list_thumType flnon')\n",
    "\n",
    "for i in content_list:\n",
    "    print(i.text.strip())\n",
    "    print(\"\\n\")\n",
    "\n",
    "sys.stdout = orig_stdout    \n",
    "f.close()\n",
    "\n",
    "print(\"수행 완료\")"
   ]
  },
  {
   "cell_type": "code",
   "execution_count": 37,
   "metadata": {
    "scrolled": true
   },
   "outputs": [
    {
     "ename": "TypeError",
     "evalue": "'NoneType' object is not iterable",
     "output_type": "error",
     "traceback": [
      "\u001b[1;31m---------------------------------------------------------------------------\u001b[0m",
      "\u001b[1;31mTypeError\u001b[0m                                 Traceback (most recent call last)",
      "\u001b[1;32m<ipython-input-37-bf720ee36219>\u001b[0m in \u001b[0;36m<module>\u001b[1;34m\u001b[0m\n\u001b[0;32m     10\u001b[0m \u001b[0mcontent_list\u001b[0m \u001b[1;33m=\u001b[0m \u001b[0msoup\u001b[0m\u001b[1;33m.\u001b[0m\u001b[0mfind\u001b[0m\u001b[1;33m(\u001b[0m\u001b[1;34m'ul'\u001b[0m\u001b[1;33m,\u001b[0m \u001b[0mclass_\u001b[0m\u001b[1;33m=\u001b[0m\u001b[1;34m'list_thumType flnon'\u001b[0m\u001b[1;33m)\u001b[0m\u001b[1;33m\u001b[0m\u001b[1;33m\u001b[0m\u001b[0m\n\u001b[0;32m     11\u001b[0m \u001b[1;33m\u001b[0m\u001b[0m\n\u001b[1;32m---> 12\u001b[1;33m \u001b[1;32mfor\u001b[0m \u001b[0mi\u001b[0m \u001b[1;32min\u001b[0m \u001b[0mcontent_list\u001b[0m\u001b[1;33m:\u001b[0m\u001b[1;33m\u001b[0m\u001b[1;33m\u001b[0m\u001b[0m\n\u001b[0m\u001b[0;32m     13\u001b[0m     \u001b[0mprint\u001b[0m\u001b[1;33m(\u001b[0m\u001b[0mi\u001b[0m\u001b[1;33m.\u001b[0m\u001b[0mtext\u001b[0m\u001b[1;33m.\u001b[0m\u001b[0mstrip\u001b[0m\u001b[1;33m(\u001b[0m\u001b[1;33m)\u001b[0m\u001b[1;33m)\u001b[0m\u001b[1;33m\u001b[0m\u001b[1;33m\u001b[0m\u001b[0m\n\u001b[0;32m     14\u001b[0m     \u001b[0mprint\u001b[0m\u001b[1;33m(\u001b[0m\u001b[1;34m\"\\n\"\u001b[0m\u001b[1;33m)\u001b[0m\u001b[1;33m\u001b[0m\u001b[1;33m\u001b[0m\u001b[0m\n",
      "\u001b[1;31mTypeError\u001b[0m: 'NoneType' object is not iterable"
     ]
    }
   ],
   "source": [
    "# step5 현재 페이지에 있는 내용을 txt 형식으로 파일에 저장하기\n",
    "orig_stdout = sys.stdout\n",
    "f = open(f_name,'a',encoding='UTF-8') # 표준 출력이 모니터에서 파일로 변경\n",
    "sys.stdout = f\n",
    "time.sleep(1)\n",
    "\n",
    "html = driver.page_source\n",
    "soup = BeautifulSoup(html, 'html.parser')\n",
    "\n",
    "content_list = soup.find('ul', class_='list_thumType flnon')\n",
    "\n",
    "for i in content_list:\n",
    "    print(i.text.strip())\n",
    "    print(\"\\n\")\n",
    "\n",
    "sys.stdout = orig_stdout    \n",
    "f.close()\n",
    "\n",
    "print(\"수행 완료\")"
   ]
  },
  {
   "cell_type": "markdown",
   "metadata": {},
   "source": [
    "# 삼성생명 유튜브 크롤링"
   ]
  },
  {
   "cell_type": "code",
   "execution_count": 91,
   "metadata": {},
   "outputs": [
    {
     "ename": "AttributeError",
     "evalue": "'list' object has no attribute 'sleep'",
     "output_type": "error",
     "traceback": [
      "\u001b[1;31m---------------------------------------------------------------------------\u001b[0m",
      "\u001b[1;31mAttributeError\u001b[0m                            Traceback (most recent call last)",
      "\u001b[1;32m<ipython-input-91-5f84115105ab>\u001b[0m in \u001b[0;36m<module>\u001b[1;34m\u001b[0m\n\u001b[0;32m      3\u001b[0m \u001b[0mdriver\u001b[0m \u001b[1;33m=\u001b[0m \u001b[0mwebdriver\u001b[0m\u001b[1;33m.\u001b[0m\u001b[0mChrome\u001b[0m\u001b[1;33m(\u001b[0m\u001b[0mpath\u001b[0m\u001b[1;33m)\u001b[0m\u001b[1;33m\u001b[0m\u001b[1;33m\u001b[0m\u001b[0m\n\u001b[0;32m      4\u001b[0m \u001b[0mdriver\u001b[0m\u001b[1;33m.\u001b[0m\u001b[0mget\u001b[0m\u001b[1;33m(\u001b[0m\u001b[1;34m'https://www.youtube.com/user/SamsunglifeBlogs/videos'\u001b[0m\u001b[1;33m)\u001b[0m \u001b[1;31m#홈페이지 열어\u001b[0m\u001b[1;33m\u001b[0m\u001b[1;33m\u001b[0m\u001b[0m\n\u001b[1;32m----> 5\u001b[1;33m \u001b[0mtime\u001b[0m\u001b[1;33m.\u001b[0m\u001b[0msleep\u001b[0m\u001b[1;33m(\u001b[0m\u001b[1;36m2\u001b[0m\u001b[1;33m)\u001b[0m \u001b[1;31m# 위 페이지가 모두 열릴 때까지 2초 대기 (안열려서 오류 나는 경우가 많음)\u001b[0m\u001b[1;33m\u001b[0m\u001b[1;33m\u001b[0m\u001b[0m\n\u001b[0m",
      "\u001b[1;31mAttributeError\u001b[0m: 'list' object has no attribute 'sleep'"
     ]
    }
   ],
   "source": [
    "# step1 크롬 웹드라이버로 웹 브라우저 실행\n",
    "path = 'chromedriver_240.exe'\n",
    "driver = webdriver.Chrome(path)\n",
    "driver.get('https://www.youtube.com/user/SamsunglifeBlogs/videos') #홈페이지 열어\n",
    "time.sleep(2) # 위 페이지가 모두 열릴 때까지 2초 대기 (안열려서 오류 나는 경우가 많음)"
   ]
  },
  {
   "cell_type": "code",
   "execution_count": 92,
   "metadata": {},
   "outputs": [],
   "source": [
    "# step2 현재 페이지에 있는 내용을 화면에 출력하기\n",
    "#time.sleep(1)\n",
    "\n",
    "full_html = driver.page_source #page_source : 현재 웹페이지의 전체 소스코드 다 가져와\n",
    "soup = BeautifulSoup(full_html, 'html.parser')\n",
    "\n",
    "title_list = soup.find_all('a',class_='yt-simple-endpoint style-scope ytd-grid-video-renderer')\n",
    "hit_list = soup.find_all('span',class_='style-scope ytd-grid-video-renderer')\n",
    "href_list = soup.find_all('a[href]',class_='yt-simple-endpoint style-scope ytd-grid-video-renderer')\n",
    "#content_list = soup.find_all('div', class_='style-scope ytd-grid-video-renderer')\n",
    "\n",
    "\n",
    "\n",
    "title =[]\n",
    "hit = []\n",
    "href = []\n",
    "for i in title_list:\n",
    "    title.append(i.text.strip())\n",
    "for i in hit_list:\n",
    "    hit.append(i.text.strip())"
   ]
  },
  {
   "cell_type": "code",
   "execution_count": 95,
   "metadata": {
    "scrolled": true
   },
   "outputs": [],
   "source": [
    "df = pd.DataFrame({\"title\":title, \"hits\":hits, \"times\":times})"
   ]
  },
  {
   "cell_type": "code",
   "execution_count": 97,
   "metadata": {},
   "outputs": [
    {
     "data": {
      "text/html": [
       "<div>\n",
       "<style scoped>\n",
       "    .dataframe tbody tr th:only-of-type {\n",
       "        vertical-align: middle;\n",
       "    }\n",
       "\n",
       "    .dataframe tbody tr th {\n",
       "        vertical-align: top;\n",
       "    }\n",
       "\n",
       "    .dataframe thead th {\n",
       "        text-align: right;\n",
       "    }\n",
       "</style>\n",
       "<table border=\"1\" class=\"dataframe\">\n",
       "  <thead>\n",
       "    <tr style=\"text-align: right;\">\n",
       "      <th></th>\n",
       "      <th>title</th>\n",
       "      <th>hits</th>\n",
       "      <th>time</th>\n",
       "    </tr>\n",
       "  </thead>\n",
       "  <tbody>\n",
       "    <tr>\n",
       "      <th>1</th>\n",
       "      <td>[8NUMBERS] 삼성생명 개인형 퇴직연금 IRP</td>\n",
       "      <td>조회수 1.7천회</td>\n",
       "      <td>2개월 전</td>\n",
       "    </tr>\n",
       "    <tr>\n",
       "      <th>2</th>\n",
       "      <td>[8NUMBERS] 삼성생명 종신보험</td>\n",
       "      <td>조회수 1.6천회</td>\n",
       "      <td>2개월 전</td>\n",
       "    </tr>\n",
       "    <tr>\n",
       "      <th>3</th>\n",
       "      <td>삼성생명 IRP 가입하기 - 모바일APP</td>\n",
       "      <td>조회수 769회</td>\n",
       "      <td>2개월 전</td>\n",
       "    </tr>\n",
       "    <tr>\n",
       "      <th>4</th>\n",
       "      <td>[당첨자 발표 : 갤럭시 노트 10 플러스 증정] 8NUMBERS _ 8넘버스 : ...</td>\n",
       "      <td>조회수 599만회</td>\n",
       "      <td>2개월 전</td>\n",
       "    </tr>\n",
       "    <tr>\n",
       "      <th>5</th>\n",
       "      <td>[8 NUMBERS] 예고편 (2019, 11월 대공개)</td>\n",
       "      <td>조회수 125만회</td>\n",
       "      <td>2개월 전</td>\n",
       "    </tr>\n",
       "    <tr>\n",
       "      <th>...</th>\n",
       "      <td>...</td>\n",
       "      <td>...</td>\n",
       "      <td>...</td>\n",
       "    </tr>\n",
       "    <tr>\n",
       "      <th>95</th>\n",
       "      <td>[삼성생명]  제35회 삼성생명 청소년 미술작품 공모전</td>\n",
       "      <td>조회수 5.6천회</td>\n",
       "      <td>4년 전</td>\n",
       "    </tr>\n",
       "    <tr>\n",
       "      <th>96</th>\n",
       "      <td>[삼성생명] 컨설턴트 성공지원시스템 (Making Film)</td>\n",
       "      <td>조회수 9.4천회</td>\n",
       "      <td>4년 전</td>\n",
       "    </tr>\n",
       "    <tr>\n",
       "      <th>97</th>\n",
       "      <td>[삼성생명] 컨설턴트 성공지원시스템 (60초)</td>\n",
       "      <td>조회수 103만회</td>\n",
       "      <td>4년 전</td>\n",
       "    </tr>\n",
       "    <tr>\n",
       "      <th>98</th>\n",
       "      <td>[삼성생명] 컨설턴트 성공지원시스템 (90초)</td>\n",
       "      <td>조회수 2만회</td>\n",
       "      <td>4년 전</td>\n",
       "    </tr>\n",
       "    <tr>\n",
       "      <th>99</th>\n",
       "      <td>[삼성생명] 컨설턴트 성공지원시스템 (30초)</td>\n",
       "      <td>조회수 3.4천회</td>\n",
       "      <td>4년 전</td>\n",
       "    </tr>\n",
       "  </tbody>\n",
       "</table>\n",
       "<p>99 rows × 3 columns</p>\n",
       "</div>"
      ],
      "text/plain": [
       "                                                title       hits   time\n",
       "1                        [8NUMBERS] 삼성생명 개인형 퇴직연금 IRP  조회수 1.7천회  2개월 전\n",
       "2                                [8NUMBERS] 삼성생명 종신보험  조회수 1.6천회  2개월 전\n",
       "3                              삼성생명 IRP 가입하기 - 모바일APP   조회수 769회  2개월 전\n",
       "4   [당첨자 발표 : 갤럭시 노트 10 플러스 증정] 8NUMBERS _ 8넘버스 : ...  조회수 599만회  2개월 전\n",
       "5                     [8 NUMBERS] 예고편 (2019, 11월 대공개)  조회수 125만회  2개월 전\n",
       "..                                                ...        ...    ...\n",
       "95                     [삼성생명]  제35회 삼성생명 청소년 미술작품 공모전  조회수 5.6천회   4년 전\n",
       "96                  [삼성생명] 컨설턴트 성공지원시스템 (Making Film)  조회수 9.4천회   4년 전\n",
       "97                          [삼성생명] 컨설턴트 성공지원시스템 (60초)  조회수 103만회   4년 전\n",
       "98                          [삼성생명] 컨설턴트 성공지원시스템 (90초)    조회수 2만회   4년 전\n",
       "99                          [삼성생명] 컨설턴트 성공지원시스템 (30초)  조회수 3.4천회   4년 전\n",
       "\n",
       "[99 rows x 3 columns]"
      ]
     },
     "execution_count": 97,
     "metadata": {},
     "output_type": "execute_result"
    }
   ],
   "source": [
    "df[1:100]"
   ]
  },
  {
   "cell_type": "code",
   "execution_count": 93,
   "metadata": {},
   "outputs": [],
   "source": [
    "hits = []\n",
    "for i in range(0,len(hit)):\n",
    "    if i%2 == 0:\n",
    "        hits.append(hit[i])"
   ]
  },
  {
   "cell_type": "code",
   "execution_count": 94,
   "metadata": {},
   "outputs": [],
   "source": [
    "times = []\n",
    "for i in range(0,len(hit)):\n",
    "    if i%2 != 0:\n",
    "        times.append(hit[i])"
   ]
  },
  {
   "cell_type": "code",
   "execution_count": null,
   "metadata": {},
   "outputs": [],
   "source": []
  }
 ],
 "metadata": {
  "kernelspec": {
   "display_name": "Python 3",
   "language": "python",
   "name": "python3"
  },
  "language_info": {
   "codemirror_mode": {
    "name": "ipython",
    "version": 3
   },
   "file_extension": ".py",
   "mimetype": "text/x-python",
   "name": "python",
   "nbconvert_exporter": "python",
   "pygments_lexer": "ipython3",
   "version": "3.7.6"
  }
 },
 "nbformat": 4,
 "nbformat_minor": 4
}
