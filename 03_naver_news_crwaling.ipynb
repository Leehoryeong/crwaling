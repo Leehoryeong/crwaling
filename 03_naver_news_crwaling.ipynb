{
 "cells": [
  {
   "cell_type": "code",
   "execution_count": 1,
   "metadata": {},
   "outputs": [],
   "source": [
    "# 1. 네이버에 접속한다.\n",
    "# 2. 검색어를 입력한다.\n",
    "# 3. 검색 결과 페이지에서 뉴스 탭을 선택한다.\n",
    "# 4. 나온 결과에서 \n",
    "# 제목, 링크, 언론사, 요약 내용을 불러서\n",
    "# 화면에 표시한다."
   ]
  },
  {
   "cell_type": "code",
   "execution_count": null,
   "metadata": {},
   "outputs": [],
   "source": [
    "!pip install requests \n",
    "#서버에 접속해서 자료가지고 오는 모듈"
   ]
  },
  {
   "cell_type": "code",
   "execution_count": 12,
   "metadata": {
    "scrolled": false
   },
   "outputs": [
    {
     "name": "stdout",
     "output_type": "stream",
     "text": [
      "Collecting beautifulsoup4\n",
      "  Downloading beautifulsoup4-4.8.2-py3-none-any.whl (106 kB)\n",
      "Collecting soupsieve>=1.2\n",
      "  Downloading soupsieve-1.9.5-py2.py3-none-any.whl (33 kB)\n",
      "Installing collected packages: soupsieve, beautifulsoup4\n",
      "Successfully installed beautifulsoup4-4.8.2 soupsieve-1.9.5\n"
     ]
    }
   ],
   "source": [
    "!pip install beautifulsoup4\n",
    "#자료가 html일 때 해석용"
   ]
  },
  {
   "cell_type": "code",
   "execution_count": null,
   "metadata": {},
   "outputs": [],
   "source": [
    "# 1.코드 맨 위쪽에 몰아 놓는다.\n",
    "# 2.import 순서 \n",
    "# - built-in\n",
    "\n",
    "# - 3rd-party\n",
    "\n",
    "# - 내가만든 모듈\n",
    "\n",
    "# 3. import 모듈명\n",
    "# from 모듈명 import class이름, 함수이름\n",
    "# import만 사용하면 전체 소환, from은 그중에서 필요한 것만 가져오기"
   ]
  },
  {
   "cell_type": "code",
   "execution_count": 14,
   "metadata": {},
   "outputs": [
    {
     "data": {
      "text/plain": [
       "datetime.datetime(2020, 1, 30, 9, 37, 16, 884266)"
      ]
     },
     "execution_count": 14,
     "metadata": {},
     "output_type": "execute_result"
    }
   ],
   "source": [
    "import datetime\n",
    "datetime.datetime.now()\n",
    "from datetime import datetime\n",
    "datetime.now()\n",
    "from datetime import datetime as dt\n",
    "dt.now()"
   ]
  },
  {
   "cell_type": "code",
   "execution_count": 1,
   "metadata": {},
   "outputs": [
    {
     "ename": "ModuleNotFoundError",
     "evalue": "No module named 'requests'",
     "output_type": "error",
     "traceback": [
      "\u001b[1;31m---------------------------------------------------------------------------\u001b[0m",
      "\u001b[1;31mModuleNotFoundError\u001b[0m                       Traceback (most recent call last)",
      "\u001b[1;32m<ipython-input-1-4538788b7d61>\u001b[0m in \u001b[0;36m<module>\u001b[1;34m()\u001b[0m\n\u001b[1;32m----> 1\u001b[1;33m \u001b[1;32mimport\u001b[0m \u001b[0mrequests\u001b[0m \u001b[1;31m# 자료를 다운받는 역할\u001b[0m\u001b[1;33m\u001b[0m\u001b[0m\n\u001b[0m\u001b[0;32m      2\u001b[0m \u001b[1;32mfrom\u001b[0m \u001b[0mbs4\u001b[0m \u001b[1;32mimport\u001b[0m \u001b[0mBeautifulSoup\u001b[0m \u001b[1;31m#HTML로 해석하는 역할\u001b[0m\u001b[1;33m\u001b[0m\u001b[0m\n",
      "\u001b[1;31mModuleNotFoundError\u001b[0m: No module named 'requests'"
     ]
    }
   ],
   "source": [
    "import requests # 자료를 다운받는 역할\n"
   ]
  },
  {
   "cell_type": "code",
   "execution_count": 2,
   "metadata": {},
   "outputs": [
    {
     "ename": "ModuleNotFoundError",
     "evalue": "No module named 'bs4'",
     "output_type": "error",
     "traceback": [
      "\u001b[1;31m---------------------------------------------------------------------------\u001b[0m",
      "\u001b[1;31mModuleNotFoundError\u001b[0m                       Traceback (most recent call last)",
      "\u001b[1;32m<ipython-input-2-49f99aef7327>\u001b[0m in \u001b[0;36m<module>\u001b[1;34m()\u001b[0m\n\u001b[1;32m----> 1\u001b[1;33m \u001b[1;32mfrom\u001b[0m \u001b[0mbs4\u001b[0m \u001b[1;32mimport\u001b[0m \u001b[0mBeautifulSoup\u001b[0m \u001b[1;31m#HTML로 해석하는 역할\u001b[0m\u001b[1;33m\u001b[0m\u001b[0m\n\u001b[0m",
      "\u001b[1;31mModuleNotFoundError\u001b[0m: No module named 'bs4'"
     ]
    }
   ],
   "source": [
    "from bs4 import BeautifulSoup #HTML로 해석하는 역할"
   ]
  },
  {
   "cell_type": "code",
   "execution_count": 16,
   "metadata": {},
   "outputs": [],
   "source": [
    "# http:// - :// 이 붙는 경우 로그인 필요(보안)\n",
    "# www.naver.com - host (건물)\n",
    "# / 이후 구문 - path (주소)\n",
    "# ? 이후 구문 - query string (옵션, 그 주소에서 뭐 보여줘)"
   ]
  },
  {
   "cell_type": "code",
   "execution_count": 113,
   "metadata": {},
   "outputs": [
    {
     "name": "stdout",
     "output_type": "stream",
     "text": [
      "아스날\n"
     ]
    }
   ],
   "source": [
    "# 네이버에 접속하기\n",
    "keyword = input()\n",
    "url = \"https://search.naver.com/search.naver?\"\n",
    "option = f\"where=news&sm=tab_jum&query={keyword}\"\n"
   ]
  },
  {
   "cell_type": "code",
   "execution_count": 114,
   "metadata": {},
   "outputs": [],
   "source": [
    "req = requests.get(url+option) \n",
    "if req.status_code != requests.codes.ok:\n",
    "    print(\"접속실패\")\n",
    "    exit()\n",
    "# 내용 파악\n",
    "html = BeautifulSoup(req.text,\"html.parser\")"
   ]
  },
  {
   "cell_type": "code",
   "execution_count": 115,
   "metadata": {},
   "outputs": [],
   "source": [
    "btn_next = html.select_one(\".paging .next\") #paging이라는 클래스 안의 next 클래스"
   ]
  },
  {
   "cell_type": "code",
   "execution_count": 117,
   "metadata": {},
   "outputs": [],
   "source": [
    "next_option = btn_next.attrs['href']"
   ]
  },
  {
   "cell_type": "code",
   "execution_count": null,
   "metadata": {},
   "outputs": [],
   "source": [
    "req = requests.get(url+option)"
   ]
  },
  {
   "cell_type": "code",
   "execution_count": 106,
   "metadata": {},
   "outputs": [
    {
     "data": {
      "text/plain": [
       "'\\nselector\\n1.단일\\n- 태그이름 : a\\n- id : #a (태그이름과 동일하기 때문에 구분자 # 사용) 주로 단독으로 찾을때\\n- class : .a (클래스는 . 을 붙혀준다) 주로 그룹을 찾을 때\\n2. 복합\\n- a._sp_each_title._sp_title (a태그 중에서 클래스가 _sp~인 경우 + 더 필요한경우 속상을 계속 붙혀나가면 된다.)\\n- a > p > div > .sp_each_title 바로 밑에 있는 경우에만 작동 (경로생략불가능)\\n- a p div .sp_each_title 그냥 밑에 있으면 찾아서 처리 (경로생략가능)\\n'"
      ]
     },
     "execution_count": 106,
     "metadata": {},
     "output_type": "execute_result"
    }
   ],
   "source": [
    "# 기사 제목, 링크, 요약, 언론사이름\n",
    "news_items = html.select(\"._sp_each_title\")\n",
    "news_items2 = html.select(\"ul.type01 > li\")\n",
    "\"\"\"\n",
    "selector\n",
    "1.단일\n",
    "- 태그이름 : a\n",
    "- id : #a (태그이름과 동일하기 때문에 구분자 # 사용) 주로 단독으로 찾을때\n",
    "- class : .a (클래스는 . 을 붙혀준다) 주로 그룹을 찾을 때\n",
    "2. 복합\n",
    "- a._sp_each_title._sp_title (a태그 중에서 클래스가 _sp~인 경우 + 더 필요한경우 속상을 계속 붙혀나가면 된다.)\n",
    "- a > p > div > .sp_each_title 바로 밑에 있는 경우에만 작동 (경로생략불가능)\n",
    "- a p div .sp_each_title 그냥 밑에 있으면 찾아서 처리 (경로생략가능)\n",
    "\"\"\""
   ]
  },
  {
   "cell_type": "code",
   "execution_count": 107,
   "metadata": {},
   "outputs": [],
   "source": [
    "from openpyxl import Workbook\n",
    "wb = Workbook()\n",
    "ws = wb.active"
   ]
  },
  {
   "cell_type": "code",
   "execution_count": 108,
   "metadata": {},
   "outputs": [],
   "source": [
    "ws.append([\"번호\",\"제목\",\"링크\",\"요약\",\"언론사\"])"
   ]
  },
  {
   "cell_type": "code",
   "execution_count": 109,
   "metadata": {},
   "outputs": [
    {
     "name": "stdout",
     "output_type": "stream",
     "text": [
      "유망주 사카 1골 1도움…아스날, 본머스 꺾고 FA컵 16강 진출 https://news.sbs.co.kr/news/endPage.do?news_id=N1005621965&plink=ORI&cooper=NAVER 잉글랜드 프로축구 프리미어리그 아스날이 '젊은 피'의 활약으로 FA컵 16강에 올랐습니다. 아스날은 영국 본머스에서 열린 2019-2020시즌 FA컵 32강, 본머스와 원정 경기에서 2대 1로 이겼습니다. 사카가 1골 1도움을... SBS\n",
      "은케티아, 英 청소년대표로 맹활약하는 아스날 미래 http://mksports.co.kr/view/2020/85382/ 매경닷컴 MK스포츠 노기완 기자 공격수 에디 은케티아(21·잉글랜드)가 임대 복귀 후 아스날 소속으로 처음으로 득점한 것에 기뻐했다. 아스날은 28일(한국시간) 영국 바이탈리티 스타디움에서 열린 본머스와의... MK스포츠\n",
      "아스날, 파블로 마리 영입 임박… '선임대 후영입' 예상(英매체) http://moneys.mt.co.kr/news/mwView.php?no=2020012918578050713 수비 보강을 노리던 아스날이 스페인 출신 중앙 수비수 영입에 근접했다. 영국 매체 '스카이스포츠'는 29일(이하 현지시간) 아스날이 브라질 프로축구 플라멩구의 중앙 수비수 파블로 마리 영입에 가까워졌다고 전했다.... 머니S\n",
      "아스날, 수적 열세 딛고 첼시와 2-2 무승부 http://sports.donga.com/3/all/20200122/99354138/2 잉글랜드 프리미어리그(EPL) 아스날이 수적 열세에도 불구하고 첼시와 무승부를 기록했다. 아스날은 22일(이하 한국시각) 영국 런던에 위치한 스탬포드 브릿지에서 열린 첼시와의 2019-20 EPL 24라운드 원정경기에서 2... 스포츠동아\n",
      "맨유·아스날 '네가 가라 챔스 시즌2?' http://www.dailian.co.kr/news/view/863893?sc=Naver 맨유)와 아스날이 결정적인 역할을 했음은 부인할 수 없다. 두 팀은 한창 프리미어리그가 명성을 얻고 있을... 퍼거슨은 맨유에서 27년을, 벵거는 아스날에서 22년을 지휘했다. 두 감독은 엄청난 업적을 남긴 뒤 각각... 데일리안\n",
      "플라멩구 CB 마리, 아스날 메디컬 테스트 받으러 런던 도착 http://www.busan.com/view/busan/view.php?code=2020012610355135270 브라질 플라멩구에서 뛰던 스페인 출신 중앙 수비수 파블로 마리(26)가 아스날 메디컬 테스트를 위해 런던에 도착했다. 26일(한국시간) 스카이스포츠 보도에 따르면 아스날은 이번 시즌 마리를 임대 후 완전이적하는... 부산일보\n",
      "[첼시-아스날] 무스타피 실수·루이스 퇴장→조르지뉴 PK 선제골 http://sports.khan.co.kr/news/sk_index.html?art_id=202001220604003&sec_id=520401&pt=nv 잉글랜드 프로축구 첼시가 아스날에게 리드를 가져갔다. 첼시는 22일(한국시간) 영국 런던의 스탬포드 브릿지에서 아스날과 2019-2020시즌 잉글랜드 프리미어리그(EPL) 24라운드 홈경기 전반을 1-0으로 앞선 채 마쳤다.... 스포츠경향\n",
      "영국 여자축구 스타, 램파드 리더십 비판 [첼시 아스날] http://mksports.co.kr/view/2020/71942/ 매경닷컴 MK스포츠 노기완 기자 첼시가 경기 시간 70% 이상을 아스날보다 1명 더 많이 치렀는데도 승리에... 경기를 읽을 줄 아는 통찰력이 부족하다”라고 아스날전 이후 램파드 감독을 신랄하게 비판했다. 첼시는... MK스포츠\n",
      "아스날 나간다던 세바요스, 마음 바꿨나… 본머스전 끝나고 '경쟁 암시' http://moneys.mt.co.kr/news/mwView.php?no=2020012910278090949 레알 마드리드 복귀 의사를 내비쳤던 미드필더 다니 세바요스가 오랜만의 아스날 복귀전에 만족감을 내비쳤다. 세바요스는 지난 여름 아스날로 1년 임대를 떠났다. 루카 모드리치를 필두로 토니 크로스, 마르코 아센시오... 머니S\n",
      "[FA컵 32강]아스날 부카요 사카, 본머스전 전반 5분 선제골 http://sports.hankooki.com/lpage/soccer/202001/sp2020012805182793750.htm 아스날은 FA컵 64강에서 만난 리즈 유나이티드를 1-0으로 잡아내며 32강에 올라섰다. 지난 주말에 열린... 아스날과 최근 5경기 맞대결 성적은 1승 1무 3패로 다소 밀리는 모양새지만 리그 성적이 강등권 18위에 그치고... 스포츠한국\n"
     ]
    }
   ],
   "source": [
    "for row_num,item in enumerate(news_items2,start=1):\n",
    "    title = item.select_one('a._sp_each_title')\n",
    "    link = title.attrs['href']\n",
    "    description = item.select('dd')[1]\n",
    "    journal = item.select_one('._sp_each_source')\n",
    "    if journal.select_one('i'):\n",
    "        journal.select_one('i').decompose()\n",
    "    print(title.text,link,description.text,journal.text)\n",
    "    ws.append([row_num,\n",
    "               title.text,\n",
    "               link,\n",
    "               description.text,\n",
    "               journal.text])"
   ]
  },
  {
   "cell_type": "code",
   "execution_count": 110,
   "metadata": {},
   "outputs": [],
   "source": [
    "wb.save(f\"{keyword}naver_news.xlsx\")"
   ]
  },
  {
   "cell_type": "code",
   "execution_count": 95,
   "metadata": {},
   "outputs": [
    {
     "data": {
      "text/plain": [
       "1"
      ]
     },
     "execution_count": 95,
     "metadata": {},
     "output_type": "execute_result"
    }
   ],
   "source": [
    "# 리스트, 딕셔너리, 튜플, 셋\n",
    "# 문자열, 리스트, 튜플 - 순서가 있는 형태\n",
    "# 딕셔너리, 셋\n",
    "# 만들기, 값 읽기, 변경, 추가, 삭제, 유틸리티\n",
    "# 리스트\n",
    "test_list = list()\n",
    "test_list = []\n",
    "test_list = [1,2,3,4,3.14]\n",
    "test_list[0] # index - 순번 - 순서번호\n",
    "test_list[-1] # 0을 넣어야 첫번째 값 도출, -1 은 마지막 값\n",
    "#test_list[-1] = \"greeting\"\n",
    "test_list.append(99)\n",
    "test_list.insert(99,1024) #5번 위치에 들어가고 나머지는 밀린다.\n",
    "if 9999 in test_list:\n",
    "    test_list.remove(9999) # 중복되는 값이 있을 경우 맨앞의 값 삭제\n",
    "len(test_list)\n",
    "test_list.sort() #원본을 정렬\n",
    "b = sorted(test_list) #원본은 그대로, 정렬된 복사본을 만든다.\n",
    "test_list.count(1) # 중복 요소의 갯수\n"
   ]
  },
  {
   "cell_type": "code",
   "execution_count": 99,
   "metadata": {},
   "outputs": [
    {
     "name": "stdout",
     "output_type": "stream",
     "text": [
      "1 a\n",
      "2 b\n",
      "3 c\n",
      "4 d\n",
      "5 e\n",
      "1 a\n",
      "2 b\n",
      "3 c\n",
      "4 d\n",
      "5 e\n"
     ]
    }
   ],
   "source": [
    "titles = [\"a\",\"b\",\"c\",\"d\",\"e\"]\n",
    "count = 1\n",
    "for title in titles:\n",
    "    print(count,title)\n",
    "    count+=1\n",
    "    \n",
    "for index, title in enumerate(titles, start=1):\n",
    "    print(index,title)"
   ]
  },
  {
   "cell_type": "code",
   "execution_count": 91,
   "metadata": {},
   "outputs": [
    {
     "name": "stdout",
     "output_type": "stream",
     "text": [
      "정수:99\n",
      "정수:1024\n",
      "정수:10\n",
      "정수:19\n",
      "정수:27\n",
      "정수:\n",
      "1179\n"
     ]
    }
   ],
   "source": [
    "# 정수를 무제한 입력 받아서\n",
    "# 해당 정수들의 합을 구하는 프로그램\n",
    "numbers = []\n",
    "# 1개를 처리하는 구문 작성\n",
    "while True:\n",
    "    number = input(\"정수:\")\n",
    "    if not number:\n",
    "        break\n",
    "    number = int(number)\n",
    "    numbers.append(number)\n",
    "\n",
    "# total = sum(numbers)\n",
    "total = 0\n",
    "for number in numbers:\n",
    "    total += number\n",
    "    \n",
    "print(total)"
   ]
  },
  {
   "cell_type": "code",
   "execution_count": 87,
   "metadata": {},
   "outputs": [
    {
     "data": {
      "text/plain": [
       "[1, 2, 3, 4, 3.14, 'Hi', 'greeting', 99]"
      ]
     },
     "execution_count": 87,
     "metadata": {},
     "output_type": "execute_result"
    }
   ],
   "source": [
    "test_list"
   ]
  },
  {
   "cell_type": "code",
   "execution_count": 64,
   "metadata": {},
   "outputs": [
    {
     "data": {
      "text/plain": [
       "[<li id=\"sp_nws1\"> <div class=\"thumb\"><a class=\"sp_thmb thmb80\" href=\"http://kr.aving.net/news/view.php?articleId=1540615&amp;Branch_ID=kr&amp;rssid=naver&amp;mn_name=news\" onclick=\"return goOtherCR(this, 'a=nws*b.img&amp;r=1&amp;i=880003CB_000000000000000000150073&amp;g=5015.0000150073&amp;u='+urlencode(this.href));\" target=\"_blank\"><img alt=\"페라리 박물관, 지난해\" class=\"\" height=\"80\" onerror=\"this.parentNode.style.display='none';\" src=\"https://search.pstatic.net/common/?src=https%3A%2F%2Fimgnews.pstatic.net%2Fimage%2Forigin%2F5015%2F2020%2F01%2F16%2F150073.jpg&amp;type=ofullfill80_80_q75_re2\" width=\"80\"/><span class=\"thmb_v\"></span></a></div> <dl> <dt><a class=\"_sp_each_url _sp_each_title\" href=\"http://kr.aving.net/news/view.php?articleId=1540615&amp;Branch_ID=kr&amp;rssid=naver&amp;mn_name=news\" onclick=\"return goOtherCR(this, 'a=nws*b.tit&amp;r=1&amp;i=880003CB_000000000000000000150073&amp;g=5015.0000150073&amp;u='+urlencode(this.href));\" target=\"_blank\" title=\"페라리 박물관, 지난해 관람자 수 역대 최다 60만 명 돌파\">페라리 박물관, 지난해 관람자 수 역대 최다 60만 명 돌파</a></dt> <dd class=\"txt_inline\"><span class=\"_sp_each_source\">에이빙뉴스</span> <span class=\"bar\"></span> 2020.01.16. <div class=\"scial\" id=\"sp_nws1_base\"> <span class=\"bar\"></span> <a class=\"bt_scial2 naver-splugin\" data-oninitialize=\"splugin_oninitialize('sp_nws1');\" data-style=\"unity-v2\" href=\"#\" onclick=\"goOtherTCR(this, 'a=nws*b.pplugin&amp;r=1&amp;i=880003CB_000000000000000000150073&amp;u='+urlencode(this.href)); return false;\">보내기</a> </div> </dd> <dd>이는 2018년보다 12% 증가한 것으로, 모데나의 엔초 페라리 박물관(Museo Enzo <strong class=\"hl\">Ferrari</strong>)이 20만 명 이상, 이탈리아 마라넬로에 있는 페라리 박물관(<strong class=\"hl\">Ferrari</strong> Museum)이 40만 명 이상을 기록하는 등 두 박물관 모두 전년 동기...</dd> <dd> <ul class=\"relation_lst\"> <li> <span class=\"ico_bu\"></span> <a href=\"http://news.mk.co.kr/newsRead.php?no=52872&amp;year=2020\" onclick=\"return goOtherCR(this, 'a=nws*c.tit&amp;r=2&amp;i=880000BC_000000000000000004501566&amp;g=009.0004501566&amp;u='+urlencode(this.href));\" target=\"_blank\" title=\"페라리 박물관, 지난해 60만명 방문…“역대 최다 관람객”\">페라리 박물관, 지난해 60만명 방문…“역대 최다 관람객”</a> <span class=\"txt_sinfo\"> <span class=\"press\" title=\"매일경제\">매일경제</span> <span class=\"bar\"></span> 2020.01.16. <span class=\"bar\"></span><a class=\"\" href=\"https://news.naver.com/main/read.nhn?mode=LSD&amp;mid=sec&amp;sid1=103&amp;oid=009&amp;aid=0004501566\" onclick=\"return goOtherCR(this, 'a=nws*c.nav&amp;r=2&amp;i=880000BC_000000000000000004501566&amp;u='+urlencode(this.href));\" target=\"_blank\">네이버뉴스</a> </span> </li> <li> <span class=\"ico_bu\"></span> <a href=\"http://news.heraldcorp.com/view.php?ud=20200116000658\" onclick=\"return goOtherCR(this, 'a=nws*c.tit&amp;r=3&amp;i=8800010E_000000000000000001625086&amp;g=016.0001625086&amp;u='+urlencode(this.href));\" target=\"_blank\" title=\"페라리 박물관, 작년 역대 최다 60만명이 다녀갔다\">페라리 박물관, 작년 역대 최다 60만명이 다녀갔다</a> <span class=\"txt_sinfo\"> <span class=\"press\" title=\"헤럴드경제\">헤럴드경제</span> <span class=\"bar\"></span> 2020.01.16. <span class=\"bar\"></span><a class=\"\" href=\"https://news.naver.com/main/read.nhn?mode=LSD&amp;mid=sec&amp;sid1=101&amp;oid=016&amp;aid=0001625086\" onclick=\"return goOtherCR(this, 'a=nws*c.nav&amp;r=3&amp;i=8800010E_000000000000000001625086&amp;u='+urlencode(this.href));\" target=\"_blank\">네이버뉴스</a> </span> </li> <li> <span class=\"ico_bu\"></span> <a href=\"http://www.fetv.co.kr/news/article.html?no=45316\" onclick=\"return goOtherCR(this, 'a=nws*d.tit&amp;r=4&amp;i=88172bff_000000000000000000038981&amp;g=5484.0000038981&amp;u='+urlencode(this.href));\" target=\"_blank\" title=\"페라리 박물관, 2019년 60만 명 방문 “역대 최다”\">페라리 박물관, 2019년 60만 명 방문 “역대 최다”</a> <span class=\"txt_sinfo\"> <span class=\"press\" title=\"FETV\">FETV</span> <span class=\"bar\"></span> 2020.01.16. </span> </li> </ul> <div class=\"newr_more\"> <a class=\"more_news\" href=\"#\" onclick=\"news_submit_related_option('50150000150073', 0, 'nws*r.more'); return false;\">관련뉴스 4건 전체보기</a> </div> </dd> </dl> </li>,\n",
       " <li id=\"sp_nws5\"> <dl> <dt><a class=\"_sp_each_url _sp_each_title\" href=\"https://www.nytimes.com/2020/01/01/movies/tracy-letts-ford-v-ferrari.html?partner=naver\" onclick=\"return goOtherCR(this, 'a=nws*f.tit&amp;r=5&amp;i=88196476_000000000000000000032814&amp;g=5747.0000032814&amp;u='+urlencode(this.href));\" target=\"_blank\" title=\"One Startling Scene: Tracy Letts in ‘Ford v Ferrari’\">One Startling Scene: Tracy Letts in ‘Ford v <strong class=\"hl\">Ferrari</strong>’</a></dt> <dd class=\"txt_inline\"><span class=\"_sp_each_source\">The New York Times</span> <span class=\"bar\"></span> 2020.01.02. <div class=\"scial\" id=\"sp_nws5_base\"> <span class=\"bar\"></span> <a class=\"bt_scial2 naver-splugin\" data-oninitialize=\"splugin_oninitialize('sp_nws5');\" data-style=\"unity-v2\" href=\"#\" onclick=\"goOtherTCR(this, 'a=nws*f.pplugin&amp;r=5&amp;i=88196476_000000000000000000032814&amp;u='+urlencode(this.href)); return false;\">보내기</a> </div> </dd> <dd>This article contains spoilers for “Ford v <strong class=\"hl\">Ferrari</strong>.” Tracy Letts gets called on to play a... And burning rubber as Henry Ford II in James Mangold’s “Ford v <strong class=\"hl\">Ferrari</strong>,” about the 1960s Le...</dd> </dl> </li>,\n",
       " <li id=\"sp_nws6\"> <div class=\"thumb\"><a class=\"sp_thmb thmb80\" href=\"https://www.nytimes.com/2020/01/13/movies/oscar-nominations-academy-awards.html?partner=naver\" onclick=\"return goOtherCR(this, 'a=nws*f.img&amp;r=6&amp;i=88196476_000000000000000000034371&amp;g=5747.0000034371&amp;u='+urlencode(this.href));\" target=\"_blank\"><img alt=\"Oscar Nominations 20\" class=\"\" height=\"80\" onerror=\"this.parentNode.style.display='none';\" src=\"https://search.pstatic.net/common/?src=https%3A%2F%2Fimgnews.pstatic.net%2Fimage%2Forigin%2F5747%2F2020%2F01%2F13%2F34371.jpg&amp;type=ofullfill80_80_q75_re2\" width=\"80\"/><span class=\"thmb_v\"></span></a></div> <dl> <dt><a class=\"_sp_each_url _sp_each_title\" href=\"https://www.nytimes.com/2020/01/13/movies/oscar-nominations-academy-awards.html?partner=naver\" onclick=\"return goOtherCR(this, 'a=nws*f.tit&amp;r=6&amp;i=88196476_000000000000000000034371&amp;g=5747.0000034371&amp;u='+urlencode(this.href));\" target=\"_blank\" title=\"Oscar Nominations 2020: ‘Joker’ Leads With 11 Nods; Three Others Get 10\">Oscar Nominations 2020: ‘Joker’ Leads With 11 Nods; Three Others Get 1...</a></dt> <dd class=\"txt_inline\"><span class=\"_sp_each_source\">The New York Times</span> <span class=\"bar\"></span> 2020.01.13. <div class=\"scial\" id=\"sp_nws6_base\"> <span class=\"bar\"></span> <a class=\"bt_scial2 naver-splugin\" data-oninitialize=\"splugin_oninitialize('sp_nws6');\" data-style=\"unity-v2\" href=\"#\" onclick=\"goOtherTCR(this, 'a=nws*f.pplugin&amp;r=6&amp;i=88196476_000000000000000000034371&amp;u='+urlencode(this.href)); return false;\">보내기</a> </div> </dd> <dd>v <strong class=\"hl\">Ferrari</strong>,” “Jojo Rabbit,” “Little Women” and “Parasite.” Little diversity in the... v <strong class=\"hl\">Ferrari</strong>”). The lead actor Oscar nominations went to Phoenix, for his mentally ill outcast in...</dd> </dl> </li>,\n",
       " <li id=\"sp_nws7\"> <div class=\"thumb\"><a class=\"sp_thmb thmb80\" href=\"https://www.nytimes.com/2019/11/15/movies/ford-v-ferrari-facts.html?partner=naver\" onclick=\"return goOtherCR(this, 'a=nws*b.img&amp;r=7&amp;i=88196476_000000000000000000025920&amp;g=5747.0000025920&amp;u='+urlencode(this.href));\" target=\"_blank\"><img alt=\"In ‘Ford v Ferrari,\" class=\"\" height=\"80\" onerror=\"this.parentNode.style.display='none';\" src=\"https://search.pstatic.net/common/?src=https%3A%2F%2Fimgnews.pstatic.net%2Fimage%2Forigin%2F5747%2F2019%2F11%2F15%2F25920.jpg&amp;type=ofullfill80_80_q75_re2\" width=\"80\"/><span class=\"thmb_v\"></span></a></div> <dl> <dt><a class=\"_sp_each_url _sp_each_title\" href=\"https://www.nytimes.com/2019/11/15/movies/ford-v-ferrari-facts.html?partner=naver\" onclick=\"return goOtherCR(this, 'a=nws*b.tit&amp;r=7&amp;i=88196476_000000000000000000025920&amp;g=5747.0000025920&amp;u='+urlencode(this.href));\" target=\"_blank\" title=\"In ‘Ford v Ferrari,’ a Race With Plenty of Real-Life Characters\">In ‘Ford v <strong class=\"hl\">Ferrari</strong>,’ a Race With Plenty of Real-Life Characters</a></dt> <dd class=\"txt_inline\"><span class=\"_sp_each_source\">The New York Times</span> <span class=\"bar\"></span> 2019.11.15. <div class=\"scial\" id=\"sp_nws7_base\"> <span class=\"bar\"></span> <a class=\"bt_scial2 naver-splugin\" data-oninitialize=\"splugin_oninitialize('sp_nws7');\" data-style=\"unity-v2\" href=\"#\" onclick=\"goOtherTCR(this, 'a=nws*b.pplugin&amp;r=7&amp;i=88196476_000000000000000000025920&amp;u='+urlencode(this.href)); return false;\">보내기</a> </div> </dd> <dd>buy <strong class=\"hl\">Ferrari</strong>, hoping the Italian sports-car company would bring a cool factor to his family-owned firm, then best known for selling square sedans and pickup trucks. When Enzo <strong class=\"hl\">Ferrari</strong> nixed the...</dd> <dd> <ul class=\"relation_lst\"> <li> <span class=\"ico_bu\"></span> <a href=\"https://www.nytimes.com/2019/11/14/movies/ford-v-ferrari-review.html?partner=naver\" onclick=\"return goOtherCR(this, 'a=nws*d.tit&amp;r=8&amp;i=88196476_000000000000000000025746&amp;g=5747.0000025746&amp;u='+urlencode(this.href));\" target=\"_blank\" title=\"‘Ford v Ferrari’ Review: It’s a Gas\">‘Ford v <strong class=\"hl\">Ferrari</strong>’ Review: It’s a Gas</a> <span class=\"txt_sinfo\"> <span class=\"press\" title=\"The New York Times\">The New York Times</span> <span class=\"bar\"></span> 2019.11.15. </span> </li> </ul> </dd> </dl> </li>,\n",
       " <li id=\"sp_nws9\"> <div class=\"thumb\"><a class=\"sp_thmb thmb80\" href=\"https://news.sbs.co.kr/news/endPage.do?news_id=N1005599450&amp;plink=ORI&amp;cooper=NAVER\" onclick=\"return goOtherCR(this, 'a=nws*e.img&amp;r=9&amp;i=8800011C_000000000000000000784630&amp;g=055.0000784630&amp;u='+urlencode(this.href));\" target=\"_blank\"><img alt=\"[책영사] 포드 v 페라\" class=\"\" height=\"80\" onerror=\"this.parentNode.style.display='none';\" src=\"https://search.pstatic.net/common/?src=https%3A%2F%2Fimgnews.pstatic.net%2Fimage%2Forigin%2F055%2F2020%2F01%2F10%2F784630.jpg&amp;type=ofullfill80_80_q75_re2\" width=\"80\"/><span class=\"thmb_play\"></span><span class=\"thmb_v\"></span></a></div> <dl> <dt><a class=\"_sp_each_title\" href=\"https://news.sbs.co.kr/news/endPage.do?news_id=N1005599450&amp;plink=ORI&amp;cooper=NAVER\" onclick=\"return goOtherCR(this, 'a=nws*e.tit&amp;r=9&amp;i=8800011C_000000000000000000784630&amp;g=055.0000784630&amp;u='+urlencode(this.href));\" target=\"_blank\" title='[책영사] 포드 v 페라리(Ford v Ferrari, 2019) \"7,000rpm으로 경험하는 마스터와 비즈니스맨의 세계\"'>[책영사] 포드 v 페라리(Ford v <strong class=\"hl\">Ferrari</strong>, 2019) \"7,000rpm으로 경험하는 마스...</a></dt> <dd class=\"txt_inline\"><span class=\"_sp_each_source\">SBS</span> <span class=\"bar\"></span> 2020.01.10. <span class=\"bar\"></span> <a class=\"_sp_each_url\" href=\"https://news.naver.com/main/read.nhn?mode=LSD&amp;mid=sec&amp;sid1=103&amp;oid=055&amp;aid=0000784630\" onclick=\"return goOtherCR(this, 'a=nws*e.nav&amp;r=9&amp;i=8800011C_000000000000000000784630&amp;u='+urlencode(this.href));\" target=\"_blank\">네이버뉴스</a> <div class=\"scial\" id=\"sp_nws9_base\"> <span class=\"bar\"></span> <a class=\"bt_scial2 naver-splugin\" data-oninitialize=\"splugin_oninitialize('sp_nws9');\" data-style=\"unity-v2\" href=\"#\" onclick=\"goOtherTCR(this, 'a=nws*e.pplugin&amp;r=9&amp;i=8800011C_000000000000000000784630&amp;u='+urlencode(this.href)); return false;\">보내기</a> </div> </dd> <dd>-오디오 플레이어로 듣기 [골룸] 책영사 105 : 포드 v 페라리(Ford v <strong class=\"hl\">Ferrari</strong>, 2019) \"7,000rpm으로 경험하는 마스터와 비즈니스맨의 세계\" 이번 주 [책영사: 책과 영화 사이]는 멧 데이먼과 크리스찬 베일 주연의 &lt;포드 v...</dd> </dl> </li>,\n",
       " <li id=\"sp_nws10\"> <div class=\"thumb\"><a class=\"sp_thmb thmb80\" href=\"http://www.rpm9.com/news/article.html?id=20200117090006\" onclick=\"return goOtherCR(this, 'a=nws*f.img&amp;r=10&amp;i=88155e98_000000000000000000060024&amp;g=5308.0000060024&amp;u='+urlencode(this.href));\" target=\"_blank\"><img alt=\"페라리 박물관, 2019년\" class=\"\" height=\"80\" onerror=\"this.parentNode.style.display='none';\" src=\"https://search.pstatic.net/common/?src=https%3A%2F%2Fimgnews.pstatic.net%2Fimage%2Forigin%2F5308%2F2020%2F01%2F17%2F60024.jpg&amp;type=ofullfill80_80_q75_re2\" width=\"80\"/><span class=\"thmb_v\"></span></a></div> <dl> <dt><a class=\"_sp_each_url _sp_each_title\" href=\"http://www.rpm9.com/news/article.html?id=20200117090006\" onclick=\"return goOtherCR(this, 'a=nws*f.tit&amp;r=10&amp;i=88155e98_000000000000000000060024&amp;g=5308.0000060024&amp;u='+urlencode(this.href));\" target=\"_blank\" title=\"페라리 박물관, 2019년 역대 최다 60만 명 방문\">페라리 박물관, 2019년 역대 최다 60만 명 방문</a></dt> <dd class=\"txt_inline\"><span class=\"_sp_each_source\">RPM9</span> <span class=\"bar\"></span> 2020.01.17. <div class=\"scial\" id=\"sp_nws10_base\"> <span class=\"bar\"></span> <a class=\"bt_scial2 naver-splugin\" data-oninitialize=\"splugin_oninitialize('sp_nws10');\" data-style=\"unity-v2\" href=\"#\" onclick=\"goOtherTCR(this, 'a=nws*f.pplugin&amp;r=10&amp;i=88155e98_000000000000000000060024&amp;u='+urlencode(this.href)); return false;\">보내기</a> </div> </dd> <dd>이는 2018년보다 12% 증가한 것으로, 모데나의 엔초 페라리 박물관(Museo Enzo <strong class=\"hl\">Ferrari</strong>)이 20만 명 이상, 이탈리아 마라넬로에 있는 페라리 박물관(<strong class=\"hl\">Ferrari</strong> Museum)이 40만 명 이상을 기록하는 등 두 박물관 모두 전년 동기...</dd> </dl> </li>,\n",
       " <li id=\"sp_nws11\"> <div class=\"thumb\"><a class=\"sp_thmb thmb80\" href=\"http://www.koreatimes.co.kr/www/nation/2019/12/689_280996.html\" onclick=\"return goOtherCR(this, 'a=nws*f.img&amp;r=11&amp;i=8818858c_000000000000000000182066&amp;g=5668.0000182066&amp;u='+urlencode(this.href));\" target=\"_blank\"><img alt=\"‘Ford v Ferrari‘ pop\" class=\"\" height=\"80\" onerror=\"this.parentNode.style.display='none';\" src=\"https://search.pstatic.net/common/?src=https%3A%2F%2Fimgnews.pstatic.net%2Fimage%2Forigin%2F5668%2F2019%2F12%2F27%2F182066.jpg&amp;type=ofullfill80_80_q75_re2\" width=\"80\"/><span class=\"thmb_v\"></span></a></div> <dl> <dt><a class=\"_sp_each_url _sp_each_title\" href=\"http://www.koreatimes.co.kr/www/nation/2019/12/689_280996.html\" onclick=\"return goOtherCR(this, 'a=nws*f.tit&amp;r=11&amp;i=8818858c_000000000000000000182066&amp;g=5668.0000182066&amp;u='+urlencode(this.href));\" target=\"_blank\" title=\"'Ford v Ferrari' popularity steadily accelerates\">'Ford v <strong class=\"hl\">Ferrari</strong>' popularity steadily accelerates</a></dt> <dd class=\"txt_inline\"><span class=\"_sp_each_source\">코리아타임스</span> <span class=\"bar\"></span> 2019.12.27. <div class=\"scial\" id=\"sp_nws11_base\"> <span class=\"bar\"></span> <a class=\"bt_scial2 naver-splugin\" data-oninitialize=\"splugin_oninitialize('sp_nws11');\" data-style=\"unity-v2\" href=\"#\" onclick=\"goOtherTCR(this, 'a=nws*f.pplugin&amp;r=11&amp;i=8818858c_000000000000000000182066&amp;u='+urlencode(this.href)); return false;\">보내기</a> </div> </dd> <dd>By Cho Hae-min The action film “Ford v <strong class=\"hl\">Ferrari</strong>” ― directed by James Mangold, best known... of <strong class=\"hl\">Ferrari</strong> in the 24-hour Le Mans race. Bale was nominated for a Golden Globe Award for Best Actor...</dd> </dl> </li>,\n",
       " <li id=\"sp_nws12\"> <div class=\"thumb\"><a class=\"sp_thmb thmb80\" href=\"http://kr.aving.net/news/view.php?articleId=1538321&amp;Branch_ID=kr&amp;rssid=naver&amp;mn_name=news\" onclick=\"return goOtherCR(this, 'a=nws*b.img&amp;r=12&amp;i=880003CB_000000000000000000147819&amp;g=5015.0000147819&amp;u='+urlencode(this.href));\" target=\"_blank\"><img alt=\"페라리, 이탈리아 마라\" class=\"\" height=\"80\" onerror=\"this.parentNode.style.display='none';\" src=\"https://search.pstatic.net/common/?src=https%3A%2F%2Fimgnews.pstatic.net%2Fimage%2Forigin%2F5015%2F2019%2F09%2F04%2F147819.jpg&amp;type=ofullfill80_80_q75_re2\" width=\"80\"/><span class=\"thmb_v\"></span></a></div> <dl> <dt><a class=\"_sp_each_url _sp_each_title\" href=\"http://kr.aving.net/news/view.php?articleId=1538321&amp;Branch_ID=kr&amp;rssid=naver&amp;mn_name=news\" onclick=\"return goOtherCR(this, 'a=nws*b.tit&amp;r=12&amp;i=880003CB_000000000000000000147819&amp;g=5015.0000147819&amp;u='+urlencode(this.href));\" target=\"_blank\" title=\"페라리, 이탈리아 마라넬로에서 'Universo Ferrari' 전시회 개장\">페라리, 이탈리아 마라넬로에서 'Universo <strong class=\"hl\">Ferrari</strong>' 전시회 개장</a></dt> <dd class=\"txt_inline\"><span class=\"_sp_each_source\">에이빙뉴스</span> <span class=\"bar\"></span> 2019.09.04. <div class=\"scial\" id=\"sp_nws12_base\"> <span class=\"bar\"></span> <a class=\"bt_scial2 naver-splugin\" data-oninitialize=\"splugin_oninitialize('sp_nws12');\" data-style=\"unity-v2\" href=\"#\" onclick=\"goOtherTCR(this, 'a=nws*b.pplugin&amp;r=12&amp;i=880003CB_000000000000000000147819&amp;u='+urlencode(this.href)); return false;\">보내기</a> </div> </dd> <dd>슈퍼카 브랜드 페라리가 'Universo <strong class=\"hl\">Ferrari</strong>(페라리의 세계)' 전시회를 9월 2일 개장했다. 이번 전시는... 전시회는 페라리의 시작점이자 창립자 엔초 페라리(Enzo <strong class=\"hl\">Ferrari</strong>)의 열정을 느낄 수 있는 '레이싱' 테마로 시작된다....</dd> <dd> <ul class=\"relation_lst\"> <li> <span class=\"ico_bu\"></span> <a href=\"http://www.seoulfn.com/news/articleView.html?idxno=354928\" onclick=\"return goOtherCR(this, 'a=nws*d.tit&amp;r=13&amp;i=88000395_000000000000000000298840&amp;g=5001.0000298840&amp;u='+urlencode(this.href));\" target=\"_blank\" title=\"'페라리의 세계' 전시회 개최\">'페라리의 세계' 전시회 개최</a> <span class=\"txt_sinfo\"> <span class=\"press\" title=\"서울파이낸스\">서울파이낸스</span> <span class=\"bar\"></span> 2019.09.04. </span> </li> </ul> </dd> </dl> </li>,\n",
       " <li id=\"sp_nws14\"> <div class=\"thumb\"><a class=\"sp_thmb thmb80\" href=\"https://www.nytimes.com/2020/01/02/movies/oscars-2020-critics.html?partner=naver\" onclick=\"return goOtherCR(this, 'a=nws*f.img&amp;r=14&amp;i=88196476_000000000000000000032919&amp;g=5747.0000032919&amp;u='+urlencode(this.href));\" target=\"_blank\"><img alt=\"Will the Oscars Get \" class=\"\" height=\"80\" onerror=\"this.parentNode.style.display='none';\" src=\"https://search.pstatic.net/common/?src=https%3A%2F%2Fimgnews.pstatic.net%2Fimage%2Forigin%2F5747%2F2020%2F01%2F03%2F32919.jpg&amp;type=ofullfill80_80_q75_re2\" width=\"80\"/><span class=\"thmb_v\"></span></a></div> <dl> <dt><a class=\"_sp_each_url _sp_each_title\" href=\"https://www.nytimes.com/2020/01/02/movies/oscars-2020-critics.html?partner=naver\" onclick=\"return goOtherCR(this, 'a=nws*f.tit&amp;r=14&amp;i=88196476_000000000000000000032919&amp;g=5747.0000032919&amp;u='+urlencode(this.href));\" target=\"_blank\" title=\"Will the Oscars Get as Nostalgic as Hollywood Did in 2019?\">Will the Oscars Get as Nostalgic as Hollywood Did in 2019?</a></dt> <dd class=\"txt_inline\"><span class=\"_sp_each_source\">The New York Times</span> <span class=\"bar\"></span> 2020.01.03. <div class=\"scial\" id=\"sp_nws14_base\"> <span class=\"bar\"></span> <a class=\"bt_scial2 naver-splugin\" data-oninitialize=\"splugin_oninitialize('sp_nws14');\" data-style=\"unity-v2\" href=\"#\" onclick=\"goOtherTCR(this, 'a=nws*f.pplugin&amp;r=14&amp;i=88196476_000000000000000000032919&amp;u='+urlencode(this.href)); return false;\">보내기</a> </div> </dd> <dd>“Once Upon a Time” seems to me connected to both “The Irishman” and “Ford v <strong class=\"hl\">Ferrari</strong>.... As for “Ford v <strong class=\"hl\">Ferrari</strong>,” part of its nostalgia is for an earlier era when people (well, men!)...</dd> </dl> </li>,\n",
       " <li id=\"sp_nws15\"> <div class=\"thumb\"><a class=\"sp_thmb thmb80\" href=\"https://www.nytimes.com/2019/11/01/movies/holiday-movies.html?partner=naver\" onclick=\"return goOtherCR(this, 'a=nws*f.img&amp;r=15&amp;i=88196476_000000000000000000023595&amp;g=5747.0000023595&amp;u='+urlencode(this.href));\" target=\"_blank\"><img alt=\"Holiday Movies 2019:\" class=\"\" height=\"80\" onerror=\"this.parentNode.style.display='none';\" src=\"https://search.pstatic.net/common/?src=https%3A%2F%2Fimgnews.pstatic.net%2Fimage%2Forigin%2F5747%2F2019%2F11%2F01%2F23595.jpg&amp;type=ofullfill80_80_q75_re2\" width=\"80\"/><span class=\"thmb_v\"></span></a></div> <dl> <dt><a class=\"_sp_each_url _sp_each_title\" href=\"https://www.nytimes.com/2019/11/01/movies/holiday-movies.html?partner=naver\" onclick=\"return goOtherCR(this, 'a=nws*f.tit&amp;r=15&amp;i=88196476_000000000000000000023595&amp;g=5747.0000023595&amp;u='+urlencode(this.href));\" target=\"_blank\" title=\"Holiday Movies 2019: Here’s What’s Coming Soon to Theaters\">Holiday Movies 2019: Here’s What’s Coming Soon to Theaters</a></dt> <dd class=\"txt_inline\"><span class=\"_sp_each_source\">The New York Times</span> <span class=\"bar\"></span> 2019.11.01. <div class=\"scial\" id=\"sp_nws15_base\"> <span class=\"bar\"></span> <a class=\"bt_scial2 naver-splugin\" data-oninitialize=\"splugin_oninitialize('sp_nws15');\" data-style=\"unity-v2\" href=\"#\" onclick=\"goOtherTCR(this, 'a=nws*f.pplugin&amp;r=15&amp;i=88196476_000000000000000000023595&amp;u='+urlencode(this.href)); return false;\">보내기</a> </div> </dd> <dd>FORD v <strong class=\"hl\">FERRARI</strong> Sound-effects editors get a chance to rev some engines in this fact-based celebration of individualism and industry. In the 1960s, after Ford’s prospective buyout of <strong class=\"hl\">Ferrari</strong> fell...</dd> </dl> </li>]"
      ]
     },
     "execution_count": 64,
     "metadata": {},
     "output_type": "execute_result"
    }
   ],
   "source": [
    "news_items2"
   ]
  },
  {
   "cell_type": "code",
   "execution_count": null,
   "metadata": {},
   "outputs": [],
   "source": [
    "# 웹 페이지: html, css, js\n",
    "# html : 형태, 레이아웃, 컨텐츠\n",
    "# 태그: container, empty\n",
    "# <span>내용</span>: 태그 안에 다른 태그나 내용을 담을 수 있다.\n",
    "# <img src=\"그림파일주소\"> : 태그 단독 존재, 엠티\n",
    "# <tagName 속성명=\"속성값\" 속성명2=\"속성값2\"></tagName>\n",
    "# 속성 : id, class\n",
    "# <span class=\"name _ep_title\"> : 별명, 그룹명\n",
    "# <p id=\"News_title\"> : 주민번호\n",
    "# css : 화면을 꾸미는 역할\n",
    "# js : 동적인 부분을 담당, 새로운 데이터 불러오기"
   ]
  },
  {
   "cell_type": "code",
   "execution_count": null,
   "metadata": {},
   "outputs": [],
   "source": [
    "# http method\n",
    "# 어떤 의로들 가지고 접근할 것이냐?\n",
    "# 크롬에서 네트워크 설정 키고 맨위 소스코드 선택 후 header 선택했을 때 나오는 메소드 \n",
    "# get : 정보를 얻어올 때 - 대부분의 주소치고 접근하는 페이지\n",
    "# post : 정보를 전달할 때 - 회원가입, 글쓰기, 로그인, 결제\n",
    "# head : 헤더 정보만 가지고 온다.\n",
    "# options : 해당 페이지가 어떤 메서드를 지원하느냐?\n",
    "# put : 자료를 업로드 할 때\n",
    "# patch : 자료를 업로드 할 떄 - 수정\n",
    "# delete : 자료를 지울 때\n",
    "# put, patch, delete의 경우는 대부분 post로 대체"
   ]
  },
  {
   "cell_type": "code",
   "execution_count": 46,
   "metadata": {},
   "outputs": [],
   "source": [
    "#format_string\n",
    "# 양식문자열\n",
    "# 1. .format 메서드\n",
    "# 2. % 문법\n",
    "# 3. f 문자열 (최신버전, 위에것도 알아야함!!!)\n",
    "# 양식문자열 만드는 순서\n",
    "# 1. 예시문자열 만들기\n",
    "# 2. 데이터 자리 만들기\n",
    "keyword = \"frozen\"\n",
    "numbers = 12234234.214346\n",
    "format_string = f\"{keyword:@^10} - 기사 목록({numbers:5,.2f})\"\n",
    "# ^가운데 정렬, 숫자는 최소 10자리, ' ,'찍으면 3개마다 찍기, .2는 소수점 두자리, f뒤에 붙이면 실수 그대로 표시"
   ]
  },
  {
   "cell_type": "code",
   "execution_count": 47,
   "metadata": {},
   "outputs": [
    {
     "data": {
      "text/plain": [
       "'@@frozen@@ - 기사 목록(12,234,234.21)'"
      ]
     },
     "execution_count": 47,
     "metadata": {},
     "output_type": "execute_result"
    }
   ],
   "source": [
    "format_string"
   ]
  },
  {
   "cell_type": "code",
   "execution_count": null,
   "metadata": {},
   "outputs": [],
   "source": []
  },
  {
   "cell_type": "code",
   "execution_count": null,
   "metadata": {},
   "outputs": [],
   "source": []
  },
  {
   "cell_type": "code",
   "execution_count": null,
   "metadata": {},
   "outputs": [],
   "source": []
  },
  {
   "cell_type": "code",
   "execution_count": null,
   "metadata": {},
   "outputs": [],
   "source": []
  },
  {
   "cell_type": "code",
   "execution_count": null,
   "metadata": {},
   "outputs": [],
   "source": []
  }
 ],
 "metadata": {
  "kernelspec": {
   "display_name": "Python 3",
   "language": "python",
   "name": "python3"
  },
  "language_info": {
   "codemirror_mode": {
    "name": "ipython",
    "version": 3
   },
   "file_extension": ".py",
   "mimetype": "text/x-python",
   "name": "python",
   "nbconvert_exporter": "python",
   "pygments_lexer": "ipython3",
   "version": "3.7.6"
  }
 },
 "nbformat": 4,
 "nbformat_minor": 4
}
