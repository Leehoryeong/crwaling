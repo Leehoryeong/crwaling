{
 "cells": [
  {
   "cell_type": "code",
   "execution_count": 57,
   "metadata": {},
   "outputs": [],
   "source": [
    "# step1 필요한 모듈 import\n",
    "from bs4 import BeautifulSoup\n",
    "from selenium import webdriver\n",
    "import time\n",
    "import sys\n",
    "import math\n",
    "import numpy\n",
    "import numpy as np\n",
    "import pandas as pd\n",
    "import xlwt\n",
    "import urllib.request"
   ]
  },
  {
   "cell_type": "code",
   "execution_count": 3,
   "metadata": {},
   "outputs": [],
   "source": [
    "path = 'C:\\\\Users\\\\01048\\\\Desktop\\\\crawling\\\\chromedriver_240.exe'\n",
    "driver = webdriver.Chrome(path)\n",
    "\n",
    "url = 'https://www.google.com/'\n",
    "driver.get(url)"
   ]
  },
  {
   "cell_type": "code",
   "execution_count": 4,
   "metadata": {},
   "outputs": [
    {
     "name": "stdout",
     "output_type": "stream",
     "text": [
      "검색어: GD\n"
     ]
    }
   ],
   "source": [
    "keyword = input('검색어: ')"
   ]
  },
  {
   "cell_type": "code",
   "execution_count": 8,
   "metadata": {},
   "outputs": [],
   "source": [
    "element = driver.find_element_by_name('q')\n",
    "element.send_keys(keyword)\n",
    "driver.find_element_by_class_name('gNO89b').click()\n",
    "driver.find_element_by_xpath('//*[@id=\"hdtb-msb-vis\"]/div[2]/a').click()"
   ]
  },
  {
   "cell_type": "code",
   "execution_count": 49,
   "metadata": {},
   "outputs": [],
   "source": [
    "file_no = 1\n",
    "count = 1\n",
    "img_src = []\n",
    "\n",
    "html = driver.page_source\n",
    "soup = BeautifulSoup(html,'html.parser')\n",
    "images = soup.find('div','gBPM8').find_all('img')\n",
    "\n",
    "\n",
    "for image in images:\n",
    "    #src = image['src']\n",
    "    src = image.get('src', image.get('dfr-src')) \n",
    "    #if src is None:\n",
    "    #    continue\n",
    "    img_src.append(src)\n",
    "    count += 1 \n"
   ]
  },
  {
   "cell_type": "code",
   "execution_count": null,
   "metadata": {},
   "outputs": [],
   "source": [
    "for i in range(0,len(img_src)):\n",
    "    print(i)\n",
    "    outfolder = 'C:\\\\Users\\\\01048\\\\Desktop\\\\crawling\\\\result\\\\'\n",
    "    outfile = str(file_no)+'.jpg'\n",
    "    try:\n",
    "        urllib.request.urlretrieve(img_src[i],outfolder + outfile) #urlretrieve 함수: 그 url 주소로 가서 이미지를 다운 받는 함수\n",
    "    except:\n",
    "        continue # 이미지를 찾으러 갖는데 이미지가 없는 경우 넘어가라 \n",
    "    file_no += 1\n",
    "    time.sleep(0.5)\n",
    "    print(\"%s 번째 이미지 저장중입니다 ==========\"%file_no)"
   ]
  }
 ],
 "metadata": {
  "kernelspec": {
   "display_name": "Python 3",
   "language": "python",
   "name": "python3"
  },
  "language_info": {
   "codemirror_mode": {
    "name": "ipython",
    "version": 3
   },
   "file_extension": ".py",
   "mimetype": "text/x-python",
   "name": "python",
   "nbconvert_exporter": "python",
   "pygments_lexer": "ipython3",
   "version": "3.7.6"
  }
 },
 "nbformat": 4,
 "nbformat_minor": 4
}
