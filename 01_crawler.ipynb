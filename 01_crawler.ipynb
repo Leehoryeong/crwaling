{
 "cells": [
  {
   "cell_type": "code",
   "execution_count": null,
   "metadata": {},
   "outputs": [],
   "source": [
    "# 서버에 접속해서 데이터를 가져오는 모듈\n",
    "!pip install requests"
   ]
  },
  {
   "cell_type": "code",
   "execution_count": 19,
   "metadata": {},
   "outputs": [
    {
     "name": "stdout",
     "output_type": "stream",
     "text": [
      "Requirement already satisfied: beautifulsoup4 in c:\\users\\kuadmin.kunet\\appdata\\local\\programs\\python\\python38-32\\lib\\site-packages (4.8.2)\n",
      "Requirement already satisfied: soupsieve>=1.2 in c:\\users\\kuadmin.kunet\\appdata\\local\\programs\\python\\python38-32\\lib\\site-packages (from beautifulsoup4) (1.9.5)\n"
     ]
    },
    {
     "name": "stderr",
     "output_type": "stream",
     "text": [
      "WARNING: You are using pip version 19.2.3, however version 20.0.2 is available.\n",
      "You should consider upgrading via the 'python -m pip install --upgrade pip' command.\n"
     ]
    }
   ],
   "source": [
    "# 서버에서 가져온 데이터를 html 형식으로 해석\n",
    "!pip install beautifulsoup4"
   ]
  },
  {
   "cell_type": "code",
   "execution_count": null,
   "metadata": {},
   "outputs": [],
   "source": [
    " #터미널 명령어는 앞에 ! 붙여서 실행"
   ]
  },
  {
   "cell_type": "code",
   "execution_count": 35,
   "metadata": {
    "scrolled": true
   },
   "outputs": [
    {
     "name": "stdout",
     "output_type": "stream",
     "text": [
      "접속성공\n",
      "영화 포드 V 페라리 (FORD v FERRARI, 2019)\n",
      "영화 포드 V 페라리 리뷰 (스포o)\n",
      "제임스 맨골드 감독이 <포드 v 페라리>를 통해 드러낸 미국...\n",
      "포드 v 페라리 영화 리뷰 (실화, 알고보면 좋은 사실)\n",
      "[영화] 포드 V 페라리 리뷰\n",
      "봉준호 감독, '포드 V 페라리' 감독과 기념촬영\n",
      "국민차 포드, 르망서 페라리를 제패할 수 있었던 이유는?\n",
      "'포드 v 페라리' 맷 데이먼X감독, 영화 '포스'로 재회한다[Oh!lywood]\n",
      "공장과 예술의 대결, 승리자는 '공장'이었지만... 이게 달랐다\n",
      "'포드 V 페라리', 아카데미서 '기생충'과 작품상 겨룬다\n"
     ]
    }
   ],
   "source": [
    "# 1. 네이버에 접속해서 소스코드를 가져온다.\n",
    "# 1-1. 접속하려면 requests 필요하다.\n",
    "import requests\n",
    "from bs4 import BeautifulSoup\n",
    "url = \"https://search.naver.com/search.naver?sm=top_sug.pre&fbm=0&acr=1&acq=%ED%8F%AC%EB%93%9C&qdt=0&ie=utf8&query=포드 + V + 페라리\"\n",
    "req = requests.get(url) # 접속해서 받아온 데이터, 접속 코드 등\n",
    "if req.status_code == requests.codes.ok:\n",
    "    print(\"접속성공\")\n",
    "    # 다음에 할일들\n",
    "    #print(req.text)\n",
    "    # 서버에서 받아온 데이터는 text 형태다.\n",
    "    # html 형태로 파싱(parsing)한다.\n",
    "    html = BeautifulSoup(req.text,\"html.parser\")\n",
    "    span_tags = html.select('a._sp_each_title') \n",
    "    #필요한 것을 뽑기위해 사용(전부 찾아줌)\n",
    "    for tag in span_tags:\n",
    "        print(tag.text)\n",
    "    #print(span_tags)\n",
    "    #html.select_one() #제일 가까운 것만 찾아줌(제일 먼저 나오는 것)\n",
    "else:\n",
    "    print(\"접속실패\")\n",
    "# 2. 소스코드를 해석해서 실시간 급등 검색어들을 가져온다.\n",
    "# 3. 검색어를 화면에 출력한다."
   ]
  },
  {
   "cell_type": "code",
   "execution_count": 37,
   "metadata": {
    "scrolled": true
   },
   "outputs": [
    {
     "name": "stdout",
     "output_type": "stream",
     "text": [
      "접속성공\n",
      "영화 포드 V 페라리 (FORD v FERRARI, 2019)\n",
      "영화 포드 V 페라리 리뷰 (스포o)\n",
      "제임스 맨골드 감독이 <포드 v 페라리>를 통해 드러낸 미국...\n",
      "포드 v 페라리 영화 리뷰 (실화, 알고보면 좋은 사실)\n",
      "[영화] 포드 V 페라리 리뷰\n",
      "봉준호 감독, '포드 V 페라리' 감독과 기념촬영\n",
      "국민차 포드, 르망서 페라리를 제패할 수 있었던 이유는?\n",
      "'포드 v 페라리' 맷 데이먼X감독, 영화 '포스'로 재회한다[Oh!lywood]\n",
      "공장과 예술의 대결, 승리자는 '공장'이었지만... 이게 달랐다\n",
      "'포드 V 페라리', 아카데미서 '기생충'과 작품상 겨룬다\n"
     ]
    }
   ],
   "source": [
    "# 남산의 + 부장들 이라는 영화제목을 검색해서\n",
    "# 블로그 글들의 제목을 출력\n",
    "# 영화 제목을 입력받아서\n",
    "# 해당 영화의 검색 결과 블로그 글들의 제목을 출력하시오.\n",
    "\n",
    "import requests\n",
    "# 웹 사이트를 연결하기 위한 도구\n",
    "## 서버에서 접속해서 데이터를 받아올 때 필요한 기능 불러오기\n",
    "\n",
    "from bs4 import BeautifulSoup\n",
    "# 웹사이트의 정보를 정리하기 위한 도구\n",
    "## 서버에서 받은 데이터를 해석할 때 필요한 기능 불러오기\n",
    "\n",
    "url = \"https://search.naver.com/search.naver?sm=top_sug.pre&fbm=0&acr=1&acq=%ED%8F%AC%EB%93%9C&qdt=0&ie=utf8&query=포드 + V + 페라리\"\n",
    "# 접속하고자하는 웹 사이트 주소\n",
    "## 영화 내용을 검색한 주소를 변수에 저장\n",
    "\n",
    "req = requests.get(url) \n",
    "# 웹 사이트 연결, 받아온 정보 저장\n",
    "## 해당 주소로 서버에 좁속해서 내용 받아오기\n",
    "\n",
    "if req.status_code == requests.codes.ok:\n",
    "    # 코드가 제대로 연결되어 있는지 여부 확인\n",
    "    print(\"접속성공\")\n",
    "    # 연결시 접속성공 출력\n",
    "    html = BeautifulSoup(req.text,\"html.parser\")\n",
    "    # 텍스트로 받아온 정보를 html코드들 나열 \n",
    "    ## 받아온 데이터를  html 형태로 해석\n",
    "    \n",
    "    span_tags = html.select('a._sp_each_title')\n",
    "    # 필요로 하는 부분들만 저장\n",
    "    ## 찾은 요소를 하나씩 꺼내서\n",
    "    for tag in span_tags:\n",
    "        # 필요로 하는 정보 하나씩 나열\n",
    "        ## 해당 요소의 글자만 출력\n",
    "        print(tag.text)\n",
    "else:\n",
    "    print(\"접속실패\")"
   ]
  },
  {
   "cell_type": "code",
   "execution_count": 19,
   "metadata": {},
   "outputs": [
    {
     "name": "stdout",
     "output_type": "stream",
     "text": [
      "영화 제목:포드 v 페라리\n",
      "접속성공\n",
      "https://blog.naver.com/cine_play?Redirect=Log&logNo=221758642095\n",
      "제임스 맨골드 감독이 <포드 v 페라리>를 통해 드러낸 미국...\n",
      "포드의 이름을 꺼내든 <포드 v 페라리>는 얼핏 포드가 일군 승리의 역사를 재현하는 듯하다. 페라리의 아성에 도전한 포드는 결승점에 자기들의 차 3대가 나란히...\n",
      "https://blog.naver.com/c2h1o4?Redirect=Log&logNo=221733089640\n",
      "[스포일러有] 영화 속에서 교차하는 두 지점들 - <포드 V 페라리>\n",
      "※본 리뷰는 <포드 V 페라리>의 스포일러를 포함하고 있습니다. <포드 V 페라리>는... 가장 중요하게 보였던 두 가지 상황은 켄이 페라리를 탈락시키는 장면, 그리고...\n",
      "https://blog.naver.com/kgeumbi?Redirect=Log&logNo=221739925979\n",
      "영화 포드 V 페라리 (FORD v FERRARI, 2019)\n",
      "포드 V 페라리 (FORD v FERRARI, 2019) 개요 : 액션,드라마 / 미국 / 152분 개봉 : 2019년 12월... 장악한 절대적 1위 ‘... movie.naver.com #포드V페라리 #켄마일스 #캐롤셸비 #포드페라리\n",
      "https://blog.naver.com/cine212722?Redirect=Log&logNo=221739625805\n",
      "포드 V 페라리(Ford v Ferrari, 2019년) 카레이싱 영화 수작\n",
      "다루었다면 '포드 V 페라리'는 동료관계의 두 남자의 우정을 다루고 있습니다. 1960년대, 르망24 대회에서 5년연속 페라리 자동차가 우승하자 포드사의 포드 회장은...\n",
      "https://blog.naver.com/ljb1202?Redirect=Log&logNo=221730825307\n",
      "포드 V 페라리 - 영광의 한 때\n",
      "포드 V 페라리 감독 제임스 맨골드 출연 크리스찬 베일, 맷 데이먼 개봉 2019. 12. 04.... 이를 알게된 포드 사장은 페라리를 이길 자동차를 만들라고 한다. 이에 미국에서...\n",
      "제임스 맨골드 감독이 <포드 v 페라리>를 통해 드러낸 미국...\n",
      "[스포일러有] 영화 속에서 교차하는 두 지점들 - <포드 V 페라리>\n",
      "영화 포드 V 페라리 (FORD v FERRARI, 2019)\n",
      "포드 V 페라리(Ford v Ferrari, 2019년) 카레이싱 영화 수작\n",
      "포드 V 페라리 - 영광의 한 때\n",
      "봉준호 감독, '포드 V 페라리' 감독과 기념촬영\n",
      "국민차 포드, 르망서 페라리를 제패할 수 있었던 이유는?\n",
      "'포드 v 페라리' 맷 데이먼X감독, 영화 '포스'로 재회한다[Oh!lywood]\n",
      "공장과 예술의 대결, 승리자는 '공장'이었지만... 이게 달랐다\n",
      "'포드 V 페라리', 아카데미서 '기생충'과 작품상 겨룬다\n",
      "포드의 이름을 꺼내든 <포드 v 페라리>는 얼핏 포드가 일군 승리의 역사를 재현하는 듯하다. 페라리의 아성에 도전한 포드는 결승점에 자기들의 차 3대가 나란히...\n",
      "※본 리뷰는 <포드 V 페라리>의 스포일러를 포함하고 있습니다. <포드 V 페라리>는... 가장 중요하게 보였던 두 가지 상황은 켄이 페라리를 탈락시키는 장면, 그리고...\n",
      "포드 V 페라리 (FORD v FERRARI, 2019) 개요 : 액션,드라마 / 미국 / 152분 개봉 : 2019년 12월... 장악한 절대적 1위 ‘... movie.naver.com #포드V페라리 #켄마일스 #캐롤셸비 #포드페라리\n",
      "다루었다면 '포드 V 페라리'는 동료관계의 두 남자의 우정을 다루고 있습니다. 1960년대, 르망24 대회에서 5년연속 페라리 자동차가 우승하자 포드사의 포드 회장은...\n",
      "포드 V 페라리 감독 제임스 맨골드 출연 크리스찬 베일, 맷 데이먼 개봉 2019. 12. 04.... 이를 알게된 포드 사장은 페라리를 이길 자동차를 만들라고 한다. 이에 미국에서...\n"
     ]
    }
   ],
   "source": [
    "# 남산의 + 부장들 이라는 영화제목을 검색해서\n",
    "# 블로그 글들의 제목을 출력\n",
    "# 영화 제목을 입력받아서\n",
    "# 해당 영화의 검색 결과 블로그 글들의 제목을 출력하시오.\n",
    "import requests\n",
    "from bs4 import BeautifulSoup\n",
    "# 프로그램의 실행순서: 순차, 분기, 반복\n",
    "movie_title = input(\"영화 제목:\")\n",
    "# 영화제목을 입력하지 않은 경우 처리하지 않는다.\n",
    "while not movie_title:\n",
    "    print(\"영화 제목 없음\")\n",
    "    movie_title = input(\"영화 제목:\")\n",
    "    # Todo: 다시 입력받기\n",
    "    # 영화 제목을 입력할 때까지 반복하기\n",
    "url = \"https://search.naver.com/search.naver?sm=top_sug.pre&fbm=0&acr=1&acq=%ED%8F%AC%EB%93%9C&qdt=0&ie=utf8&query=\" + movie_title\n",
    "req = requests.get(url) \n",
    "if req.status_code == requests.codes.ok:\n",
    "    print(\"접속성공\")\n",
    "    html = BeautifulSoup(req.text,\"html.parser\")\n",
    "    blog_posts = html.select('li.sh_blog_top')\n",
    "    for post in blog_posts:\n",
    "        title = post.select_one('._sp_each_title')\n",
    "        desc = post.select_one('.sh_blog_passage')\n",
    "        print(title.attrs['href']) #title['href']와 동일하지만 속성을 붙이면서 더 명확하게 표현 \n",
    "        print(title.text)\n",
    "        print(desc.text)\n",
    "    span_tags = html.select('a._sp_each_title')\n",
    "    for tag in span_tags:\n",
    "        print(tag.text)\n",
    "    desc_tags = html.select('dd.sh_blog_passage')\n",
    "    for dd in desc_tags:\n",
    "        print(dd.text)\n",
    "else:\n",
    "    print(\"접속실패\")"
   ]
  },
  {
   "cell_type": "markdown",
   "metadata": {},
   "source": [
    "프로그래밍 언어는 4가지로 구분된다\n",
    "- 컴퓨터는 4가지 장치로 구성: 입력(마우스, 키보드) 저장(메모리) 연산(CPU, GPU), 출력(모니터, 스피커, 프린터)"
   ]
  },
  {
   "cell_type": "code",
   "execution_count": 32,
   "metadata": {},
   "outputs": [],
   "source": [
    "# 크롤러 오픈카톡방 들어가서 누군가의 질문 데이터로 긁어보기"
   ]
  },
  {
   "cell_type": "code",
   "execution_count": null,
   "metadata": {},
   "outputs": [],
   "source": [
    "print('Hello World')"
   ]
  },
  {
   "cell_type": "markdown",
   "metadata": {},
   "source": [
    "* a 위에 셀추가\n",
    "* b 밑에 셀추가\n",
    "* x 셀 삭제\n",
    "* shift + l 줄번호 생성\n",
    "* '*' 모양으로 에러 발생시 Kernel -> restart\n",
    "* cell -> run all above : 선택한 셀 기준으로 밑에거 전부 실행\n",
    "* R Y M 쓰면 쓰기모드 변경 => 지저분한 결과창 숨기기\n",
    "* 웹 크롤러는 검색 포탈을 흉내내는 프로그램"
   ]
  },
  {
   "cell_type": "markdown",
   "metadata": {},
   "source": [
    "- requests: 웹에 보이는 정보\n",
    "- 셀레늄: 웹의 구동방식(소스코드)"
   ]
  },
  {
   "cell_type": "markdown",
   "metadata": {},
   "source": [
    "# 자료관리\n",
    "## github, blog, youtube 등에 자신이 정리한 거 업로드\n",
    "## 주로 EDA 위주로 관리"
   ]
  }
 ],
 "metadata": {
  "kernelspec": {
   "display_name": "Python 3",
   "language": "python",
   "name": "python3"
  },
  "language_info": {
   "codemirror_mode": {
    "name": "ipython",
    "version": 3
   },
   "file_extension": ".py",
   "mimetype": "text/x-python",
   "name": "python",
   "nbconvert_exporter": "python",
   "pygments_lexer": "ipython3",
   "version": "3.7.6"
  }
 },
 "nbformat": 4,
 "nbformat_minor": 4
}
