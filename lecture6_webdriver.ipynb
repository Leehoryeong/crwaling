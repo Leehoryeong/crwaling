{
 "cells": [
  {
   "cell_type": "code",
   "execution_count": 1,
   "metadata": {},
   "outputs": [
    {
     "name": "stdout",
     "output_type": "stream",
     "text": [
      "Collecting selenium\n",
      "  Downloading https://files.pythonhosted.org/packages/80/d6/4294f0b4bce4de0abf13e17190289f9d0613b0a44e5dd6a7f5ca98459853/selenium-3.141.0-py2.py3-none-any.whl (904kB)\n",
      "Collecting urllib3 (from selenium)\n",
      "  Using cached https://files.pythonhosted.org/packages/e8/74/6e4f91745020f967d09332bb2b8b9b10090957334692eb88ea4afe91b77f/urllib3-1.25.8-py2.py3-none-any.whl\n",
      "Installing collected packages: urllib3, selenium\n",
      "Successfully installed selenium-3.141.0 urllib3-1.25.8\n"
     ]
    },
    {
     "name": "stderr",
     "output_type": "stream",
     "text": [
      "WARNING: You are using pip version 19.2.3, however version 20.0.2 is available.\n",
      "You should consider upgrading via the 'python -m pip install --upgrade pip' command.\n"
     ]
    }
   ],
   "source": [
    "!pip install selenium"
   ]
  },
  {
   "cell_type": "code",
   "execution_count": 1,
   "metadata": {},
   "outputs": [],
   "source": [
    "from bs4 import BeautifulSoup\n",
    "from selenium import webdriver\n",
    "import time"
   ]
  },
  {
   "cell_type": "code",
   "execution_count": 2,
   "metadata": {},
   "outputs": [
    {
     "name": "stdout",
     "output_type": "stream",
     "text": [
      "크롤링할 키워드는?광양\n"
     ]
    }
   ],
   "source": [
    "query_txt = input(\"크롤링할 키워드는?\")\n",
    "\n",
    "# step1 크롬 웹드라이버로 웹 브라우저 실행\n",
    "path = 'chromedriver_240.exe'\n",
    "driver = webdriver.Chrome(path)\n",
    "\n",
    "driver.get('https://korean.visitkorea.or.kr/main/main.html') #홈페이지 열어\n",
    "time.sleep(2) # 위 페이지가 모두 열릴 때까지 2초 대기\n",
    "\n",
    "# step2 검색창을 찾아서 검색어 입력\n",
    "driver.find_element_by_id('btnSearch').click()\n",
    "\n",
    "element = driver.find_element_by_id('inp_search')\n",
    "\n",
    "element.send_keys(query_txt)\n",
    "\n",
    "# step3 검색 버튼 실행\n",
    "\n",
    "driver.find_element_by_xpath('//*[@id=\"gnbMain\"]/div/div/div[1]/div[1]/a').click()"
   ]
  },
  {
   "cell_type": "code",
   "execution_count": null,
   "metadata": {},
   "outputs": [],
   "source": [
    "driver.find"
   ]
  },
  {
   "cell_type": "code",
   "execution_count": 3,
   "metadata": {},
   "outputs": [
    {
     "name": "stdout",
     "output_type": "stream",
     "text": [
      "크롤링할 키워드는?holavla\n"
     ]
    }
   ],
   "source": [
    "# 네이버\n",
    "query_txt = input(\"크롤링할 키워드는?\")\n",
    "\n",
    "# step1 크롬 웹드라이버로 웹 브라우저 실행\n",
    "path = 'chromedriver_240.exe'\n",
    "driver = webdriver.Chrome(path)\n",
    "\n",
    "driver.get('https://www.naver.com') #홈페이지 열어\n",
    "time.sleep(2) # 위 페이지가 모두 열릴 때까지 2초 대기\n",
    "\n",
    "# step2 검색창을 찾아서 검색어 입력\n",
    "\n",
    "element = driver.find_element_by_id('query')\n",
    "\n",
    "element.send_keys(query_txt)\n",
    "\n",
    "# step3 검색 버튼 실행\n",
    "\n",
    "driver.find_element_by_xpath('//*[@id=\"search_btn\"]').click()"
   ]
  },
  {
   "cell_type": "code",
   "execution_count": 16,
   "metadata": {},
   "outputs": [
    {
     "name": "stdout",
     "output_type": "stream",
     "text": [
      "검색 키워드:samsung\n"
     ]
    }
   ],
   "source": [
    "# 유튜브\n",
    "quert_txt = input(\"검색 키워드:\")\n",
    "\n",
    "# 1. 크롬 웹드라이버 실행\n",
    "path = 'chromedriver_240.exe'\n",
    "driver = webdriver.Chrome(path)\n",
    "\n",
    "driver.get('https://www.daum.net/')\n",
    "time.sleep(2)\n",
    "\n",
    "# 2. 검색창, 검색\n",
    "search = driver.find_element_by_xpath('//*[@id=\"q\"]')\n",
    "\n",
    "search.send_keys(quert_txt)\n",
    "\n",
    "# 3. 실행\n",
    "driver.find_element_by_xpath('//*[@id=\"daumSearch\"]/fieldset/div/div/button[2]').click()"
   ]
  },
  {
   "cell_type": "code",
   "execution_count": 15,
   "metadata": {},
   "outputs": [
    {
     "data": {
      "text/plain": [
       "'samsung'"
      ]
     },
     "execution_count": 15,
     "metadata": {},
     "output_type": "execute_result"
    }
   ],
   "source": [
    "quert_txt"
   ]
  }
 ],
 "metadata": {
  "kernelspec": {
   "display_name": "Python 3",
   "language": "python",
   "name": "python3"
  },
  "language_info": {
   "codemirror_mode": {
    "name": "ipython",
    "version": 3
   },
   "file_extension": ".py",
   "mimetype": "text/x-python",
   "name": "python",
   "nbconvert_exporter": "python",
   "pygments_lexer": "ipython3",
   "version": "3.7.6"
  }
 },
 "nbformat": 4,
 "nbformat_minor": 4
}
