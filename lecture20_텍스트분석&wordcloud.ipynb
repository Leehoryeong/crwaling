{
 "cells": [
  {
   "cell_type": "code",
   "execution_count": 1,
   "metadata": {},
   "outputs": [],
   "source": [
    "from konlpy.tag import *\n",
    "import matplotlib.pyplot as plt\n",
    "from matplotlib import font_manager, rc\n",
    "from wordcloud import WordCloud\n",
    "from collections import Counter\n",
    "\n",
    "okt = Okt() # 문장에서 명사를 골라주는 형태소 분석기\n",
    "kkma = Kkma() # 문장에서 명사를 골라주는 형태소 분석기"
   ]
  },
  {
   "cell_type": "code",
   "execution_count": 4,
   "metadata": {},
   "outputs": [
    {
     "name": "stdout",
     "output_type": "stream",
     "text": [
      "Kkma ['사과', '복숭아']\n",
      "okt ['나', '사과', '사과', '복숭아', '복숭아']\n"
     ]
    }
   ],
   "source": [
    "print(\"Kkma\",kkma.nouns(\"나는 사과, 사과, 복숭아, 복숭아가 좋아요\")) # 중복단어 자동 제거\n",
    "print(\"okt\",okt.nouns(\"나는 사과, 사과, 복숭아, 복숭아가 좋아요\"))"
   ]
  },
  {
   "cell_type": "code",
   "execution_count": 21,
   "metadata": {},
   "outputs": [
    {
     "name": "stdout",
     "output_type": "stream",
     "text": [
      "나는 사과와 바나나가 제일 좋아요^^\n",
      "나는 역시 복숭아와 사과가 좋아요!\n",
      "나는 단감, 단감, 단감, 단감이 최고 좋아요!\n",
      "나는 토마토와 오렌지를 가장 좋아하죠\n"
     ]
    }
   ],
   "source": [
    "data1 = open('C:\\\\Users\\\\01048\\\\Desktop\\\\crawling\\\\파이썬_분석예제.txt', encoding='UTF8').read()\n",
    "print(data1)"
   ]
  },
  {
   "cell_type": "code",
   "execution_count": 22,
   "metadata": {},
   "outputs": [
    {
     "name": "stdout",
     "output_type": "stream",
     "text": [
      "1.추출된 키워드: ['나', '사과', '바나나', '제일', '나', '역시', '복숭아', '사과', '나', '단감', '단감', '단감', '단감', '최고', '나', '토마토', '오렌지', '가장']\n",
      "\n",
      "\n",
      "2. 단어별 빈도수: Counter({'나': 4, '단감': 4, '사과': 2, '바나나': 1, '제일': 1, '역시': 1, '복숭아': 1, '최고': 1, '토마토': 1, '오렌지': 1, '가장': 1})\n"
     ]
    }
   ],
   "source": [
    "data2 = okt.nouns(data1)\n",
    "print(\"1.추출된 키워드:\",data2)\n",
    "print('\\n')\n",
    "\n",
    "data3 = Counter(data2)\n",
    "print(\"2. 단어별 빈도수:\", data3) # 한명이 단감을 네번 말했는데 모두 카운팅 됨 (데이터의 왜곡)"
   ]
  },
  {
   "cell_type": "code",
   "execution_count": 13,
   "metadata": {},
   "outputs": [
    {
     "name": "stdout",
     "output_type": "stream",
     "text": [
      "['나는 사과와 바나나가 제일 좋아요^^\\n', '나는 역시 복숭아와 사과가 좋아요!\\n', '나는 단감, 단감, 단감, 단감이 최고 좋아요!\\n', '나는 토마토와 오렌지를 가장 좋아하죠']\n",
      "\n",
      "\n",
      "['사과', '바나나', '나', '복숭아', '사과', '나', '단감', '최고', '나', '토마토', '오렌지']\n",
      "단어별 빈도수 Counter({'나': 3, '사과': 2, '바나나': 1, '복숭아': 1, '단감': 1, '최고': 1, '토마토': 1, '오렌지': 1})\n"
     ]
    }
   ],
   "source": [
    "data1 = open('C:\\\\Users\\\\01048\\\\Desktop\\\\crawling\\\\파이썬_분석예제.txt', encoding='UTF8').readlines()\n",
    "print(data1)\n",
    "print('\\n')\n",
    "\n",
    "data22 = []\n",
    "for i in data1:\n",
    "    data2 = kkma.nouns(i)\n",
    "    for j in range(0,len(data2)):\n",
    "        data22.append(data2[j])\n",
    "print(data22)\n",
    "data23 = Counter(data22)\n",
    "print(\"단어별 빈도수\", data23)"
   ]
  },
  {
   "cell_type": "code",
   "execution_count": null,
   "metadata": {},
   "outputs": [],
   "source": []
  },
  {
   "cell_type": "code",
   "execution_count": 23,
   "metadata": {},
   "outputs": [
    {
     "name": "stdout",
     "output_type": "stream",
     "text": [
      "최고\n",
      "역시\n",
      "가장\n",
      "제일 \n",
      "나\n",
      "['사과', '바나나', '복숭아', '사과', '단감', '단감', '단감', '단감', '토마토', '오렌지']\n"
     ]
    }
   ],
   "source": [
    "# 불용어 제거하기 \n",
    "sword = open('C:\\\\Users\\\\01048\\\\Desktop\\\\crawling\\\\불용어목록.txt', encoding='UTF8').read()\n",
    "print(sword)\n",
    "data4 = [each_word for each_word in data2\n",
    "        if each_word not in sword]\n",
    "print(data4)"
   ]
  },
  {
   "cell_type": "code",
   "execution_count": 24,
   "metadata": {},
   "outputs": [
    {
     "name": "stdout",
     "output_type": "stream",
     "text": [
      "['사과', '바나나', '복숭아', '사과', '단감', '단감', '단감', '단감', '토마토', '오렌지']\n"
     ]
    }
   ],
   "source": [
    "# 글자수로 불용어 제거하기\n",
    "data5 = []\n",
    "for i in data4:\n",
    "    if len(i) >= 2 | len(i) <= 10:\n",
    "        data5.append(i)\n",
    "print(data5)"
   ]
  },
  {
   "cell_type": "code",
   "execution_count": 25,
   "metadata": {},
   "outputs": [
    {
     "name": "stdout",
     "output_type": "stream",
     "text": [
      "[('단감', 4), ('사과', 2), ('바나나', 1), ('복숭아', 1), ('토마토', 1), ('오렌지', 1)]\n"
     ]
    }
   ],
   "source": [
    "# 단어별 빈도수 집계하기\n",
    "data6 = Counter(data5)\n",
    "data7 = data6.most_common(10)\n",
    "print(data7)\n",
    "data8 = dict(data7)"
   ]
  },
  {
   "cell_type": "code",
   "execution_count": 29,
   "metadata": {},
   "outputs": [
    {
     "data": {
      "image/png": "[encoded data removed]",
      "text/plain": [
       "<Figure size 576x288 with 1 Axes>"
      ]
     },
     "metadata": {
      "needs_background": "light"
     },
     "output_type": "display_data"
    }
   ],
   "source": [
    "wordcloud = WordCloud(font_path=\"c:\\\\windows\\\\fonts\\\\HMKMG.TTF\",\n",
    "                     relative_scaling=0.5,\n",
    "                     background_color=\"white\").generate_from_frequencies(data8)\n",
    "plt.figure(figsize=(8,4))\n",
    "plt.imshow(wordcloud)\n",
    "plt.axis('off')\n",
    "plt.show()"
   ]
  },
  {
   "cell_type": "code",
   "execution_count": 30,
   "metadata": {},
   "outputs": [
    {
     "name": "stdout",
     "output_type": "stream",
     "text": [
      "Collecting nltk\n",
      "  Downloading https://files.pythonhosted.org/packages/f6/1d/d925cfb4f324ede997f6d47bea4d9babba51b49e87a767c170b77005889d/nltk-3.4.5.zip (1.5MB)\n",
      "Requirement already satisfied: six in c:\\users\\01048\\appdata\\local\\programs\\python\\python37\\lib\\site-packages (from nltk) (1.14.0)\n",
      "Installing collected packages: nltk\n",
      "  Running setup.py install for nltk: started\n",
      "    Running setup.py install for nltk: finished with status 'done'\n",
      "Successfully installed nltk-3.4.5\n"
     ]
    },
    {
     "name": "stderr",
     "output_type": "stream",
     "text": [
      "WARNING: You are using pip version 19.2.3, however version 20.0.2 is available.\n",
      "You should consider upgrading via the 'python -m pip install --upgrade pip' command.\n"
     ]
    }
   ],
   "source": [
    "!pip install nltk"
   ]
  },
  {
   "cell_type": "code",
   "execution_count": 31,
   "metadata": {},
   "outputs": [
    {
     "name": "stderr",
     "output_type": "stream",
     "text": [
      "c:\\users\\01048\\appdata\\local\\programs\\python\\python37\\lib\\importlib\\_bootstrap.py:219: RuntimeWarning: numpy.ufunc size changed, may indicate binary incompatibility. Expected 216, got 192\n",
      "  return f(*args, **kwds)\n",
      "c:\\users\\01048\\appdata\\local\\programs\\python\\python37\\lib\\importlib\\_bootstrap.py:219: RuntimeWarning: numpy.ufunc size changed, may indicate binary incompatibility. Expected 216, got 192\n",
      "  return f(*args, **kwds)\n",
      "c:\\users\\01048\\appdata\\local\\programs\\python\\python37\\lib\\importlib\\_bootstrap.py:219: RuntimeWarning: numpy.ufunc size changed, may indicate binary incompatibility. Expected 216, got 192\n",
      "  return f(*args, **kwds)\n"
     ]
    },
    {
     "name": "stdout",
     "output_type": "stream",
     "text": [
      "showing info https://raw.githubusercontent.com/nltk/nltk_data/gh-pages/index.xml\n"
     ]
    },
    {
     "data": {
      "text/plain": [
       "True"
      ]
     },
     "execution_count": 31,
     "metadata": {},
     "output_type": "execute_result"
    }
   ],
   "source": [
    "# 영문 텍스트는  nltk패키지\n",
    "import nltk\n",
    "nltk.download()"
   ]
  },
  {
   "cell_type": "code",
   "execution_count": null,
   "metadata": {},
   "outputs": [],
   "source": [
    "from nltk.corpus import brown\n",
    "brown.words()\n",
    "\n",
    "data1 = \"\"\"I love apple, apple, apple, and orange but hate cherry,\n",
    "I don't love mange\"\"\""
   ]
  },
  {
   "cell_type": "code",
   "execution_count": null,
   "metadata": {},
   "outputs": [],
   "source": [
    "data2 = nltk.word_tokenize(data1)\n",
    "print(data2)"
   ]
  },
  {
   "cell_type": "code",
   "execution_count": null,
   "metadata": {},
   "outputs": [],
   "source": [
    "from nltk.tokenize import WordPunctTokenizer\n",
    "\n",
    "tokenizer = WordPunctTokenizer()\n",
    "new_data2 = tokenizer.tokenize(data1)\n",
    "print(new_data2)"
   ]
  }
 ],
 "metadata": {
  "kernelspec": {
   "display_name": "Python 3",
   "language": "python",
   "name": "python3"
  },
  "language_info": {
   "codemirror_mode": {
    "name": "ipython",
    "version": 3
   },
   "file_extension": ".py",
   "mimetype": "text/x-python",
   "name": "python",
   "nbconvert_exporter": "python",
   "pygments_lexer": "ipython3",
   "version": "3.7.6"
  }
 },
 "nbformat": 4,
 "nbformat_minor": 4
}
