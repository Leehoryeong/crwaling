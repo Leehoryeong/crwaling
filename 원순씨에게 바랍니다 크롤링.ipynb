{
 "cells": [
  {
   "cell_type": "code",
   "execution_count": 10,
   "metadata": {},
   "outputs": [],
   "source": [
    "# step1 필요한 모듈 import\n",
    "from bs4 import BeautifulSoup\n",
    "from selenium import webdriver\n",
    "from selenium.webdriver.support.ui import Select\n",
    "import time\n",
    "import sys\n",
    "\n",
    "import math\n",
    "import numpy\n",
    "import pandas as pd\n",
    "import xlwt"
   ]
  },
  {
   "cell_type": "code",
   "execution_count": 155,
   "metadata": {},
   "outputs": [
    {
     "name": "stdout",
     "output_type": "stream",
     "text": [
      "크롤링할 건수는 몇건입니까?34\n"
     ]
    }
   ],
   "source": [
    "cnt = int(input(\"크롤링할 건수는 몇건입니까?\"))\n",
    "page_cnt = math.ceil(cnt/10)"
   ]
  },
  {
   "cell_type": "code",
   "execution_count": 146,
   "metadata": {},
   "outputs": [
    {
     "name": "stdout",
     "output_type": "stream",
     "text": [
      "크롤링할 건수는 몇건입니까?34\n",
      "검색 결과를 저장할 TXT파일 경로와 이름 지정: C:\\Users\\01048\\Desktop\\crawling\\result\\tes41.txt\n",
      "검색 결과를 저장할 CSV파일 경로와 이름 지정C:\\Users\\01048\\Desktop\\crawling\\result\\test4.csv\n",
      "검색 결과를 저장할 xlsx파일 경로와 이름 지정C:\\Users\\01048\\Desktop\\crawling\\result\\test4.xlsx\n"
     ]
    }
   ],
   "source": [
    "\n",
    "f_name = input(\"검색 결과를 저장할 TXT파일 경로와 이름 지정: \")\n",
    "fc_name = input(\"검색 결과를 저장할 CSV파일 경로와 이름 지정\")\n",
    "fx_name = input(\"검색 결과를 저장할 xlsx파일 경로와 이름 지정\")\n",
    "#  C:\\Users\\01048\\Desktop\\crawling\\result\\test1.txt"
   ]
  },
  {
   "cell_type": "code",
   "execution_count": 156,
   "metadata": {},
   "outputs": [],
   "source": [
    "# 크롬드라이버 실행\n",
    "path = \"chromedriver_240.exe\"\n",
    "driver = webdriver.Chrome(path)\n",
    "\n",
    "driver.get('http://eungdapso.seoul.go.kr/')\n",
    "time.sleep(2)\n",
    "driver.find_element_by_xpath('//*[@id=\"gnb\"]/div[1]/ul[1]/li[1]').click()\n",
    "driver.find_element_by_xpath('//*[@id=\"lnb\"]/li[3]/a').click()"
   ]
  },
  {
   "cell_type": "code",
   "execution_count": 187,
   "metadata": {},
   "outputs": [
    {
     "name": "stdout",
     "output_type": "stream",
     "text": [
      "==================================\n",
      "1\n",
      "2\n",
      "3\n",
      "4\n",
      "5\n",
      "6\n",
      "7\n",
      "8\n",
      "9\n",
      "10\n",
      "2\n",
      "==================================\n",
      "11\n",
      "12\n",
      "13\n",
      "14\n",
      "15\n",
      "16\n",
      "17\n",
      "18\n",
      "19\n",
      "20\n",
      "3\n"
     ]
    }
   ],
   "source": [
    "jemoks = []\n",
    "ymds = []\n",
    "questions = []\n",
    "answers = []\n",
    "num = []\n",
    "no = 1\n",
    "n = 1\n",
    "for i in (1,10):\n",
    "    print('==================================')\n",
    "    html = driver.page_source\n",
    "    soup = BeautifulSoup(html,'html.parser')\n",
    "    titles = soup.find_all('div','pclist_box')\n",
    "    for title in titles:\n",
    "        link = title.find('li','pclist_list_no42').find('a').get_text()\n",
    "        # 게시판 페이지에서 제목 뽑기\n",
    "        #link = link[1:len(link)]\n",
    "        # 첫 글자 공백 지워주기\n",
    "        driver.find_element_by_link_text(link).click()\n",
    "        # 들어가기\n",
    "        time.sleep(2)\n",
    "        # 게시글 들어와서 작업\n",
    "        html1 = driver.page_source\n",
    "        soup1 = BeautifulSoup(html1,'html.parser')\n",
    "        # 제목, 작성일, 질문, 응답 크롤링\n",
    "        table = soup1.find('table','table_style').find('tbody')\n",
    "        jemok = table.find_all('td')[0].get_text()\n",
    "        jemoks.append(jemok)\n",
    "        ymd = table.find_all('td')[1].get_text()\n",
    "        ymds.append(ymd)\n",
    "        question = soup1.find('div','table_inner_desc').get_text().replace('\\t','')\n",
    "        questions.append(question)\n",
    "        answer = soup1.find('div','table_inner_desc').get_text().replace('\\t','')\n",
    "        answers.append(answer)\n",
    "        num.append(no)\n",
    "        if cnt == no:\n",
    "            break\n",
    "        print(no)\n",
    "        no += 1\n",
    "        driver.back()\n",
    "        time.sleep(2)\n",
    "    n += 1\n",
    "    print(n)\n",
    "    if n%5==0:\n",
    "        driver.find_element_by_class_name('next').click()\n",
    "    else:\n",
    "        driver.find_element_by_link_text('%s'%n).click()\n",
    "    time.sleep(2)\n",
    "\n"
   ]
  },
  {
   "cell_type": "code",
   "execution_count": 181,
   "metadata": {},
   "outputs": [
    {
     "data": {
      "text/plain": [
       "34"
      ]
     },
     "execution_count": 181,
     "metadata": {},
     "output_type": "execute_result"
    }
   ],
   "source": []
  },
  {
   "cell_type": "code",
   "execution_count": 129,
   "metadata": {},
   "outputs": [],
   "source": [
    "html1 = driver.page_source\n",
    "soup1 = BeautifulSoup(html1,'html.parser')\n",
    "table = soup1.find('table','table_style').find('tbody')\n",
    "jemok = table.find_all('td')[0].get_text()\n",
    "ymd = table.find_all('td')[1].get_text()\n",
    "question = soup1.find('div','table_inner_desc').get_text().replace('\\t','')\n",
    "answer = soup1.find('div','table_inner_desc').get_text().replace('\\t','')"
   ]
  },
  {
   "cell_type": "code",
   "execution_count": 140,
   "metadata": {},
   "outputs": [],
   "source": [
    "n=2"
   ]
  },
  {
   "cell_type": "code",
   "execution_count": 141,
   "metadata": {},
   "outputs": [],
   "source": [
    "driver.find_element_by_link_text('%s'%n).click()"
   ]
  },
  {
   "cell_type": "code",
   "execution_count": 145,
   "metadata": {},
   "outputs": [],
   "source": []
  },
  {
   "cell_type": "code",
   "execution_count": 35,
   "metadata": {},
   "outputs": [],
   "source": [
    "driver.find_element_by_link_text('노력하는 개미의 세금으로 배불러지는 ...').click()"
   ]
  },
  {
   "cell_type": "code",
   "execution_count": null,
   "metadata": {},
   "outputs": [],
   "source": [
    "f_dir = input(\"결과 파일을 저장할 폴더명만 적으시오\")"
   ]
  },
  {
   "cell_type": "code",
   "execution_count": null,
   "metadata": {},
   "outputs": [],
   "source": [
    "#드롭다운 선택\n",
    "\n",
    "driver.find_element_by_xpath().click()\n",
    "driver.find_by_link_text('여행지').click()\n",
    "\n",
    "driver.find_element_by_xpath().click()\n",
    "element1 = Select(driver.find_element_by_id('areaselect'))\n",
    "element1.select_by_value(a_value)\n",
    "\n",
    "time.sleep(2)\n",
    "\n",
    "driver.back() #이전페이지로 돌아가기"
   ]
  }
 ],
 "metadata": {
  "kernelspec": {
   "display_name": "Python 3",
   "language": "python",
   "name": "python3"
  },
  "language_info": {
   "codemirror_mode": {
    "name": "ipython",
    "version": 3
   },
   "file_extension": ".py",
   "mimetype": "text/x-python",
   "name": "python",
   "nbconvert_exporter": "python",
   "pygments_lexer": "ipython3",
   "version": "3.7.6"
  }
 },
 "nbformat": 4,
 "nbformat_minor": 4
}
