{
 "cells": [
  {
   "cell_type": "code",
   "execution_count": 1,
   "metadata": {},
   "outputs": [],
   "source": [
    "# 입력 저장 처리 출력\n",
    "# 입력: 키보드로 글자 입력받기, 파일 내용 불러오기\n",
    "# 저장: 변수(타입, 클래스)\n",
    "# 처리: 연산, 분기, 반복, 함수\n",
    "# 출력: 화면에 글자 출력하기, 파일 내용 저장하기"
   ]
  },
  {
   "cell_type": "code",
   "execution_count": 3,
   "metadata": {},
   "outputs": [
    {
     "data": {
      "text/plain": [
       "'\\nmyNameIs : 낙타 - 함수\\nMyNameIs : 파스칼 - 클래스명\\nmy_name_is : 스네이크 - 변수명\\nstrMynameis : 헝가리안\\n'"
      ]
     },
     "execution_count": 3,
     "metadata": {},
     "output_type": "execute_result"
    }
   ],
   "source": [
    "# 1. 저장\n",
    "# 변수\n",
    "a = 13 # a라는 이름을 가진 저장 공간을 만들고 13이라는 값을 저장한다.\n",
    "b = \"hi\" #\"\"없이 사용하면 문자와 변수를 구분하기가 힘들다\n",
    "\n",
    "# 변수의 타입\n",
    "# 정수(int), 실수(float), 문자열(str), 불대수(bool)\n",
    "str(a) # 형변환\n",
    "\n",
    "# 리스트, 딕트, 튜플, 셋\n",
    "# 변수의 이름 만들기\n",
    "# 문법 규칙\n",
    "# 1. 대소문자를 구분한다.\n",
    "# 2. 숫자로 시작할 수 없다.\n",
    "# 3. 특수문자는 _만 사용\n",
    "# 4. 띄어쓰기 금지\n",
    "# 5. 한글 사용 가능\n",
    "# 6. 예약어 사용 금지\n",
    "\n",
    "# 관례적 규칙\n",
    "# 1. 명사, 동사 사용 (형용사X) + 변수의 내용을 명확히 알 수 있게\n",
    "# 2. 표기법\n",
    "\"\"\"\n",
    "myNameIs : 낙타 - 함수\n",
    "MyNameIs : 파스칼 - 클래스명\n",
    "my_name_is : 스네이크 - 변수명\n",
    "strMynameis : 헝가리안\n",
    "\"\"\"\n",
    "\n",
    "# 변수의 사용처\n",
    "# 1. 저장\n",
    "# 2. 함수의 매개변수\n",
    "# 3. 연산의 피연산자"
   ]
  },
  {
   "cell_type": "code",
   "execution_count": 19,
   "metadata": {},
   "outputs": [
    {
     "name": "stdout",
     "output_type": "stream",
     "text": [
      "이름을 입력하세요 : Jake\n",
      "Hi-Jake-Welcome!come\n"
     ]
    }
   ],
   "source": [
    "# 입력, 출력\n",
    "name = input(\"이름을 입력하세요 : \")\n",
    "# input으로 입력받은 데이터는 무조건 글자다\n",
    "# 다른 데이터 타입으로 바꿔야 할 경우 -> 형변환을 한다.\n",
    "print(\"Hi\",name, \"Welcome\",sep =\"-\",end=\"!\") #옵션은 맨 끝에 들어가야 한다.\n",
    "print(\"come\")"
   ]
  },
  {
   "cell_type": "code",
   "execution_count": 11,
   "metadata": {},
   "outputs": [
    {
     "data": {
      "text/plain": [
       "'123'"
      ]
     },
     "execution_count": 11,
     "metadata": {},
     "output_type": "execute_result"
    }
   ],
   "source": [
    "name"
   ]
  },
  {
   "cell_type": "code",
   "execution_count": 20,
   "metadata": {},
   "outputs": [],
   "source": [
    "# 영화 제목을 입력받아서\n",
    "# movie_title 이라는 변수에 저장한 후\n",
    "# 화면에 '제목 : 입력된 영화제목' 형태로 출력하시오"
   ]
  },
  {
   "cell_type": "code",
   "execution_count": 21,
   "metadata": {},
   "outputs": [
    {
     "name": "stdout",
     "output_type": "stream",
     "text": [
      "영화 제목 입력:포드 v 페라리\n",
      "제목 : 포드 v 페라리\n"
     ]
    }
   ],
   "source": [
    "movie_title = input(\"영화 제목 입력:\")\n",
    "print(\"제목 :\",movie_title)"
   ]
  },
  {
   "cell_type": "code",
   "execution_count": null,
   "metadata": {},
   "outputs": [],
   "source": [
    "# 처리 : 연산, 분기, 반복\n",
    "# 연산 : 산술 연산, 논리 연산, 문자열 연산\n",
    "# 1. 산술연산 - 사칙연산\n",
    "e = 1 + 7\n",
    "f = a - 5\n",
    "g = 6 * b\n",
    "h = c / d\n",
    "# 2. 특수연산 - \n",
    "2 ** 3 # 지수\n",
    "7 // 2 # 몫\n",
    "9 % 5 # 나머지\n",
    "# 3. 문자열 연산\n",
    "\"Hi\" + \"Hello\" # 문자열 합치기\n",
    "\"Hi\" * 3 # 문자열 반복"
   ]
  },
  {
   "cell_type": "code",
   "execution_count": 30,
   "metadata": {},
   "outputs": [
    {
     "name": "stdout",
     "output_type": "stream",
     "text": [
      "hi\n",
      "hello\n"
     ]
    }
   ],
   "source": [
    "print(\"hi\\nhello\") # 입력과 출력은 다른 기기와의 소통을 많이해야하기 때문에 자원을 많이 소모한다"
   ]
  },
  {
   "cell_type": "code",
   "execution_count": null,
   "metadata": {},
   "outputs": [],
   "source": [
    "# 처리 - 분기, 반복\n",
    "# A 조건식 - 명제\n",
    "# 참 거짓을 판별 - True False\n",
    "# 비교구문 \n",
    "\"\"\"\n",
    "a > b\n",
    "a < b\n",
    "a >= b\n",
    "a <= b\n",
    "a == b\n",
    "a != b\n",
    "\"\"\"\n",
    "# B 실행구문 \n",
    "\n",
    "if [A]: # if 키워드는 딱 1번 등장\n",
    "    [B]\n",
    "elif [A]: # 여러번 혹은 0번\n",
    "    [B]\n",
    "else: # 1번 혹은 0번\n",
    "    [B]"
   ]
  },
  {
   "cell_type": "code",
   "execution_count": 31,
   "metadata": {},
   "outputs": [
    {
     "name": "stdout",
     "output_type": "stream",
     "text": [
      "같다\n"
     ]
    }
   ],
   "source": [
    "a = 10\n",
    "if a>10:\n",
    "    print(\"크다\")\n",
    "elif a==10:\n",
    "    print(\"같다\")\n",
    "else:\n",
    "    print(\"같지 않다.\")"
   ]
  },
  {
   "cell_type": "code",
   "execution_count": 37,
   "metadata": {},
   "outputs": [
    {
     "name": "stdout",
     "output_type": "stream",
     "text": [
      "체중:60\n",
      "키:165\n",
      "22.03856749311295\n",
      "정상체중\n"
     ]
    }
   ],
   "source": [
    "# BMI - 체중(kg)을 키(m)의 제곱으로 나누면 \n",
    "# 1. 체중을 입력 받는다.\n",
    "weight = input(\"체중:\")\n",
    "weight = float(weight)\n",
    "# 2. 키를 입력 받는다.\n",
    "height = input(\"키:\")\n",
    "height = float(height)\n",
    "# 3. bmi를 계산한다.\n",
    "bmi = weight / ((height/100)**2)\n",
    "# **\n",
    "# *, /, //, %\n",
    "# +. -\n",
    "# 4. bmi를 출력한다.\n",
    "print(bmi)\n",
    "# 18.5 미만 - 저체중\n",
    "# 18.5 이상 23미만 - 정상체중\n",
    "# 23 이상 - 과체중\n",
    "if bmi<18.5:\n",
    "    print(\"저체중\")\n",
    "elif bmi>=23:\n",
    "    print(\"과체중\")\n",
    "else:\n",
    "    print(\"정상체중\")\n",
    "\"\"\"\n",
    "elif 18.5 <= bmi <23:\n",
    "elif bmi <2\n",
    "\"\"\"\n",
    "\n",
    "# && || -파이썬에서 이건 안됨\n",
    "# A and B\n",
    "# A or B\n",
    "# not A\n"
   ]
  },
  {
   "cell_type": "code",
   "execution_count": null,
   "metadata": {},
   "outputs": [],
   "source": [
    "\"\"\"\n",
    "숫자 : 0만 False\n",
    "문자 : ''만 False\n",
    "불 : False\n",
    "바구니 객체 : [](요소가 없을 때만) False\n",
    "\"\"\""
   ]
  },
  {
   "cell_type": "code",
   "execution_count": null,
   "metadata": {},
   "outputs": [],
   "source": [
    "if not a: #비어있다면(변수가 없다면)\n",
    "    print(\"입력 없음\")\n",
    "    exit()"
   ]
  },
  {
   "cell_type": "code",
   "execution_count": 38,
   "metadata": {},
   "outputs": [
    {
     "name": "stdout",
     "output_type": "stream",
     "text": [
      "\n",
      "''\n"
     ]
    }
   ],
   "source": [
    "test=input()\n",
    "print(\"'\",test,\"'\",sep=\"\")"
   ]
  },
  {
   "cell_type": "code",
   "execution_count": null,
   "metadata": {},
   "outputs": [],
   "source": [
    "# 오류의 종류\n",
    "# 1. 문법 오류\n",
    "# 전체 오류 80% 이상 - 대부분 오타\n",
    "# 2. 런타임 오류\n",
    "# 외부에서 가져온 데이터 명 확인\n",
    "# 3. 논리 오류\n"
   ]
  },
  {
   "cell_type": "code",
   "execution_count": null,
   "metadata": {},
   "outputs": [],
   "source": [
    "# 처리 - 반복문\n",
    "# for - 특정 횟수만큼 반복(바구니 객체에서 하나씩 꺼내서)\n",
    "# while - 특정 조건이 유지되는 동안"
   ]
  },
  {
   "cell_type": "code",
   "execution_count": 50,
   "metadata": {},
   "outputs": [
    {
     "name": "stdout",
     "output_type": "stream",
     "text": [
      "2500\n"
     ]
    }
   ],
   "source": [
    "# 1~9를 출력하는 while문\n",
    "number=1\n",
    "total=0\n",
    "while number < 101:\n",
    "    #print(number)\n",
    "    if number%2==1:\n",
    "        total += number\n",
    "    number = number+1\n",
    "    #number += 1\n",
    "print(total)"
   ]
  },
  {
   "cell_type": "code",
   "execution_count": null,
   "metadata": {},
   "outputs": [],
   "source": [
    "# continue : 만나는 순간 반복의 다음 회차로 이동\n",
    "# break : 만나는 순간 반복문을 탈출 한다."
   ]
  },
  {
   "cell_type": "code",
   "execution_count": 52,
   "metadata": {},
   "outputs": [
    {
     "name": "stdout",
     "output_type": "stream",
     "text": [
      "1\n"
     ]
    }
   ],
   "source": [
    "# 다중반복문을 한 번에 탈출하는 키워드는 없다.\n",
    "a=1\n",
    "b=1\n",
    "while b<10:\n",
    "    A\n",
    "    if not True\n",
    "        continue\n",
    "    B\n",
    "    C\n",
    "    D"
   ]
  },
  {
   "cell_type": "code",
   "execution_count": 53,
   "metadata": {},
   "outputs": [
    {
     "name": "stdout",
     "output_type": "stream",
     "text": [
      "제목 : \n",
      "제목 : \n",
      "제목 :  \n"
     ]
    }
   ],
   "source": [
    "title = input(\"제목 : \")\n",
    "while not title:\n",
    "    title = input(\"제목 : \")"
   ]
  },
  {
   "cell_type": "code",
   "execution_count": null,
   "metadata": {},
   "outputs": [],
   "source": [
    "while True:\n",
    "    if True:\n",
    "        break"
   ]
  },
  {
   "cell_type": "code",
   "execution_count": 51,
   "metadata": {},
   "outputs": [
    {
     "name": "stdout",
     "output_type": "stream",
     "text": [
      "2500\n"
     ]
    }
   ],
   "source": [
    "total = 0\n",
    "for number in range(1,101,2):\n",
    "    total +=number\n",
    "print(total)"
   ]
  },
  {
   "cell_type": "code",
   "execution_count": null,
   "metadata": {},
   "outputs": [],
   "source": [
    "range(y) : 0~y직전까지 1씩 증가하면서 범위 생성\n",
    "range(x,y) : x~y직전가지 1씩 증가하면서 범위 생성\n",
    "range(x,y,z) : x~y직전까지 z씩 증가하면서 범위 생성\n",
    "# 파이썬에서 x,y는 x에서 y미만까지"
   ]
  },
  {
   "cell_type": "code",
   "execution_count": null,
   "metadata": {},
   "outputs": [],
   "source": [
    "for 지역변수명 in [바구니객체]:\n",
    "    [실행구문]"
   ]
  },
  {
   "cell_type": "code",
   "execution_count": null,
   "metadata": {},
   "outputs": [],
   "source": []
  },
  {
   "cell_type": "code",
   "execution_count": null,
   "metadata": {},
   "outputs": [],
   "source": []
  }
 ],
 "metadata": {
  "kernelspec": {
   "display_name": "Python 3",
   "language": "python",
   "name": "python3"
  },
  "language_info": {
   "codemirror_mode": {
    "name": "ipython",
    "version": 3
   },
   "file_extension": ".py",
   "mimetype": "text/x-python",
   "name": "python",
   "nbconvert_exporter": "python",
   "pygments_lexer": "ipython3",
   "version": "3.7.6"
  }
 },
 "nbformat": 4,
 "nbformat_minor": 4
}
