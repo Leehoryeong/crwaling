{
 "cells": [
  {
   "cell_type": "code",
   "execution_count": null,
   "metadata": {},
   "outputs": [],
   "source": [
    "# 이호령_응용통계학과_4학년"
   ]
  },
  {
   "cell_type": "code",
   "execution_count": null,
   "metadata": {},
   "outputs": [],
   "source": [
    "!pip3 install selenium"
   ]
  },
  {
   "cell_type": "code",
   "execution_count": null,
   "metadata": {},
   "outputs": [],
   "source": [
    "# selenium : 웹 브라우저 매크로 프로그램\n",
    "# 제어할 브라우저의 드라이버 파일이 필요"
   ]
  },
  {
   "cell_type": "code",
   "execution_count": 1,
   "metadata": {},
   "outputs": [],
   "source": [
    "from selenium import webdriver"
   ]
  },
  {
   "cell_type": "code",
   "execution_count": 2,
   "metadata": {},
   "outputs": [],
   "source": [
    "driver = webdriver.Chrome('chromedriver.exe')"
   ]
  },
  {
   "cell_type": "code",
   "execution_count": 4,
   "metadata": {},
   "outputs": [],
   "source": [
    "driver.implicitly_wait(5) # 어떤 요소를 찾을 때 기다려주는 시간"
   ]
  },
  {
   "cell_type": "code",
   "execution_count": 10,
   "metadata": {},
   "outputs": [],
   "source": [
    "# 페이지 이동\n",
    "driver.get(\"https://www.naver.com\")"
   ]
  },
  {
   "cell_type": "code",
   "execution_count": 11,
   "metadata": {},
   "outputs": [],
   "source": [
    "# 요소 찾기\n",
    "search_input=driver.find_element_by_xpath('//*[@id=\"query\"]') #xpath는 자체적으로 \"\" 를 가지고 있어 ' '로 묶어준다.\n",
    "# 입력하는 공간은 input, textarea \n",
    "# 클릭, 입력\n",
    "# 글자 입력하기\n",
    "search_input.send_keys(\"겨울왕국2\")\n",
    "search_input.send_keys(\"\\n\")"
   ]
  },
  {
   "cell_type": "code",
   "execution_count": 13,
   "metadata": {},
   "outputs": [],
   "source": [
    "# 요소 찾기\n",
    "news_btn = driver.find_element_by_xpath('//*[@id=\"lnb\"]/div/div[1]/ul/li[6]/a')\n",
    "# 클릭\n",
    "news_btn.click()"
   ]
  },
  {
   "cell_type": "code",
   "execution_count": 14,
   "metadata": {},
   "outputs": [],
   "source": [
    "titles = driver.find_elements_by_css_selector('._sp_each_title')"
   ]
  },
  {
   "cell_type": "code",
   "execution_count": 17,
   "metadata": {},
   "outputs": [
    {
     "name": "stdout",
     "output_type": "stream",
     "text": [
      "손승연 ‘Into the Unknown’ 완벽 소화 “‘겨울왕국2’ 못 봐…팬들이 부탁... http://star.mbn.co.kr/view.php?year=2020&no=96272&refer=portal\n",
      "[#꿀잼여행] 강원권: 어쩌면 올겨울 마지막 설산 트레킹이 될 수도… http://yna.kr/AKR20200131054300062?did=1195m\n",
      "‘축구장 9개’ 규모 자작나무가 펼쳐진…눈 쌓인 강원 겨울 숲으로 http://www.donga.com/news/article/all/20200131/99481281/1\n",
      "SK브로드밴드, 겨울왕국2 등 설맞이 Btv 특집관 공개 http://www.etnews.com/20200123000109\n",
      "'겨울왕국 제천페스티벌'성황리 폐막 http://www.jbnews.com/news/articleView.html?idxno=1276700\n",
      "\"겨울왕국 울릉도로 눈 축제 즐기러 오세요\" http://www.sportsseoul.com/news/read/877860\n",
      "쿠팡, '69%할인' 겨울 침구 시즌오프 세일...미키마우스 캐릭터 기획전도 http://www.babytimes.co.kr/news/articleView.html?idxno=32602\n",
      "'겨울왕국 제천페스티벌' 폐막…중부권 대표 겨울축제로 부상 http://news1.kr/articles/?3825704\n",
      "쌍용차, 화천 겨울왕국 '산천어 축제'에 공식 후원 http://www.iminju.net/news/articleView.html?idxno=51607\n",
      "[이슈톡] 안 팔리는 3,500만 원짜리 '겨울왕국2' 인형 https://imnews.imbc.com/replay/2020/nwtoday/article/5653203_32531.html\n"
     ]
    }
   ],
   "source": [
    "for title in titles:\n",
    "    print(title.text,title.get_attribute('href'))"
   ]
  },
  {
   "cell_type": "code",
   "execution_count": 18,
   "metadata": {},
   "outputs": [],
   "source": [
    "# 네이버 로그인"
   ]
  },
  {
   "cell_type": "code",
   "execution_count": 44,
   "metadata": {},
   "outputs": [],
   "source": [
    "driver.get(\"https://www.naver.com\")"
   ]
  },
  {
   "cell_type": "code",
   "execution_count": 43,
   "metadata": {},
   "outputs": [],
   "source": [
    "login_input=driver.find_element_by_xpath('//*[@id=\"account\"]/div/a/i')\n",
    "login_input.click()"
   ]
  },
  {
   "cell_type": "code",
   "execution_count": 40,
   "metadata": {},
   "outputs": [],
   "source": [
    "id_input=driver.find_element_by_xpath('//*[@id=\"id\"]')\n",
    "id_input.click()\n",
    "id_input.send_keys(\"holavla\")"
   ]
  },
  {
   "cell_type": "code",
   "execution_count": 41,
   "metadata": {},
   "outputs": [],
   "source": [
    "psw_input = driver.find_element_by_xpath('//*[@id=\"pw\"]')\n",
    "psw_input.click()\n",
    "psw_input.send_keys(\"\")"
   ]
  },
  {
   "cell_type": "code",
   "execution_count": 42,
   "metadata": {},
   "outputs": [],
   "source": [
    "check_input = driver.find_element_by_xpath('//*[@id=\"log.login\"]')\n",
    "check_input.click()"
   ]
  },
  {
   "cell_type": "code",
   "execution_count": 65,
   "metadata": {},
   "outputs": [],
   "source": [
    "id_script = \"document.getElementById('id').value='myid'\"\n",
    "pw_script = \"document.getElementById('pw').value='mypwd'\""
   ]
  },
  {
   "cell_type": "code",
   "execution_count": 66,
   "metadata": {},
   "outputs": [],
   "source": [
    "driver.execute_script(id_script)"
   ]
  },
  {
   "cell_type": "code",
   "execution_count": 67,
   "metadata": {},
   "outputs": [],
   "source": [
    "driver.execute_script(pw_script)"
   ]
  },
  {
   "cell_type": "code",
   "execution_count": 69,
   "metadata": {},
   "outputs": [],
   "source": [
    "check_input = driver.find_element_by_xpath('//*[@id=\"log.login\"]')\n",
    "check_input.click()"
   ]
  },
  {
   "cell_type": "code",
   "execution_count": null,
   "metadata": {},
   "outputs": [],
   "source": []
  },
  {
   "cell_type": "code",
   "execution_count": null,
   "metadata": {},
   "outputs": [],
   "source": []
  }
 ],
 "metadata": {
  "kernelspec": {
   "display_name": "Python 3",
   "language": "python",
   "name": "python3"
  },
  "language_info": {
   "codemirror_mode": {
    "name": "ipython",
    "version": 3
   },
   "file_extension": ".py",
   "mimetype": "text/x-python",
   "name": "python",
   "nbconvert_exporter": "python",
   "pygments_lexer": "ipython3",
   "version": "3.8.1"
  }
 },
 "nbformat": 4,
 "nbformat_minor": 4
}
